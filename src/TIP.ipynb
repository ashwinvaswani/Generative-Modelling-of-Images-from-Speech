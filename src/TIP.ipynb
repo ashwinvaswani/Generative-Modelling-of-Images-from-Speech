{
  "nbformat": 4,
  "nbformat_minor": 0,
  "metadata": {
    "colab": {
      "name": "TIP.ipynb",
      "provenance": [],
      "collapsed_sections": [],
      "machine_shape": "hm",
      "include_colab_link": true
    },
    "kernelspec": {
      "name": "python3",
      "display_name": "Python 3"
    },
    "accelerator": "GPU"
  },
  "cells": [
    {
      "cell_type": "markdown",
      "metadata": {
        "id": "view-in-github",
        "colab_type": "text"
      },
      "source": [
        "<a href=\"https://colab.research.google.com/github/ashwinvaswani/Generative-Modelling-of-Images-from-Speech/blob/master/src/TIP.ipynb\" target=\"_parent\"><img src=\"https://colab.research.google.com/assets/colab-badge.svg\" alt=\"Open In Colab\"/></a>"
      ]
    },
    {
      "cell_type": "code",
      "metadata": {
        "id": "G-nalKfifObQ",
        "colab_type": "code",
        "outputId": "ff8c66d7-9243-4a2f-ee19-dc21cb68c8ff",
        "colab": {
          "base_uri": "https://localhost:8080/",
          "height": 665
        }
      },
      "source": [
        "!pip install pydub\n",
        "!pip install pytube==9.5.1\n",
        "!pip install mtcnn\n",
        "!pip install keras-vggface"
      ],
      "execution_count": 0,
      "outputs": [
        {
          "output_type": "stream",
          "text": [
            "Collecting pydub\n",
            "  Downloading https://files.pythonhosted.org/packages/79/db/eaf620b73a1eec3c8c6f8f5b0b236a50f9da88ad57802154b7ba7664d0b8/pydub-0.23.1-py2.py3-none-any.whl\n",
            "Installing collected packages: pydub\n",
            "Successfully installed pydub-0.23.1\n",
            "Collecting pytube==9.5.1\n",
            "  Downloading https://files.pythonhosted.org/packages/dc/f4/848b7be3240300ce6b361b03464d0ab9260cc3230b98321d2bbae3a19c50/pytube-9.5.1-py3-none-any.whl\n",
            "Installing collected packages: pytube\n",
            "Successfully installed pytube-9.5.1\n",
            "Collecting mtcnn\n",
            "\u001b[?25l  Downloading https://files.pythonhosted.org/packages/67/43/abee91792797c609c1bf30f1112117f7a87a713ebaa6ec5201d5555a73ef/mtcnn-0.1.0-py3-none-any.whl (2.3MB)\n",
            "\u001b[K     |████████████████████████████████| 2.3MB 39kB/s \n",
            "\u001b[?25hRequirement already satisfied: opencv-python>=4.1.0 in /usr/local/lib/python3.6/dist-packages (from mtcnn) (4.1.2.30)\n",
            "Requirement already satisfied: keras>=2.0.0 in /usr/local/lib/python3.6/dist-packages (from mtcnn) (2.2.5)\n",
            "Requirement already satisfied: numpy>=1.11.3 in /usr/local/lib/python3.6/dist-packages (from opencv-python>=4.1.0->mtcnn) (1.17.4)\n",
            "Requirement already satisfied: keras-applications>=1.0.8 in /usr/local/lib/python3.6/dist-packages (from keras>=2.0.0->mtcnn) (1.0.8)\n",
            "Requirement already satisfied: six>=1.9.0 in /usr/local/lib/python3.6/dist-packages (from keras>=2.0.0->mtcnn) (1.12.0)\n",
            "Requirement already satisfied: scipy>=0.14 in /usr/local/lib/python3.6/dist-packages (from keras>=2.0.0->mtcnn) (1.3.3)\n",
            "Requirement already satisfied: h5py in /usr/local/lib/python3.6/dist-packages (from keras>=2.0.0->mtcnn) (2.8.0)\n",
            "Requirement already satisfied: keras-preprocessing>=1.1.0 in /usr/local/lib/python3.6/dist-packages (from keras>=2.0.0->mtcnn) (1.1.0)\n",
            "Requirement already satisfied: pyyaml in /usr/local/lib/python3.6/dist-packages (from keras>=2.0.0->mtcnn) (3.13)\n",
            "Installing collected packages: mtcnn\n",
            "Successfully installed mtcnn-0.1.0\n",
            "Collecting keras-vggface\n",
            "  Downloading https://files.pythonhosted.org/packages/2f/7d/5f0319ebdc09ac1a2272364fa9583f5067b6f8aff93fbbf8835d81cbaad7/keras_vggface-0.6-py3-none-any.whl\n",
            "Requirement already satisfied: numpy>=1.9.1 in /usr/local/lib/python3.6/dist-packages (from keras-vggface) (1.17.4)\n",
            "Requirement already satisfied: scipy>=0.14 in /usr/local/lib/python3.6/dist-packages (from keras-vggface) (1.3.3)\n",
            "Requirement already satisfied: six>=1.9.0 in /usr/local/lib/python3.6/dist-packages (from keras-vggface) (1.12.0)\n",
            "Requirement already satisfied: keras in /usr/local/lib/python3.6/dist-packages (from keras-vggface) (2.2.5)\n",
            "Requirement already satisfied: pyyaml in /usr/local/lib/python3.6/dist-packages (from keras-vggface) (3.13)\n",
            "Requirement already satisfied: pillow in /usr/local/lib/python3.6/dist-packages (from keras-vggface) (4.3.0)\n",
            "Requirement already satisfied: h5py in /usr/local/lib/python3.6/dist-packages (from keras-vggface) (2.8.0)\n",
            "Requirement already satisfied: keras-applications>=1.0.8 in /usr/local/lib/python3.6/dist-packages (from keras->keras-vggface) (1.0.8)\n",
            "Requirement already satisfied: keras-preprocessing>=1.1.0 in /usr/local/lib/python3.6/dist-packages (from keras->keras-vggface) (1.1.0)\n",
            "Requirement already satisfied: olefile in /usr/local/lib/python3.6/dist-packages (from pillow->keras-vggface) (0.46)\n",
            "Installing collected packages: keras-vggface\n",
            "Successfully installed keras-vggface-0.6\n"
          ],
          "name": "stdout"
        }
      ]
    },
    {
      "cell_type": "code",
      "metadata": {
        "id": "SF1Pb6eX-pl5",
        "colab_type": "code",
        "outputId": "801f0fa0-2686-465d-a80e-e9bf7f3f98ff",
        "colab": {
          "base_uri": "https://localhost:8080/",
          "height": 127
        }
      },
      "source": [
        "!pip install youtube-dl"
      ],
      "execution_count": 0,
      "outputs": [
        {
          "output_type": "stream",
          "text": [
            "Collecting youtube-dl\n",
            "\u001b[?25l  Downloading https://files.pythonhosted.org/packages/58/38/1215e2bae8cd0b1a52621740add46cebfa8bb988a48cd61cf7cccf7c09c6/youtube_dl-2019.11.28-py2.py3-none-any.whl (1.8MB)\n",
            "\r\u001b[K     |▏                               | 10kB 17.2MB/s eta 0:00:01\r\u001b[K     |▍                               | 20kB 1.8MB/s eta 0:00:02\r\u001b[K     |▌                               | 30kB 2.6MB/s eta 0:00:01\r\u001b[K     |▊                               | 40kB 1.7MB/s eta 0:00:02\r\u001b[K     |█                               | 51kB 2.1MB/s eta 0:00:01\r\u001b[K     |█                               | 61kB 2.5MB/s eta 0:00:01\r\u001b[K     |█▎                              | 71kB 2.9MB/s eta 0:00:01\r\u001b[K     |█▌                              | 81kB 3.3MB/s eta 0:00:01\r\u001b[K     |█▋                              | 92kB 3.6MB/s eta 0:00:01\r\u001b[K     |█▉                              | 102kB 2.8MB/s eta 0:00:01\r\u001b[K     |██                              | 112kB 2.8MB/s eta 0:00:01\r\u001b[K     |██▏                             | 122kB 2.8MB/s eta 0:00:01\r\u001b[K     |██▍                             | 133kB 2.8MB/s eta 0:00:01\r\u001b[K     |██▌                             | 143kB 2.8MB/s eta 0:00:01\r\u001b[K     |██▊                             | 153kB 2.8MB/s eta 0:00:01\r\u001b[K     |███                             | 163kB 2.8MB/s eta 0:00:01\r\u001b[K     |███                             | 174kB 2.8MB/s eta 0:00:01\r\u001b[K     |███▎                            | 184kB 2.8MB/s eta 0:00:01\r\u001b[K     |███▍                            | 194kB 2.8MB/s eta 0:00:01\r\u001b[K     |███▋                            | 204kB 2.8MB/s eta 0:00:01\r\u001b[K     |███▉                            | 215kB 2.8MB/s eta 0:00:01\r\u001b[K     |████                            | 225kB 2.8MB/s eta 0:00:01\r\u001b[K     |████▏                           | 235kB 2.8MB/s eta 0:00:01\r\u001b[K     |████▍                           | 245kB 2.8MB/s eta 0:00:01\r\u001b[K     |████▌                           | 256kB 2.8MB/s eta 0:00:01\r\u001b[K     |████▊                           | 266kB 2.8MB/s eta 0:00:01\r\u001b[K     |█████                           | 276kB 2.8MB/s eta 0:00:01\r\u001b[K     |█████                           | 286kB 2.8MB/s eta 0:00:01\r\u001b[K     |█████▎                          | 296kB 2.8MB/s eta 0:00:01\r\u001b[K     |█████▍                          | 307kB 2.8MB/s eta 0:00:01\r\u001b[K     |█████▋                          | 317kB 2.8MB/s eta 0:00:01\r\u001b[K     |█████▉                          | 327kB 2.8MB/s eta 0:00:01\r\u001b[K     |██████                          | 337kB 2.8MB/s eta 0:00:01\r\u001b[K     |██████▏                         | 348kB 2.8MB/s eta 0:00:01\r\u001b[K     |██████▍                         | 358kB 2.8MB/s eta 0:00:01\r\u001b[K     |██████▌                         | 368kB 2.8MB/s eta 0:00:01\r\u001b[K     |██████▊                         | 378kB 2.8MB/s eta 0:00:01\r\u001b[K     |██████▉                         | 389kB 2.8MB/s eta 0:00:01\r\u001b[K     |███████                         | 399kB 2.8MB/s eta 0:00:01\r\u001b[K     |███████▎                        | 409kB 2.8MB/s eta 0:00:01\r\u001b[K     |███████▍                        | 419kB 2.8MB/s eta 0:00:01\r\u001b[K     |███████▋                        | 430kB 2.8MB/s eta 0:00:01\r\u001b[K     |███████▉                        | 440kB 2.8MB/s eta 0:00:01\r\u001b[K     |████████                        | 450kB 2.8MB/s eta 0:00:01\r\u001b[K     |████████▏                       | 460kB 2.8MB/s eta 0:00:01\r\u001b[K     |████████▍                       | 471kB 2.8MB/s eta 0:00:01\r\u001b[K     |████████▌                       | 481kB 2.8MB/s eta 0:00:01\r\u001b[K     |████████▊                       | 491kB 2.8MB/s eta 0:00:01\r\u001b[K     |████████▉                       | 501kB 2.8MB/s eta 0:00:01\r\u001b[K     |█████████                       | 512kB 2.8MB/s eta 0:00:01\r\u001b[K     |█████████▎                      | 522kB 2.8MB/s eta 0:00:01\r\u001b[K     |█████████▍                      | 532kB 2.8MB/s eta 0:00:01\r\u001b[K     |█████████▋                      | 542kB 2.8MB/s eta 0:00:01\r\u001b[K     |█████████▉                      | 552kB 2.8MB/s eta 0:00:01\r\u001b[K     |██████████                      | 563kB 2.8MB/s eta 0:00:01\r\u001b[K     |██████████▏                     | 573kB 2.8MB/s eta 0:00:01\r\u001b[K     |██████████▎                     | 583kB 2.8MB/s eta 0:00:01\r\u001b[K     |██████████▌                     | 593kB 2.8MB/s eta 0:00:01\r\u001b[K     |██████████▊                     | 604kB 2.8MB/s eta 0:00:01\r\u001b[K     |██████████▉                     | 614kB 2.8MB/s eta 0:00:01\r\u001b[K     |███████████                     | 624kB 2.8MB/s eta 0:00:01\r\u001b[K     |███████████▎                    | 634kB 2.8MB/s eta 0:00:01\r\u001b[K     |███████████▍                    | 645kB 2.8MB/s eta 0:00:01\r\u001b[K     |███████████▋                    | 655kB 2.8MB/s eta 0:00:01\r\u001b[K     |███████████▉                    | 665kB 2.8MB/s eta 0:00:01\r\u001b[K     |████████████                    | 675kB 2.8MB/s eta 0:00:01\r\u001b[K     |████████████▏                   | 686kB 2.8MB/s eta 0:00:01\r\u001b[K     |████████████▎                   | 696kB 2.8MB/s eta 0:00:01\r\u001b[K     |████████████▌                   | 706kB 2.8MB/s eta 0:00:01\r\u001b[K     |████████████▊                   | 716kB 2.8MB/s eta 0:00:01\r\u001b[K     |████████████▉                   | 727kB 2.8MB/s eta 0:00:01\r\u001b[K     |█████████████                   | 737kB 2.8MB/s eta 0:00:01\r\u001b[K     |█████████████▎                  | 747kB 2.8MB/s eta 0:00:01\r\u001b[K     |█████████████▍                  | 757kB 2.8MB/s eta 0:00:01\r\u001b[K     |█████████████▋                  | 768kB 2.8MB/s eta 0:00:01\r\u001b[K     |█████████████▊                  | 778kB 2.8MB/s eta 0:00:01\r\u001b[K     |██████████████                  | 788kB 2.8MB/s eta 0:00:01\r\u001b[K     |██████████████▏                 | 798kB 2.8MB/s eta 0:00:01\r\u001b[K     |██████████████▎                 | 808kB 2.8MB/s eta 0:00:01\r\u001b[K     |██████████████▌                 | 819kB 2.8MB/s eta 0:00:01\r\u001b[K     |██████████████▊                 | 829kB 2.8MB/s eta 0:00:01\r\u001b[K     |██████████████▉                 | 839kB 2.8MB/s eta 0:00:01\r\u001b[K     |███████████████                 | 849kB 2.8MB/s eta 0:00:01\r\u001b[K     |███████████████▎                | 860kB 2.8MB/s eta 0:00:01\r\u001b[K     |███████████████▍                | 870kB 2.8MB/s eta 0:00:01\r\u001b[K     |███████████████▋                | 880kB 2.8MB/s eta 0:00:01\r\u001b[K     |███████████████▊                | 890kB 2.8MB/s eta 0:00:01\r\u001b[K     |████████████████                | 901kB 2.8MB/s eta 0:00:01\r\u001b[K     |████████████████▏               | 911kB 2.8MB/s eta 0:00:01\r\u001b[K     |████████████████▎               | 921kB 2.8MB/s eta 0:00:01\r\u001b[K     |████████████████▌               | 931kB 2.8MB/s eta 0:00:01\r\u001b[K     |████████████████▊               | 942kB 2.8MB/s eta 0:00:01\r\u001b[K     |████████████████▉               | 952kB 2.8MB/s eta 0:00:01\r\u001b[K     |█████████████████               | 962kB 2.8MB/s eta 0:00:01\r\u001b[K     |█████████████████▏              | 972kB 2.8MB/s eta 0:00:01\r\u001b[K     |█████████████████▍              | 983kB 2.8MB/s eta 0:00:01\r\u001b[K     |█████████████████▋              | 993kB 2.8MB/s eta 0:00:01\r\u001b[K     |█████████████████▊              | 1.0MB 2.8MB/s eta 0:00:01\r\u001b[K     |██████████████████              | 1.0MB 2.8MB/s eta 0:00:01\r\u001b[K     |██████████████████▏             | 1.0MB 2.8MB/s eta 0:00:01\r\u001b[K     |██████████████████▎             | 1.0MB 2.8MB/s eta 0:00:01\r\u001b[K     |██████████████████▌             | 1.0MB 2.8MB/s eta 0:00:01\r\u001b[K     |██████████████████▊             | 1.1MB 2.8MB/s eta 0:00:01\r\u001b[K     |██████████████████▉             | 1.1MB 2.8MB/s eta 0:00:01\r\u001b[K     |███████████████████             | 1.1MB 2.8MB/s eta 0:00:01\r\u001b[K     |███████████████████▏            | 1.1MB 2.8MB/s eta 0:00:01\r\u001b[K     |███████████████████▍            | 1.1MB 2.8MB/s eta 0:00:01\r\u001b[K     |███████████████████▋            | 1.1MB 2.8MB/s eta 0:00:01\r\u001b[K     |███████████████████▊            | 1.1MB 2.8MB/s eta 0:00:01\r\u001b[K     |████████████████████            | 1.1MB 2.8MB/s eta 0:00:01\r\u001b[K     |████████████████████▏           | 1.1MB 2.8MB/s eta 0:00:01\r\u001b[K     |████████████████████▎           | 1.1MB 2.8MB/s eta 0:00:01\r\u001b[K     |████████████████████▌           | 1.2MB 2.8MB/s eta 0:00:01\r\u001b[K     |████████████████████▋           | 1.2MB 2.8MB/s eta 0:00:01\r\u001b[K     |████████████████████▉           | 1.2MB 2.8MB/s eta 0:00:01\r\u001b[K     |█████████████████████           | 1.2MB 2.8MB/s eta 0:00:01\r\u001b[K     |█████████████████████▏          | 1.2MB 2.8MB/s eta 0:00:01\r\u001b[K     |█████████████████████▍          | 1.2MB 2.8MB/s eta 0:00:01\r\u001b[K     |█████████████████████▋          | 1.2MB 2.8MB/s eta 0:00:01\r\u001b[K     |█████████████████████▊          | 1.2MB 2.8MB/s eta 0:00:01\r\u001b[K     |██████████████████████          | 1.2MB 2.8MB/s eta 0:00:01\r\u001b[K     |██████████████████████▏         | 1.2MB 2.8MB/s eta 0:00:01\r\u001b[K     |██████████████████████▎         | 1.3MB 2.8MB/s eta 0:00:01\r\u001b[K     |██████████████████████▌         | 1.3MB 2.8MB/s eta 0:00:01\r\u001b[K     |██████████████████████▋         | 1.3MB 2.8MB/s eta 0:00:01\r\u001b[K     |██████████████████████▉         | 1.3MB 2.8MB/s eta 0:00:01\r\u001b[K     |███████████████████████         | 1.3MB 2.8MB/s eta 0:00:01\r\u001b[K     |███████████████████████▏        | 1.3MB 2.8MB/s eta 0:00:01\r\u001b[K     |███████████████████████▍        | 1.3MB 2.8MB/s eta 0:00:01\r\u001b[K     |███████████████████████▋        | 1.3MB 2.8MB/s eta 0:00:01\r\u001b[K     |███████████████████████▊        | 1.3MB 2.8MB/s eta 0:00:01\r\u001b[K     |████████████████████████        | 1.4MB 2.8MB/s eta 0:00:01\r\u001b[K     |████████████████████████        | 1.4MB 2.8MB/s eta 0:00:01\r\u001b[K     |████████████████████████▎       | 1.4MB 2.8MB/s eta 0:00:01\r\u001b[K     |████████████████████████▌       | 1.4MB 2.8MB/s eta 0:00:01\r\u001b[K     |████████████████████████▋       | 1.4MB 2.8MB/s eta 0:00:01\r\u001b[K     |████████████████████████▉       | 1.4MB 2.8MB/s eta 0:00:01\r\u001b[K     |█████████████████████████       | 1.4MB 2.8MB/s eta 0:00:01\r\u001b[K     |█████████████████████████▏      | 1.4MB 2.8MB/s eta 0:00:01\r\u001b[K     |█████████████████████████▍      | 1.4MB 2.8MB/s eta 0:00:01\r\u001b[K     |█████████████████████████▋      | 1.4MB 2.8MB/s eta 0:00:01\r\u001b[K     |█████████████████████████▊      | 1.5MB 2.8MB/s eta 0:00:01\r\u001b[K     |██████████████████████████      | 1.5MB 2.8MB/s eta 0:00:01\r\u001b[K     |██████████████████████████      | 1.5MB 2.8MB/s eta 0:00:01\r\u001b[K     |██████████████████████████▎     | 1.5MB 2.8MB/s eta 0:00:01\r\u001b[K     |██████████████████████████▌     | 1.5MB 2.8MB/s eta 0:00:01\r\u001b[K     |██████████████████████████▋     | 1.5MB 2.8MB/s eta 0:00:01\r\u001b[K     |██████████████████████████▉     | 1.5MB 2.8MB/s eta 0:00:01\r\u001b[K     |███████████████████████████     | 1.5MB 2.8MB/s eta 0:00:01\r\u001b[K     |███████████████████████████▏    | 1.5MB 2.8MB/s eta 0:00:01\r\u001b[K     |███████████████████████████▍    | 1.5MB 2.8MB/s eta 0:00:01\r\u001b[K     |███████████████████████████▌    | 1.6MB 2.8MB/s eta 0:00:01\r\u001b[K     |███████████████████████████▊    | 1.6MB 2.8MB/s eta 0:00:01\r\u001b[K     |████████████████████████████    | 1.6MB 2.8MB/s eta 0:00:01\r\u001b[K     |████████████████████████████    | 1.6MB 2.8MB/s eta 0:00:01\r\u001b[K     |████████████████████████████▎   | 1.6MB 2.8MB/s eta 0:00:01\r\u001b[K     |████████████████████████████▌   | 1.6MB 2.8MB/s eta 0:00:01\r\u001b[K     |████████████████████████████▋   | 1.6MB 2.8MB/s eta 0:00:01\r\u001b[K     |████████████████████████████▉   | 1.6MB 2.8MB/s eta 0:00:01\r\u001b[K     |█████████████████████████████   | 1.6MB 2.8MB/s eta 0:00:01\r\u001b[K     |█████████████████████████████▏  | 1.6MB 2.8MB/s eta 0:00:01\r\u001b[K     |█████████████████████████████▍  | 1.7MB 2.8MB/s eta 0:00:01\r\u001b[K     |█████████████████████████████▌  | 1.7MB 2.8MB/s eta 0:00:01\r\u001b[K     |█████████████████████████████▊  | 1.7MB 2.8MB/s eta 0:00:01\r\u001b[K     |██████████████████████████████  | 1.7MB 2.8MB/s eta 0:00:01\r\u001b[K     |██████████████████████████████  | 1.7MB 2.8MB/s eta 0:00:01\r\u001b[K     |██████████████████████████████▎ | 1.7MB 2.8MB/s eta 0:00:01\r\u001b[K     |██████████████████████████████▌ | 1.7MB 2.8MB/s eta 0:00:01\r\u001b[K     |██████████████████████████████▋ | 1.7MB 2.8MB/s eta 0:00:01\r\u001b[K     |██████████████████████████████▉ | 1.7MB 2.8MB/s eta 0:00:01\r\u001b[K     |███████████████████████████████ | 1.8MB 2.8MB/s eta 0:00:01\r\u001b[K     |███████████████████████████████▏| 1.8MB 2.8MB/s eta 0:00:01\r\u001b[K     |███████████████████████████████▍| 1.8MB 2.8MB/s eta 0:00:01\r\u001b[K     |███████████████████████████████▌| 1.8MB 2.8MB/s eta 0:00:01\r\u001b[K     |███████████████████████████████▊| 1.8MB 2.8MB/s eta 0:00:01\r\u001b[K     |████████████████████████████████| 1.8MB 2.8MB/s eta 0:00:01\r\u001b[K     |████████████████████████████████| 1.8MB 2.8MB/s \n",
            "\u001b[?25hInstalling collected packages: youtube-dl\n",
            "Successfully installed youtube-dl-2019.11.28\n"
          ],
          "name": "stdout"
        }
      ]
    },
    {
      "cell_type": "code",
      "metadata": {
        "id": "ag9GmoUm-5Q3",
        "colab_type": "code",
        "outputId": "2e696338-4f88-4fde-e5a3-c8ba3405508e",
        "colab": {
          "base_uri": "https://localhost:8080/",
          "height": 82
        }
      },
      "source": [
        "# Importing Libraries\n",
        "import pandas as pd\n",
        "import numpy as np\n",
        "import matplotlib.pyplot as plt\n",
        "\n",
        "import cv2 \n",
        "import os\n",
        "import sys\n",
        "import moviepy.editor as mp\n",
        "import pickle\n",
        "\n",
        "import math\n",
        "from math import ceil\n",
        "from math import floor\n",
        "import time\n",
        "\n",
        "from pydub import AudioSegment\n",
        "from pytube import YouTube\n",
        "\n",
        "################# TEMP ####################\n",
        "import youtube_dl\n",
        "########################################### \n",
        "\n",
        "import shutil\n",
        "\n",
        "import IPython.display as ipd\n",
        "import librosa\n",
        "import librosa.display\n",
        "\n",
        "import dlib\n",
        "\n",
        "from matplotlib.backends.backend_agg import FigureCanvasAgg as FigureCanvas\n",
        "from numpy import expand_dims\n",
        "from matplotlib import pyplot\n",
        "from PIL import Image\n",
        "from numpy import asarray\n",
        "from keras_vggface.vggface import VGGFace\n",
        "from keras_vggface.utils import preprocess_input\n",
        "from keras_vggface.utils import decode_predictions"
      ],
      "execution_count": 0,
      "outputs": [
        {
          "output_type": "stream",
          "text": [
            "Using TensorFlow backend.\n"
          ],
          "name": "stderr"
        },
        {
          "output_type": "display_data",
          "data": {
            "text/html": [
              "<p style=\"color: red;\">\n",
              "The default version of TensorFlow in Colab will soon switch to TensorFlow 2.x.<br>\n",
              "We recommend you <a href=\"https://www.tensorflow.org/guide/migrate\" target=\"_blank\">upgrade</a> now \n",
              "or ensure your notebook will continue to use TensorFlow 1.x via the <code>%tensorflow_version 1.x</code> magic:\n",
              "<a href=\"https://colab.research.google.com/notebooks/tensorflow_version.ipynb\" target=\"_blank\">more info</a>.</p>\n"
            ],
            "text/plain": [
              "<IPython.core.display.HTML object>"
            ]
          },
          "metadata": {
            "tags": []
          }
        }
      ]
    },
    {
      "cell_type": "code",
      "metadata": {
        "id": "HbnCURGp_E8W",
        "colab_type": "code",
        "outputId": "31a8145b-dd87-410b-e1d6-6b4501348071",
        "colab": {
          "base_uri": "https://localhost:8080/",
          "height": 127
        }
      },
      "source": [
        "from google.colab import drive\n",
        "drive.mount('/content/drive')"
      ],
      "execution_count": 0,
      "outputs": [
        {
          "output_type": "stream",
          "text": [
            "Go to this URL in a browser: https://accounts.google.com/o/oauth2/auth?client_id=947318989803-6bn6qk8qdgf4n4g3pfee6491hc0brc4i.apps.googleusercontent.com&redirect_uri=urn%3aietf%3awg%3aoauth%3a2.0%3aoob&response_type=code&scope=email%20https%3a%2f%2fwww.googleapis.com%2fauth%2fdocs.test%20https%3a%2f%2fwww.googleapis.com%2fauth%2fdrive%20https%3a%2f%2fwww.googleapis.com%2fauth%2fdrive.photos.readonly%20https%3a%2f%2fwww.googleapis.com%2fauth%2fpeopleapi.readonly\n",
            "\n",
            "Enter your authorization code:\n",
            "··········\n",
            "Mounted at /content/drive\n"
          ],
          "name": "stdout"
        }
      ]
    },
    {
      "cell_type": "code",
      "metadata": {
        "id": "dZAtSuy6_I3q",
        "colab_type": "code",
        "colab": {}
      },
      "source": [
        "PATH = './drive/My Drive/TIP/Dataset/'\n",
        "PATH_TO_MAIN = './drive/My Drive/TIP/'\n",
        "YT_LINK = 'http://www.youtube.com/watch?v='"
      ],
      "execution_count": 0,
      "outputs": []
    },
    {
      "cell_type": "code",
      "metadata": {
        "id": "1gql85lJ_UX0",
        "colab_type": "code",
        "colab": {}
      },
      "source": [
        "column_names = ['YouTube_ID', 'start_segment', 'end_segment', 'X_coordinate', 'Y_coordinate']\n",
        "train_df = pd.read_csv(PATH + 'avspeech_train.csv',names = column_names)\n",
        "test_df = pd.read_csv(PATH + 'avspeech_test.csv',names = column_names)"
      ],
      "execution_count": 0,
      "outputs": []
    },
    {
      "cell_type": "code",
      "metadata": {
        "id": "hNkryG8n_u4g",
        "colab_type": "code",
        "outputId": "18e5e688-312a-4347-dd7f-097df3cb7494",
        "colab": {
          "base_uri": "https://localhost:8080/",
          "height": 204
        }
      },
      "source": [
        "train_df.head()"
      ],
      "execution_count": 0,
      "outputs": [
        {
          "output_type": "execute_result",
          "data": {
            "text/html": [
              "<div>\n",
              "<style scoped>\n",
              "    .dataframe tbody tr th:only-of-type {\n",
              "        vertical-align: middle;\n",
              "    }\n",
              "\n",
              "    .dataframe tbody tr th {\n",
              "        vertical-align: top;\n",
              "    }\n",
              "\n",
              "    .dataframe thead th {\n",
              "        text-align: right;\n",
              "    }\n",
              "</style>\n",
              "<table border=\"1\" class=\"dataframe\">\n",
              "  <thead>\n",
              "    <tr style=\"text-align: right;\">\n",
              "      <th></th>\n",
              "      <th>YouTube_ID</th>\n",
              "      <th>start_segment</th>\n",
              "      <th>end_segment</th>\n",
              "      <th>X_coordinate</th>\n",
              "      <th>Y_coordinate</th>\n",
              "    </tr>\n",
              "  </thead>\n",
              "  <tbody>\n",
              "    <tr>\n",
              "      <th>0</th>\n",
              "      <td>CJoOwXcjhds</td>\n",
              "      <td>233.266000</td>\n",
              "      <td>239.367000</td>\n",
              "      <td>0.780469</td>\n",
              "      <td>0.670833</td>\n",
              "    </tr>\n",
              "    <tr>\n",
              "      <th>1</th>\n",
              "      <td>AvWWVOgaMlk</td>\n",
              "      <td>90.000000</td>\n",
              "      <td>93.566667</td>\n",
              "      <td>0.586719</td>\n",
              "      <td>0.311111</td>\n",
              "    </tr>\n",
              "    <tr>\n",
              "      <th>2</th>\n",
              "      <td>Y8HMIm8mdns</td>\n",
              "      <td>171.607767</td>\n",
              "      <td>174.607767</td>\n",
              "      <td>0.505729</td>\n",
              "      <td>0.240741</td>\n",
              "    </tr>\n",
              "    <tr>\n",
              "      <th>3</th>\n",
              "      <td>akwvpAiLFk0</td>\n",
              "      <td>144.680000</td>\n",
              "      <td>150.000000</td>\n",
              "      <td>0.698438</td>\n",
              "      <td>0.288889</td>\n",
              "    </tr>\n",
              "    <tr>\n",
              "      <th>4</th>\n",
              "      <td>Swss72CHSWg</td>\n",
              "      <td>90.023267</td>\n",
              "      <td>97.297200</td>\n",
              "      <td>0.230729</td>\n",
              "      <td>0.204630</td>\n",
              "    </tr>\n",
              "  </tbody>\n",
              "</table>\n",
              "</div>"
            ],
            "text/plain": [
              "    YouTube_ID  start_segment  end_segment  X_coordinate  Y_coordinate\n",
              "0  CJoOwXcjhds     233.266000   239.367000      0.780469      0.670833\n",
              "1  AvWWVOgaMlk      90.000000    93.566667      0.586719      0.311111\n",
              "2  Y8HMIm8mdns     171.607767   174.607767      0.505729      0.240741\n",
              "3  akwvpAiLFk0     144.680000   150.000000      0.698438      0.288889\n",
              "4  Swss72CHSWg      90.023267    97.297200      0.230729      0.204630"
            ]
          },
          "metadata": {
            "tags": []
          },
          "execution_count": 8
        }
      ]
    },
    {
      "cell_type": "code",
      "metadata": {
        "id": "NxwN707L_x-H",
        "colab_type": "code",
        "outputId": "7eb31787-f2ed-4f4b-a4e2-130b8f15fbd8",
        "colab": {
          "base_uri": "https://localhost:8080/",
          "height": 204
        }
      },
      "source": [
        "test_df.head()"
      ],
      "execution_count": 0,
      "outputs": [
        {
          "output_type": "execute_result",
          "data": {
            "text/html": [
              "<div>\n",
              "<style scoped>\n",
              "    .dataframe tbody tr th:only-of-type {\n",
              "        vertical-align: middle;\n",
              "    }\n",
              "\n",
              "    .dataframe tbody tr th {\n",
              "        vertical-align: top;\n",
              "    }\n",
              "\n",
              "    .dataframe thead th {\n",
              "        text-align: right;\n",
              "    }\n",
              "</style>\n",
              "<table border=\"1\" class=\"dataframe\">\n",
              "  <thead>\n",
              "    <tr style=\"text-align: right;\">\n",
              "      <th></th>\n",
              "      <th>YouTube_ID</th>\n",
              "      <th>start_segment</th>\n",
              "      <th>end_segment</th>\n",
              "      <th>X_coordinate</th>\n",
              "      <th>Y_coordinate</th>\n",
              "    </tr>\n",
              "  </thead>\n",
              "  <tbody>\n",
              "    <tr>\n",
              "      <th>0</th>\n",
              "      <td>u5MPyrRJPmc</td>\n",
              "      <td>108.2400</td>\n",
              "      <td>111.240000</td>\n",
              "      <td>0.849219</td>\n",
              "      <td>0.305556</td>\n",
              "    </tr>\n",
              "    <tr>\n",
              "      <th>1</th>\n",
              "      <td>H1ulMfj5wRY</td>\n",
              "      <td>112.3200</td>\n",
              "      <td>116.940000</td>\n",
              "      <td>0.112500</td>\n",
              "      <td>0.345833</td>\n",
              "    </tr>\n",
              "    <tr>\n",
              "      <th>2</th>\n",
              "      <td>-wuxbgMRIWs</td>\n",
              "      <td>30.0300</td>\n",
              "      <td>36.745044</td>\n",
              "      <td>0.744531</td>\n",
              "      <td>0.211111</td>\n",
              "    </tr>\n",
              "    <tr>\n",
              "      <th>3</th>\n",
              "      <td>GNRPRH-E-sI</td>\n",
              "      <td>30.2302</td>\n",
              "      <td>38.171467</td>\n",
              "      <td>0.333594</td>\n",
              "      <td>0.494444</td>\n",
              "    </tr>\n",
              "    <tr>\n",
              "      <th>4</th>\n",
              "      <td>VvcwAGkSy2o</td>\n",
              "      <td>240.2000</td>\n",
              "      <td>253.366667</td>\n",
              "      <td>0.491667</td>\n",
              "      <td>0.372222</td>\n",
              "    </tr>\n",
              "  </tbody>\n",
              "</table>\n",
              "</div>"
            ],
            "text/plain": [
              "    YouTube_ID  start_segment  end_segment  X_coordinate  Y_coordinate\n",
              "0  u5MPyrRJPmc       108.2400   111.240000      0.849219      0.305556\n",
              "1  H1ulMfj5wRY       112.3200   116.940000      0.112500      0.345833\n",
              "2  -wuxbgMRIWs        30.0300    36.745044      0.744531      0.211111\n",
              "3  GNRPRH-E-sI        30.2302    38.171467      0.333594      0.494444\n",
              "4  VvcwAGkSy2o       240.2000   253.366667      0.491667      0.372222"
            ]
          },
          "metadata": {
            "tags": []
          },
          "execution_count": 9
        }
      ]
    },
    {
      "cell_type": "code",
      "metadata": {
        "id": "XPS_NJEsVX2v",
        "colab_type": "code",
        "outputId": "f7734fd7-b828-4e27-9331-63171168d894",
        "colab": {
          "base_uri": "https://localhost:8080/",
          "height": 35
        }
      },
      "source": [
        "YT_LINK + train_df.iloc[4][\"YouTube_ID\"]"
      ],
      "execution_count": 0,
      "outputs": [
        {
          "output_type": "execute_result",
          "data": {
            "text/plain": [
              "'http://www.youtube.com/watch?v=Swss72CHSWg'"
            ]
          },
          "metadata": {
            "tags": []
          },
          "execution_count": 10
        }
      ]
    },
    {
      "cell_type": "code",
      "metadata": {
        "id": "dg5riw1dQDGd",
        "colab_type": "code",
        "colab": {}
      },
      "source": [
        "# yt = YouTube('www.youtube.com/watch?v=AvWWVOgaMlk')"
      ],
      "execution_count": 0,
      "outputs": []
    },
    {
      "cell_type": "code",
      "metadata": {
        "id": "7Lkvf8f0-t-U",
        "colab_type": "code",
        "colab": {}
      },
      "source": [
        "def dwl_vid(zxt): \n",
        "    with youtube_dl.YoutubeDL(ydl_opts) as ydl: \n",
        "        ydl.download([zxt]) "
      ],
      "execution_count": 0,
      "outputs": []
    },
    {
      "cell_type": "code",
      "metadata": {
        "id": "HOenYxt1VJQM",
        "colab_type": "code",
        "outputId": "73ea80dc-2c18-40b5-af33-3e647f9bebd6",
        "colab": {
          "base_uri": "https://localhost:8080/",
          "height": 1000
        }
      },
      "source": [
        "# shutil.rmtree('Images')\n",
        "# shutil.rmtree('Audio')\n",
        "# shutil.rmtree('Videos')\n",
        "shutil.rmtree(PATH_TO_MAIN + 'Face_Images/')\n",
        "os.mkdir(\"Images\")\n",
        "os.mkdir(\"Audio\")\n",
        "os.mkdir(\"Videos\")\n",
        "os.mkdir(PATH_TO_MAIN + 'Face_Images/')\n",
        "\n",
        "len_train = train_df.shape[0]\n",
        "count_unsuccessful = 0\n",
        "dict_audio = {}\n",
        "to_remove = []\n",
        "\n",
        "for i in range(1,150):\n",
        "  if(True):\n",
        "    print(i)\n",
        "    print(YT_LINK + train_df.iloc[i][\"YouTube_ID\"])\n",
        "    try:\n",
        "      # yt = YouTube(YT_LINK + train_df.iloc[i][\"YouTube_ID\"])\n",
        "      # stream = yt.streams.first()\n",
        "      # stream.download(output_path = 'Videos/',filename = train_df.iloc[i][\"YouTube_ID\"])\n",
        "\n",
        "      ################# TEMP ####################\n",
        "      ydl_opts = {'outtmpl':'Videos/'+train_df.iloc[i][\"YouTube_ID\"]} \n",
        "      link = YT_LINK + train_df.iloc[i][\"YouTube_ID\"]\n",
        "      dl_input = link.strip()\n",
        "      dwl_vid(dl_input)\n",
        "      ###########################################\n",
        "\n",
        "      cap = cv2.VideoCapture(\"Videos/\" + train_df.iloc[i][\"YouTube_ID\"] + '.mkv') \n",
        "      fps = cap.get(cv2.CAP_PROP_FPS)\n",
        "      \n",
        "      if fps == 0:\n",
        "        print(\"0 fps\")\n",
        "        continue\n",
        "\n",
        "      count = 0\n",
        "\n",
        "      dir_name = train_df.iloc[i][\"YouTube_ID\"]\n",
        "      \n",
        "      print(\"FPS is : \"  + str(fps))\n",
        "      start_cnt = train_df.iloc[i][\"start_segment\"]\n",
        "      end_cnt = train_df.iloc[i][\"end_segment\"]\n",
        "      \n",
        "      while(1):\n",
        "\n",
        "          ret,frame = cap.read()\n",
        "\n",
        "          if ret == 1:\n",
        "\n",
        "            count += 1\n",
        "\n",
        "            (h, w) = frame.shape[:2]\n",
        "\n",
        "            if (((start_cnt + end_cnt)*fps)/2) - 16 < count < (((start_cnt + end_cnt)*fps)/2) + 16:\n",
        "              dnnFaceDetector = dlib.cnn_face_detection_model_v1( PATH_TO_MAIN + \"Face_detection/mmod_human_face_detector.dat\")\n",
        "              faceRects = dnnFaceDetector(frame, 0)\n",
        "              print(faceRects)\n",
        "\n",
        "              if len(faceRects) == 0:\n",
        "                to_remove.append(dir_name)\n",
        "                continue\n",
        "              for faceRect in faceRects:\n",
        "                  x1 = faceRect.rect.left()\n",
        "                  y1 = faceRect.rect.top()\n",
        "                  x2 = faceRect.rect.right()\n",
        "                  y2 = faceRect.rect.bottom()\n",
        "                  img = frame[y1:y2, x1:x2]\n",
        "                  print(\"About to crop\")\n",
        "                  print(count)\n",
        "                  img = cv2.resize(img, (224,224), interpolation = cv2.INTER_AREA)\n",
        "                  cv2.imwrite('Images/' +dir_name + '.png', img)\n",
        "                  cv2.imwrite(PATH_TO_MAIN + 'Face_Images/' +dir_name + '.png', img)\n",
        "              break\n",
        "\n",
        "\n",
        "            if count > int(end_cnt*fps):\n",
        "              break\n",
        "            k = cv2.waitKey(1)\n",
        "            if k == ord('q'):\n",
        "              break\n",
        "\n",
        "      cap.release()\n",
        "      cv2.destroyAllWindows()\n",
        "      time.sleep(60)\n",
        "    except:\n",
        "      print(\"###########################################\")\n",
        "      print(\"SORRY!!! The video is unavailable\")\n",
        "      print(\"###########################################\")\n",
        "      time.sleep(120)\n",
        "      count_unsuccessful += 1\n",
        "      continue\n",
        "      \n",
        "    try:\n",
        "      clip = mp.VideoFileClip(\"Videos/\" + train_df.iloc[i][\"YouTube_ID\"] + '.mkv').subclip(start_cnt,end_cnt)\n",
        "      clip.audio.write_audiofile(\"Audio/\" + train_df.iloc[i][\"YouTube_ID\"] +'.mp3') \n",
        "      print(\"before dict\")\n",
        "      dict_audio[train_df.iloc[i][\"YouTube_ID\"]] = end_cnt - start_cnt\n",
        "    except:\n",
        "      print(\"###########################################\")\n",
        "      print(\"Error with audio\")  \n",
        "      print(\"###########################################\")\n",
        "      continue\n",
        "    \n",
        "    "
      ],
      "execution_count": 0,
      "outputs": [
        {
          "output_type": "stream",
          "text": [
            "1\n",
            "http://www.youtube.com/watch?v=AvWWVOgaMlk\n",
            "[youtube] AvWWVOgaMlk: Downloading webpage\n",
            "[youtube] AvWWVOgaMlk: Downloading video info webpage\n"
          ],
          "name": "stdout"
        },
        {
          "output_type": "stream",
          "text": [
            "WARNING: Requested formats are incompatible for merge and will be merged into mkv.\n"
          ],
          "name": "stderr"
        },
        {
          "output_type": "stream",
          "text": [
            "[download] Destination: Videos/AvWWVOgaMlk.f136\n",
            "[download] 100% of 251.71MiB in 00:50\n",
            "[download] Destination: Videos/AvWWVOgaMlk.f251\n",
            "[download] 100% of 15.93MiB in 00:01\n",
            "[ffmpeg] Merging formats into \"Videos/AvWWVOgaMlk.mkv\"\n",
            "Deleting original file Videos/AvWWVOgaMlk.f136 (pass -k to keep)\n",
            "Deleting original file Videos/AvWWVOgaMlk.f251 (pass -k to keep)\n",
            "FPS is : 30.0\n",
            "mmod_rectangles[[(532, 80) (871, 420)]]\n",
            "About to crop\n",
            "2738\n",
            "[MoviePy] Writing audio in Audio/AvWWVOgaMlk.mp3\n"
          ],
          "name": "stdout"
        },
        {
          "output_type": "stream",
          "text": [
            "100%|██████████| 79/79 [00:00<00:00, 466.93it/s]"
          ],
          "name": "stderr"
        },
        {
          "output_type": "stream",
          "text": [
            "[MoviePy] Done.\n",
            "before dict\n",
            "2\n",
            "http://www.youtube.com/watch?v=Y8HMIm8mdns\n",
            "[youtube] Y8HMIm8mdns: Downloading webpage\n"
          ],
          "name": "stdout"
        },
        {
          "output_type": "stream",
          "text": [
            "\n"
          ],
          "name": "stderr"
        },
        {
          "output_type": "stream",
          "text": [
            "[youtube] Y8HMIm8mdns: Downloading video info webpage\n"
          ],
          "name": "stdout"
        },
        {
          "output_type": "stream",
          "text": [
            "WARNING: Requested formats are incompatible for merge and will be merged into mkv.\n"
          ],
          "name": "stderr"
        },
        {
          "output_type": "stream",
          "text": [
            "[download] Destination: Videos/Y8HMIm8mdns.f137\n",
            "[download] 100% of 94.12MiB in 00:09\n",
            "[download] Destination: Videos/Y8HMIm8mdns.f251\n",
            "[download] 100% of 6.42MiB in 00:01\n",
            "[ffmpeg] Merging formats into \"Videos/Y8HMIm8mdns.mkv\"\n",
            "Deleting original file Videos/Y8HMIm8mdns.f137 (pass -k to keep)\n",
            "Deleting original file Videos/Y8HMIm8mdns.f251 (pass -k to keep)\n",
            "FPS is : 29.97002997002997\n",
            "mmod_rectangles[[(852, 157) (1088, 393)]]\n",
            "About to crop\n",
            "5173\n",
            "[MoviePy] Writing audio in Audio/Y8HMIm8mdns.mp3\n"
          ],
          "name": "stdout"
        },
        {
          "output_type": "stream",
          "text": [
            "100%|██████████| 67/67 [00:00<00:00, 382.62it/s]"
          ],
          "name": "stderr"
        },
        {
          "output_type": "stream",
          "text": [
            "[MoviePy] Done.\n",
            "before dict\n",
            "3\n",
            "http://www.youtube.com/watch?v=akwvpAiLFk0\n",
            "[youtube] akwvpAiLFk0: Downloading webpage\n"
          ],
          "name": "stdout"
        },
        {
          "output_type": "stream",
          "text": [
            "\n"
          ],
          "name": "stderr"
        },
        {
          "output_type": "stream",
          "text": [
            "[youtube] akwvpAiLFk0: Downloading video info webpage\n",
            "[youtube] akwvpAiLFk0: Downloading MPD manifest\n"
          ],
          "name": "stdout"
        },
        {
          "output_type": "stream",
          "text": [
            "WARNING: Requested formats are incompatible for merge and will be merged into mkv.\n"
          ],
          "name": "stderr"
        },
        {
          "output_type": "stream",
          "text": [
            "[dashsegments] Total fragments: 146\n",
            "[download] Destination: Videos/akwvpAiLFk0.f137\n",
            "[download] 100% of 263.10MiB in 02:11\n",
            "[dashsegments] Total fragments: 76\n",
            "[download] Destination: Videos/akwvpAiLFk0.f251\n",
            "[download] 100% of 10.91MiB in 00:28\n",
            "[ffmpeg] Merging formats into \"Videos/akwvpAiLFk0.mkv\"\n",
            "Deleting original file Videos/akwvpAiLFk0.f137 (pass -k to keep)\n",
            "Deleting original file Videos/akwvpAiLFk0.f251 (pass -k to keep)\n",
            "FPS is : 25.0\n",
            "mmod_rectangles[[(1235, 228) (1471, 464)]]\n",
            "About to crop\n",
            "3668\n",
            "[MoviePy] Writing audio in Audio/akwvpAiLFk0.mp3\n"
          ],
          "name": "stdout"
        },
        {
          "output_type": "stream",
          "text": [
            "100%|██████████| 118/118 [00:00<00:00, 466.24it/s]"
          ],
          "name": "stderr"
        },
        {
          "output_type": "stream",
          "text": [
            "[MoviePy] Done.\n",
            "before dict\n",
            "4\n",
            "http://www.youtube.com/watch?v=Swss72CHSWg\n",
            "[youtube] Swss72CHSWg: Downloading webpage\n"
          ],
          "name": "stdout"
        },
        {
          "output_type": "stream",
          "text": [
            "\n"
          ],
          "name": "stderr"
        },
        {
          "output_type": "stream",
          "text": [
            "[youtube] Swss72CHSWg: Downloading video info webpage\n",
            "[download] Destination: Videos/Swss72CHSWg.f137\n",
            "[download] 100% of 364.40MiB in 00:50\n",
            "[download] Destination: Videos/Swss72CHSWg.f140\n",
            "[download] 100% of 8.38MiB in 00:01\n",
            "[ffmpeg] Merging formats into \"Videos/Swss72CHSWg.mp4\"\n",
            "Deleting original file Videos/Swss72CHSWg.f137 (pass -k to keep)\n",
            "Deleting original file Videos/Swss72CHSWg.f140 (pass -k to keep)\n",
            "0 fps\n",
            "5\n",
            "http://www.youtube.com/watch?v=ymD5uLlLc0g\n",
            "[youtube] ymD5uLlLc0g: Downloading webpage\n",
            "[youtube] ymD5uLlLc0g: Downloading video info webpage\n"
          ],
          "name": "stdout"
        },
        {
          "output_type": "stream",
          "text": [
            "WARNING: Requested formats are incompatible for merge and will be merged into mkv.\n"
          ],
          "name": "stderr"
        },
        {
          "output_type": "stream",
          "text": [
            "[download] Destination: Videos/ymD5uLlLc0g.f137\n",
            "[download] 100% of 216.86MiB in 00:12\n",
            "[download] Destination: Videos/ymD5uLlLc0g.f251\n",
            "[download] 100% of 12.54MiB in 00:01\n",
            "[ffmpeg] Merging formats into \"Videos/ymD5uLlLc0g.mkv\"\n",
            "Deleting original file Videos/ymD5uLlLc0g.f137 (pass -k to keep)\n",
            "Deleting original file Videos/ymD5uLlLc0g.f251 (pass -k to keep)\n",
            "FPS is : 30.0\n",
            "mmod_rectangles[[(454, 373) (794, 712)]]\n",
            "About to crop\n",
            "1138\n",
            "[MoviePy] Writing audio in Audio/ymD5uLlLc0g.mp3\n"
          ],
          "name": "stdout"
        },
        {
          "output_type": "stream",
          "text": [
            "100%|██████████| 108/108 [00:00<00:00, 561.89it/s]"
          ],
          "name": "stderr"
        },
        {
          "output_type": "stream",
          "text": [
            "[MoviePy] Done.\n"
          ],
          "name": "stdout"
        },
        {
          "output_type": "stream",
          "text": [
            "\n"
          ],
          "name": "stderr"
        },
        {
          "output_type": "stream",
          "text": [
            "before dict\n",
            "6\n",
            "http://www.youtube.com/watch?v=DuWE-CQDlEk\n",
            "[youtube] DuWE-CQDlEk: Downloading webpage\n",
            "[youtube] DuWE-CQDlEk: Downloading video info webpage\n"
          ],
          "name": "stdout"
        },
        {
          "output_type": "stream",
          "text": [
            "WARNING: Requested formats are incompatible for merge and will be merged into mkv.\n"
          ],
          "name": "stderr"
        },
        {
          "output_type": "stream",
          "text": [
            "[download] Destination: Videos/DuWE-CQDlEk.f136\n",
            "[download] 100% of 103.68MiB in 00:23\n",
            "[download] Destination: Videos/DuWE-CQDlEk.f251\n",
            "[download] 100% of 29.91MiB in 00:07\n",
            "[ffmpeg] Merging formats into \"Videos/DuWE-CQDlEk.mkv\"\n",
            "Deleting original file Videos/DuWE-CQDlEk.f136 (pass -k to keep)\n",
            "Deleting original file Videos/DuWE-CQDlEk.f251 (pass -k to keep)\n",
            "FPS is : 30.0\n",
            "mmod_rectangles[[(916, 253) (1030, 367)], [(302, 252) (397, 347)]]\n",
            "About to crop\n",
            "6479\n",
            "About to crop\n",
            "6479\n",
            "[MoviePy] Writing audio in Audio/DuWE-CQDlEk.mp3\n"
          ],
          "name": "stdout"
        },
        {
          "output_type": "stream",
          "text": [
            "100%|██████████| 231/231 [00:00<00:00, 531.48it/s]"
          ],
          "name": "stderr"
        },
        {
          "output_type": "stream",
          "text": [
            "[MoviePy] Done.\n",
            "before dict\n",
            "7\n",
            "http://www.youtube.com/watch?v=uCGKDCWxqxo\n",
            "[youtube] uCGKDCWxqxo: Downloading webpage\n"
          ],
          "name": "stdout"
        },
        {
          "output_type": "stream",
          "text": [
            "\n"
          ],
          "name": "stderr"
        },
        {
          "output_type": "stream",
          "text": [
            "[youtube] uCGKDCWxqxo: Downloading video info webpage\n",
            "[download] Destination: Videos/uCGKDCWxqxo.f137\n",
            "[download] 100% of 147.12MiB in 00:33\n",
            "[download] Destination: Videos/uCGKDCWxqxo.f140\n",
            "[download] 100% of 10.11MiB in 00:01\n",
            "[ffmpeg] Merging formats into \"Videos/uCGKDCWxqxo.mp4\"\n",
            "Deleting original file Videos/uCGKDCWxqxo.f137 (pass -k to keep)\n",
            "Deleting original file Videos/uCGKDCWxqxo.f140 (pass -k to keep)\n",
            "0 fps\n",
            "8\n",
            "http://www.youtube.com/watch?v=-A9gdf3j2xo\n",
            "[youtube] -A9gdf3j2xo: Downloading webpage\n",
            "[youtube] -A9gdf3j2xo: Downloading video info webpage\n"
          ],
          "name": "stdout"
        },
        {
          "output_type": "stream",
          "text": [
            "WARNING: Requested formats are incompatible for merge and will be merged into mkv.\n"
          ],
          "name": "stderr"
        },
        {
          "output_type": "stream",
          "text": [
            "[download] Destination: Videos/-A9gdf3j2xo.f137\n",
            "[download] 100% of 290.36MiB in 01:09\n",
            "[download] Destination: Videos/-A9gdf3j2xo.f251\n",
            "[download] 100% of 16.47MiB in 00:01\n",
            "[ffmpeg] Merging formats into \"Videos/-A9gdf3j2xo.mkv\"\n",
            "Deleting original file Videos/-A9gdf3j2xo.f137 (pass -k to keep)\n",
            "Deleting original file Videos/-A9gdf3j2xo.f251 (pass -k to keep)\n",
            "FPS is : 29.97002997002997\n",
            "mmod_rectangles[[(833, 97) (1172, 437)]]\n",
            "About to crop\n",
            "8876\n",
            "[MoviePy] Writing audio in Audio/-A9gdf3j2xo.mp3\n"
          ],
          "name": "stdout"
        },
        {
          "output_type": "stream",
          "text": [
            "100%|██████████| 67/67 [00:00<00:00, 338.27it/s]\n"
          ],
          "name": "stderr"
        },
        {
          "output_type": "stream",
          "text": [
            "[MoviePy] Done.\n",
            "before dict\n",
            "9\n",
            "http://www.youtube.com/watch?v=labiHToR5nk\n",
            "[youtube] labiHToR5nk: Downloading webpage\n",
            "[youtube] labiHToR5nk: Downloading video info webpage\n"
          ],
          "name": "stdout"
        },
        {
          "output_type": "stream",
          "text": [
            "WARNING: Requested formats are incompatible for merge and will be merged into mkv.\n"
          ],
          "name": "stderr"
        },
        {
          "output_type": "stream",
          "text": [
            "[download] Destination: Videos/labiHToR5nk.f247\n",
            "[download] 100% of 72.94MiB in 00:12\n",
            "[download] Destination: Videos/labiHToR5nk.f140\n",
            "[download] 100% of 6.75MiB in 00:01\n",
            "[ffmpeg] Merging formats into \"Videos/labiHToR5nk.mkv\"\n",
            "Deleting original file Videos/labiHToR5nk.f247 (pass -k to keep)\n",
            "Deleting original file Videos/labiHToR5nk.f140 (pass -k to keep)\n",
            "FPS is : 25.0\n",
            "mmod_rectangles[[(560, 170) (697, 306)]]\n",
            "About to crop\n",
            "6685\n",
            "[MoviePy] Writing audio in Audio/labiHToR5nk.mp3\n"
          ],
          "name": "stdout"
        },
        {
          "output_type": "stream",
          "text": [
            "100%|██████████| 67/67 [00:00<00:00, 470.96it/s]"
          ],
          "name": "stderr"
        },
        {
          "output_type": "stream",
          "text": [
            "[MoviePy] Done.\n",
            "before dict\n",
            "10\n",
            "http://www.youtube.com/watch?v=xbgfxIc-nbs\n",
            "[youtube] xbgfxIc-nbs: Downloading webpage\n"
          ],
          "name": "stdout"
        },
        {
          "output_type": "stream",
          "text": [
            "\n"
          ],
          "name": "stderr"
        },
        {
          "output_type": "stream",
          "text": [
            "[youtube] xbgfxIc-nbs: Downloading video info webpage\n",
            "[download] Destination: Videos/xbgfxIc-nbs.f135\n",
            "[download] 100% of 26.31MiB in 00:01\n",
            "[download] Destination: Videos/xbgfxIc-nbs.f140\n",
            "[download] 100% of 5.09MiB in 00:00\n",
            "[ffmpeg] Merging formats into \"Videos/xbgfxIc-nbs.mp4\"\n",
            "Deleting original file Videos/xbgfxIc-nbs.f135 (pass -k to keep)\n",
            "Deleting original file Videos/xbgfxIc-nbs.f140 (pass -k to keep)\n",
            "0 fps\n",
            "11\n",
            "http://www.youtube.com/watch?v=QoQF8N5ZsQA\n",
            "[youtube] QoQF8N5ZsQA: Downloading webpage\n",
            "[youtube] QoQF8N5ZsQA: Downloading video info webpage\n"
          ],
          "name": "stdout"
        },
        {
          "output_type": "stream",
          "text": [
            "WARNING: Requested formats are incompatible for merge and will be merged into mkv.\n"
          ],
          "name": "stderr"
        },
        {
          "output_type": "stream",
          "text": [
            "[download] Destination: Videos/QoQF8N5ZsQA.f298\n",
            "[download] 100% of 91.69MiB in 00:13\n",
            "[download] Destination: Videos/QoQF8N5ZsQA.f251\n",
            "[download] 100% of 6.58MiB in 00:01\n",
            "[ffmpeg] Merging formats into \"Videos/QoQF8N5ZsQA.mkv\"\n",
            "Deleting original file Videos/QoQF8N5ZsQA.f298 (pass -k to keep)\n",
            "Deleting original file Videos/QoQF8N5ZsQA.f251 (pass -k to keep)\n",
            "FPS is : 59.94006309148265\n",
            "mmod_rectangles[[(452, 145) (688, 381)]]\n",
            "About to crop\n",
            "14519\n",
            "[MoviePy] Writing audio in Audio/QoQF8N5ZsQA.mp3\n"
          ],
          "name": "stdout"
        },
        {
          "output_type": "stream",
          "text": [
            "100%|██████████| 110/110 [00:00<00:00, 482.89it/s]"
          ],
          "name": "stderr"
        },
        {
          "output_type": "stream",
          "text": [
            "[MoviePy] Done.\n",
            "before dict\n",
            "12\n",
            "http://www.youtube.com/watch?v=307DK9nGQhw\n",
            "[youtube] 307DK9nGQhw: Downloading webpage\n"
          ],
          "name": "stdout"
        },
        {
          "output_type": "stream",
          "text": [
            "\n"
          ],
          "name": "stderr"
        },
        {
          "output_type": "stream",
          "text": [
            "[youtube] 307DK9nGQhw: Downloading video info webpage\n",
            "[youtube] 307DK9nGQhw: Downloading js player vfl22ubNH\n",
            "[youtube] 307DK9nGQhw: Downloading js player vfl22ubNH\n"
          ],
          "name": "stdout"
        },
        {
          "output_type": "stream",
          "text": [
            "WARNING: Requested formats are incompatible for merge and will be merged into mkv.\n"
          ],
          "name": "stderr"
        },
        {
          "output_type": "stream",
          "text": [
            "[download] Destination: Videos/307DK9nGQhw.f137\n",
            "[download] 100% of 155.67MiB in 00:24\n",
            "[download] Destination: Videos/307DK9nGQhw.f251\n",
            "[download] 100% of 13.27MiB in 00:02\n",
            "[ffmpeg] Merging formats into \"Videos/307DK9nGQhw.mkv\"\n",
            "Deleting original file Videos/307DK9nGQhw.f137 (pass -k to keep)\n",
            "Deleting original file Videos/307DK9nGQhw.f251 (pass -k to keep)\n",
            "FPS is : 29.97002997002997\n",
            "mmod_rectangles[[(852, 205) (1088, 440)]]\n",
            "About to crop\n",
            "2039\n",
            "[MoviePy] Writing audio in Audio/307DK9nGQhw.mp3\n"
          ],
          "name": "stdout"
        },
        {
          "output_type": "stream",
          "text": [
            "100%|██████████| 197/197 [00:00<00:00, 677.03it/s]\n"
          ],
          "name": "stderr"
        },
        {
          "output_type": "stream",
          "text": [
            "[MoviePy] Done.\n",
            "before dict\n",
            "13\n",
            "http://www.youtube.com/watch?v=5qy9Ujv9XdM\n",
            "[youtube] 5qy9Ujv9XdM: Downloading webpage\n",
            "[youtube] 5qy9Ujv9XdM: Downloading video info webpage\n"
          ],
          "name": "stdout"
        },
        {
          "output_type": "stream",
          "text": [
            "WARNING: Requested formats are incompatible for merge and will be merged into mkv.\n"
          ],
          "name": "stderr"
        },
        {
          "output_type": "stream",
          "text": [
            "[download] Destination: Videos/5qy9Ujv9XdM.f264\n",
            "[download] 100% of 263.83MiB in 01:42\n",
            "[download] Destination: Videos/5qy9Ujv9XdM.f251\n",
            "[download] 100% of 8.29MiB in 00:01\n",
            "[ffmpeg] Merging formats into \"Videos/5qy9Ujv9XdM.mkv\"\n",
            "Deleting original file Videos/5qy9Ujv9XdM.f264 (pass -k to keep)\n",
            "Deleting original file Videos/5qy9Ujv9XdM.f251 (pass -k to keep)\n",
            "FPS is : 29.97002997002997\n",
            "mmod_rectangles[[(948, 300) (1184, 536)]]\n",
            "About to crop\n",
            "1885\n",
            "[MoviePy] Writing audio in Audio/5qy9Ujv9XdM.mp3\n"
          ],
          "name": "stdout"
        },
        {
          "output_type": "stream",
          "text": [
            "100%|██████████| 85/85 [00:00<00:00, 388.70it/s]"
          ],
          "name": "stderr"
        },
        {
          "output_type": "stream",
          "text": [
            "[MoviePy] Done.\n",
            "before dict\n",
            "14\n",
            "http://www.youtube.com/watch?v=UBL2Vowiulk\n",
            "[youtube] UBL2Vowiulk: Downloading webpage\n"
          ],
          "name": "stdout"
        },
        {
          "output_type": "stream",
          "text": [
            "\n"
          ],
          "name": "stderr"
        },
        {
          "output_type": "stream",
          "text": [
            "[youtube] UBL2Vowiulk: Downloading video info webpage\n"
          ],
          "name": "stdout"
        },
        {
          "output_type": "stream",
          "text": [
            "WARNING: Requested formats are incompatible for merge and will be merged into mkv.\n"
          ],
          "name": "stderr"
        },
        {
          "output_type": "stream",
          "text": [
            "[download] Destination: Videos/UBL2Vowiulk.f136\n",
            "[download] 100% of 74.04MiB in 00:12\n",
            "[download] Destination: Videos/UBL2Vowiulk.f251\n",
            "[download] 100% of 7.52MiB in 00:01\n",
            "[ffmpeg] Merging formats into \"Videos/UBL2Vowiulk.mkv\"\n",
            "Deleting original file Videos/UBL2Vowiulk.f136 (pass -k to keep)\n",
            "Deleting original file Videos/UBL2Vowiulk.f251 (pass -k to keep)\n",
            "FPS is : 23.976023976023978\n",
            "mmod_rectangles[[(888, 216) (1052, 380)], [(142, 183) (305, 347)]]\n",
            "About to crop\n",
            "749\n",
            "About to crop\n",
            "749\n",
            "[MoviePy] Writing audio in Audio/UBL2Vowiulk.mp3\n"
          ],
          "name": "stdout"
        },
        {
          "output_type": "stream",
          "text": [
            "100%|██████████| 78/78 [00:00<00:00, 414.79it/s]\n"
          ],
          "name": "stderr"
        },
        {
          "output_type": "stream",
          "text": [
            "[MoviePy] Done.\n",
            "before dict\n",
            "15\n",
            "http://www.youtube.com/watch?v=LcyrfLT2tto\n",
            "[youtube] LcyrfLT2tto: Downloading webpage\n",
            "[youtube] LcyrfLT2tto: Downloading video info webpage\n"
          ],
          "name": "stdout"
        },
        {
          "output_type": "stream",
          "text": [
            "WARNING: Requested formats are incompatible for merge and will be merged into mkv.\n"
          ],
          "name": "stderr"
        },
        {
          "output_type": "stream",
          "text": [
            "[download] Destination: Videos/LcyrfLT2tto.f136\n",
            "[download] 100% of 47.92MiB in 00:03\n",
            "[download] Destination: Videos/LcyrfLT2tto.f251\n",
            "[download] 100% of 4.79MiB in 00:00\n",
            "[ffmpeg] Merging formats into \"Videos/LcyrfLT2tto.mkv\"\n",
            "Deleting original file Videos/LcyrfLT2tto.f136 (pass -k to keep)\n",
            "Deleting original file Videos/LcyrfLT2tto.f251 (pass -k to keep)\n",
            "FPS is : 29.97002997002997\n",
            "mmod_rectangles[[(511, 235) (708, 431)]]\n",
            "About to crop\n",
            "2895\n",
            "[MoviePy] Writing audio in Audio/LcyrfLT2tto.mp3\n"
          ],
          "name": "stdout"
        },
        {
          "output_type": "stream",
          "text": [
            "100%|██████████| 67/67 [00:00<00:00, 331.54it/s]"
          ],
          "name": "stderr"
        },
        {
          "output_type": "stream",
          "text": [
            "[MoviePy] Done.\n",
            "before dict\n",
            "16\n",
            "http://www.youtube.com/watch?v=sujFCXbYkMo\n",
            "[youtube] sujFCXbYkMo: Downloading webpage\n"
          ],
          "name": "stdout"
        },
        {
          "output_type": "stream",
          "text": [
            "\n"
          ],
          "name": "stderr"
        },
        {
          "output_type": "stream",
          "text": [
            "[youtube] sujFCXbYkMo: Downloading video info webpage\n"
          ],
          "name": "stdout"
        },
        {
          "output_type": "stream",
          "text": [
            "WARNING: Requested formats are incompatible for merge and will be merged into mkv.\n"
          ],
          "name": "stderr"
        },
        {
          "output_type": "stream",
          "text": [
            "[download] Destination: Videos/sujFCXbYkMo.f136\n",
            "[download] 100% of 56.42MiB in 00:08\n",
            "[download] Destination: Videos/sujFCXbYkMo.f251\n",
            "[download] 100% of 5.25MiB in 00:00\n",
            "[ffmpeg] Merging formats into \"Videos/sujFCXbYkMo.mkv\"\n",
            "Deleting original file Videos/sujFCXbYkMo.f136 (pass -k to keep)\n",
            "Deleting original file Videos/sujFCXbYkMo.f251 (pass -k to keep)\n",
            "FPS is : 30.0\n",
            "mmod_rectangles[[(589, 266) (753, 430)]]\n",
            "About to crop\n",
            "952\n",
            "[MoviePy] Writing audio in Audio/sujFCXbYkMo.mp3\n"
          ],
          "name": "stdout"
        },
        {
          "output_type": "stream",
          "text": [
            "100%|██████████| 99/99 [00:00<00:00, 426.01it/s]"
          ],
          "name": "stderr"
        },
        {
          "output_type": "stream",
          "text": [
            "[MoviePy] Done.\n",
            "before dict\n",
            "17\n",
            "http://www.youtube.com/watch?v=R0u9E8GsUXk\n",
            "[youtube] R0u9E8GsUXk: Downloading webpage\n"
          ],
          "name": "stdout"
        },
        {
          "output_type": "stream",
          "text": [
            "\n"
          ],
          "name": "stderr"
        },
        {
          "output_type": "stream",
          "text": [
            "[youtube] R0u9E8GsUXk: Downloading video info webpage\n"
          ],
          "name": "stdout"
        },
        {
          "output_type": "stream",
          "text": [
            "WARNING: Requested formats are incompatible for merge and will be merged into mkv.\n"
          ],
          "name": "stderr"
        },
        {
          "output_type": "stream",
          "text": [
            "[download] Destination: Videos/R0u9E8GsUXk.f136\n",
            "[download] 100% of 42.53MiB in 00:02\n",
            "[download] Destination: Videos/R0u9E8GsUXk.f251\n",
            "[download] 100% of 15.78MiB in 00:01\n",
            "[ffmpeg] Merging formats into \"Videos/R0u9E8GsUXk.mkv\"\n",
            "Deleting original file Videos/R0u9E8GsUXk.f136 (pass -k to keep)\n",
            "Deleting original file Videos/R0u9E8GsUXk.f251 (pass -k to keep)\n",
            "FPS is : 30.0\n",
            "mmod_rectangles[[(1044, 543) (1180, 679)]]\n",
            "About to crop\n",
            "3474\n",
            "[MoviePy] Writing audio in Audio/R0u9E8GsUXk.mp3\n"
          ],
          "name": "stdout"
        },
        {
          "output_type": "stream",
          "text": [
            "100%|██████████| 82/82 [00:00<00:00, 454.32it/s]"
          ],
          "name": "stderr"
        },
        {
          "output_type": "stream",
          "text": [
            "[MoviePy] Done.\n"
          ],
          "name": "stdout"
        },
        {
          "output_type": "stream",
          "text": [
            "\n"
          ],
          "name": "stderr"
        },
        {
          "output_type": "stream",
          "text": [
            "before dict\n",
            "18\n",
            "http://www.youtube.com/watch?v=bNxD_breZy8\n",
            "[youtube] bNxD_breZy8: Downloading webpage\n",
            "[youtube] bNxD_breZy8: Downloading video info webpage\n",
            "[download] Destination: Videos/bNxD_breZy8.f247\n",
            "[download] 100% of 38.35MiB in 00:03\n",
            "[download] Destination: Videos/bNxD_breZy8.f251\n",
            "[download] 100% of 5.00MiB in 00:01\n",
            "[ffmpeg] Merging formats into \"Videos/bNxD_breZy8.webm\"\n",
            "Deleting original file Videos/bNxD_breZy8.f247 (pass -k to keep)\n",
            "Deleting original file Videos/bNxD_breZy8.f251 (pass -k to keep)\n",
            "0 fps\n",
            "19\n",
            "http://www.youtube.com/watch?v=AQDWwktBhaw\n",
            "[youtube] AQDWwktBhaw: Downloading webpage\n",
            "[youtube] AQDWwktBhaw: Downloading video info webpage\n",
            "[download] Destination: Videos/AQDWwktBhaw.f136\n",
            "[download] 100% of 55.04MiB in 00:08\n",
            "[download] Destination: Videos/AQDWwktBhaw.f140\n",
            "[download] 100% of 5.29MiB in 00:00\n",
            "[ffmpeg] Merging formats into \"Videos/AQDWwktBhaw.mp4\"\n",
            "Deleting original file Videos/AQDWwktBhaw.f136 (pass -k to keep)\n",
            "Deleting original file Videos/AQDWwktBhaw.f140 (pass -k to keep)\n",
            "0 fps\n",
            "20\n",
            "http://www.youtube.com/watch?v=Dtn8xZ3BiGY\n",
            "[youtube] Dtn8xZ3BiGY: Downloading webpage\n",
            "[youtube] Dtn8xZ3BiGY: Downloading video info webpage\n"
          ],
          "name": "stdout"
        },
        {
          "output_type": "stream",
          "text": [
            "WARNING: Requested formats are incompatible for merge and will be merged into mkv.\n"
          ],
          "name": "stderr"
        },
        {
          "output_type": "stream",
          "text": [
            "[download] Destination: Videos/Dtn8xZ3BiGY.f247\n",
            "[download] 100% of 72.73MiB in 00:17\n",
            "[download] Destination: Videos/Dtn8xZ3BiGY.f140\n",
            "[download] 100% of 6.59MiB in 00:01\n",
            "[ffmpeg] Merging formats into \"Videos/Dtn8xZ3BiGY.mkv\"\n",
            "Deleting original file Videos/Dtn8xZ3BiGY.f247 (pass -k to keep)\n",
            "Deleting original file Videos/Dtn8xZ3BiGY.f140 (pass -k to keep)\n",
            "FPS is : 29.0\n",
            "mmod_rectangles[[(551, 155) (747, 352)]]\n",
            "About to crop\n",
            "3380\n",
            "[MoviePy] Writing audio in Audio/Dtn8xZ3BiGY.mp3\n"
          ],
          "name": "stdout"
        },
        {
          "output_type": "stream",
          "text": [
            "100%|██████████| 122/122 [00:00<00:00, 791.19it/s]"
          ],
          "name": "stderr"
        },
        {
          "output_type": "stream",
          "text": [
            "[MoviePy] Done.\n",
            "before dict\n",
            "21\n",
            "http://www.youtube.com/watch?v=Cy9SUMj5wGY\n",
            "[youtube] Cy9SUMj5wGY: Downloading webpage\n"
          ],
          "name": "stdout"
        },
        {
          "output_type": "stream",
          "text": [
            "\n"
          ],
          "name": "stderr"
        },
        {
          "output_type": "stream",
          "text": [
            "[youtube] Cy9SUMj5wGY: Downloading video info webpage\n",
            "[download] Destination: Videos/Cy9SUMj5wGY.f136\n",
            "[download] 100% of 83.89MiB in 00:06\n",
            "[download] Destination: Videos/Cy9SUMj5wGY.f140\n",
            "[download] 100% of 10.36MiB in 00:01\n",
            "[ffmpeg] Merging formats into \"Videos/Cy9SUMj5wGY.mp4\"\n",
            "Deleting original file Videos/Cy9SUMj5wGY.f136 (pass -k to keep)\n",
            "Deleting original file Videos/Cy9SUMj5wGY.f140 (pass -k to keep)\n",
            "0 fps\n",
            "22\n",
            "http://www.youtube.com/watch?v=8nQBG5hvjpk\n",
            "[youtube] 8nQBG5hvjpk: Downloading webpage\n",
            "[youtube] 8nQBG5hvjpk: Downloading video info webpage\n"
          ],
          "name": "stdout"
        },
        {
          "output_type": "stream",
          "text": [
            "WARNING: Requested formats are incompatible for merge and will be merged into mkv.\n"
          ],
          "name": "stderr"
        },
        {
          "output_type": "stream",
          "text": [
            "[download] Destination: Videos/8nQBG5hvjpk.f247\n",
            "[download] 100% of 66.13MiB in 00:12\n",
            "[download] Destination: Videos/8nQBG5hvjpk.f140\n",
            "[download] 100% of 12.87MiB in 00:02\n",
            "[ffmpeg] Merging formats into \"Videos/8nQBG5hvjpk.mkv\"\n",
            "Deleting original file Videos/8nQBG5hvjpk.f247 (pass -k to keep)\n",
            "Deleting original file Videos/8nQBG5hvjpk.f140 (pass -k to keep)\n",
            "FPS is : 29.97002997002997\n",
            "mmod_rectangles[[(988, 183) (1151, 347)]]\n",
            "About to crop\n",
            "8520\n",
            "[MoviePy] Writing audio in Audio/8nQBG5hvjpk.mp3\n"
          ],
          "name": "stdout"
        },
        {
          "output_type": "stream",
          "text": [
            "100%|██████████| 67/67 [00:00<00:00, 541.89it/s]"
          ],
          "name": "stderr"
        },
        {
          "output_type": "stream",
          "text": [
            "[MoviePy] Done.\n",
            "before dict\n",
            "23\n",
            "http://www.youtube.com/watch?v=rCp8Jae81KU\n",
            "[youtube] rCp8Jae81KU: Downloading webpage\n"
          ],
          "name": "stdout"
        },
        {
          "output_type": "stream",
          "text": [
            "\n"
          ],
          "name": "stderr"
        },
        {
          "output_type": "stream",
          "text": [
            "[youtube] rCp8Jae81KU: Downloading video info webpage\n",
            "[download] Destination: Videos/rCp8Jae81KU.f137\n",
            "[download] 100% of 72.45MiB in 00:17\n",
            "[download] Destination: Videos/rCp8Jae81KU.f140\n",
            "[download] 100% of 7.71MiB in 00:00\n",
            "[ffmpeg] Merging formats into \"Videos/rCp8Jae81KU.mp4\"\n",
            "Deleting original file Videos/rCp8Jae81KU.f137 (pass -k to keep)\n",
            "Deleting original file Videos/rCp8Jae81KU.f140 (pass -k to keep)\n",
            "0 fps\n",
            "24\n",
            "http://www.youtube.com/watch?v=PmD-LzPS2rg\n",
            "[youtube] PmD-LzPS2rg: Downloading webpage\n",
            "[youtube] PmD-LzPS2rg: Downloading video info webpage\n",
            "[download] Destination: Videos/PmD-LzPS2rg.f136\n",
            "[download] 100% of 123.27MiB in 00:26\n",
            "[download] Destination: Videos/PmD-LzPS2rg.f140\n",
            "[download] 100% of 11.64MiB in 00:02\n",
            "[ffmpeg] Merging formats into \"Videos/PmD-LzPS2rg.mp4\"\n",
            "Deleting original file Videos/PmD-LzPS2rg.f136 (pass -k to keep)\n",
            "Deleting original file Videos/PmD-LzPS2rg.f140 (pass -k to keep)\n",
            "0 fps\n",
            "25\n",
            "http://www.youtube.com/watch?v=BrCcDt6GNkk\n",
            "[youtube] BrCcDt6GNkk: Downloading webpage\n",
            "[youtube] BrCcDt6GNkk: Downloading video info webpage\n"
          ],
          "name": "stdout"
        },
        {
          "output_type": "stream",
          "text": [
            "WARNING: Unable to extract video title\n",
            "WARNING: unable to extract description; please report this issue on https://yt-dl.org/bug . Make sure you are using the latest version; see  https://yt-dl.org/update  on how to update. Be sure to call youtube-dl with the --verbose flag and include its complete output.\n",
            "ERROR: This video is unavailable.\n",
            "Sorry about that.\n"
          ],
          "name": "stderr"
        },
        {
          "output_type": "stream",
          "text": [
            "###########################################\n",
            "SORRY!!! The video is unavailable\n",
            "###########################################\n",
            "26\n",
            "http://www.youtube.com/watch?v=IrXrbrZWflA\n",
            "[youtube] IrXrbrZWflA: Downloading webpage\n",
            "[youtube] IrXrbrZWflA: Downloading video info webpage\n"
          ],
          "name": "stdout"
        },
        {
          "output_type": "stream",
          "text": [
            "WARNING: Requested formats are incompatible for merge and will be merged into mkv.\n"
          ],
          "name": "stderr"
        },
        {
          "output_type": "stream",
          "text": [
            "[download] Destination: Videos/IrXrbrZWflA.f137\n",
            "[download] 100% of 101.36MiB in 00:18\n",
            "[download] Destination: Videos/IrXrbrZWflA.f251\n",
            "[download] 100% of 5.20MiB in 00:00\n",
            "[ffmpeg] Merging formats into \"Videos/IrXrbrZWflA.mkv\"\n",
            "Deleting original file Videos/IrXrbrZWflA.f137 (pass -k to keep)\n",
            "Deleting original file Videos/IrXrbrZWflA.f251 (pass -k to keep)\n",
            "FPS is : 29.97002997002997\n",
            "mmod_rectangles[[(592, 132) (932, 471)]]\n",
            "About to crop\n",
            "6175\n",
            "[MoviePy] Writing audio in Audio/IrXrbrZWflA.mp3\n"
          ],
          "name": "stdout"
        },
        {
          "output_type": "stream",
          "text": [
            "100%|██████████| 151/151 [00:00<00:00, 560.21it/s]"
          ],
          "name": "stderr"
        },
        {
          "output_type": "stream",
          "text": [
            "[MoviePy] Done.\n",
            "before dict\n",
            "27\n",
            "http://www.youtube.com/watch?v=512K2S3De-A\n",
            "[youtube] 512K2S3De-A: Downloading webpage\n"
          ],
          "name": "stdout"
        },
        {
          "output_type": "stream",
          "text": [
            "\n"
          ],
          "name": "stderr"
        },
        {
          "output_type": "stream",
          "text": [
            "[youtube] 512K2S3De-A: Downloading video info webpage\n"
          ],
          "name": "stdout"
        },
        {
          "output_type": "stream",
          "text": [
            "WARNING: Requested formats are incompatible for merge and will be merged into mkv.\n"
          ],
          "name": "stderr"
        },
        {
          "output_type": "stream",
          "text": [
            "[download] Destination: Videos/512K2S3De-A.f136\n",
            "[download] 100% of 65.04MiB in 00:04\n",
            "[download] Destination: Videos/512K2S3De-A.f251\n",
            "[download] 100% of 4.60MiB in 00:00\n",
            "[ffmpeg] Merging formats into \"Videos/512K2S3De-A.mkv\"\n",
            "Deleting original file Videos/512K2S3De-A.f136 (pass -k to keep)\n",
            "Deleting original file Videos/512K2S3De-A.f251 (pass -k to keep)\n",
            "FPS is : 29.97002997002997\n",
            "mmod_rectangles[[(698, 170) (835, 306)]]\n",
            "About to crop\n",
            "8549\n",
            "[MoviePy] Writing audio in Audio/512K2S3De-A.mp3\n"
          ],
          "name": "stdout"
        },
        {
          "output_type": "stream",
          "text": [
            "100%|██████████| 137/137 [00:00<00:00, 581.05it/s]"
          ],
          "name": "stderr"
        },
        {
          "output_type": "stream",
          "text": [
            "[MoviePy] Done.\n",
            "before dict\n",
            "28\n",
            "http://www.youtube.com/watch?v=01qWxISqaHg\n",
            "[youtube] 01qWxISqaHg: Downloading webpage\n"
          ],
          "name": "stdout"
        },
        {
          "output_type": "stream",
          "text": [
            "\n"
          ],
          "name": "stderr"
        },
        {
          "output_type": "stream",
          "text": [
            "[youtube] 01qWxISqaHg: Downloading video info webpage\n",
            "[youtube] 01qWxISqaHg: Downloading MPD manifest\n",
            "[dashsegments] Total fragments: 278\n",
            "[download] Destination: Videos/01qWxISqaHg.f135\n",
            "[download] 100% of 94.52MiB in 02:18\n",
            "[dashsegments] Total fragments: 151\n",
            "[download] Destination: Videos/01qWxISqaHg.f140\n",
            "[download] 100% of 22.64MiB in 00:44\n",
            "[ffmpeg] Merging formats into \"Videos/01qWxISqaHg.mp4\"\n",
            "Deleting original file Videos/01qWxISqaHg.f135 (pass -k to keep)\n",
            "Deleting original file Videos/01qWxISqaHg.f140 (pass -k to keep)\n",
            "0 fps\n",
            "29\n",
            "http://www.youtube.com/watch?v=2f32XSMYlDk\n",
            "[youtube] 2f32XSMYlDk: Downloading webpage\n",
            "[youtube] 2f32XSMYlDk: Downloading video info webpage\n"
          ],
          "name": "stdout"
        },
        {
          "output_type": "stream",
          "text": [
            "WARNING: Requested formats are incompatible for merge and will be merged into mkv.\n"
          ],
          "name": "stderr"
        },
        {
          "output_type": "stream",
          "text": [
            "[download] Destination: Videos/2f32XSMYlDk.f137\n",
            "[download] 100% of 371.60MiB in 02:49\n",
            "[download] Destination: Videos/2f32XSMYlDk.f251\n",
            "[download] 100% of 20.28MiB in 00:05\n",
            "[ffmpeg] Merging formats into \"Videos/2f32XSMYlDk.mkv\"\n",
            "Deleting original file Videos/2f32XSMYlDk.f137 (pass -k to keep)\n",
            "Deleting original file Videos/2f32XSMYlDk.f251 (pass -k to keep)\n",
            "FPS is : 29.97002997002997\n",
            "mmod_rectangles[[(268, 140) (347, 219)]]\n",
            "About to crop\n",
            "2251\n",
            "[MoviePy] Writing audio in Audio/2f32XSMYlDk.mp3\n"
          ],
          "name": "stdout"
        },
        {
          "output_type": "stream",
          "text": [
            "100%|██████████| 98/98 [00:00<00:00, 617.83it/s]"
          ],
          "name": "stderr"
        },
        {
          "output_type": "stream",
          "text": [
            "[MoviePy] Done.\n",
            "before dict\n",
            "30\n",
            "http://www.youtube.com/watch?v=lcClO5lHEjA\n",
            "[youtube] lcClO5lHEjA: Downloading webpage\n"
          ],
          "name": "stdout"
        },
        {
          "output_type": "stream",
          "text": [
            "\n"
          ],
          "name": "stderr"
        },
        {
          "output_type": "stream",
          "text": [
            "[youtube] lcClO5lHEjA: Downloading video info webpage\n"
          ],
          "name": "stdout"
        },
        {
          "output_type": "stream",
          "text": [
            "WARNING: Requested formats are incompatible for merge and will be merged into mkv.\n"
          ],
          "name": "stderr"
        },
        {
          "output_type": "stream",
          "text": [
            "[download] Destination: Videos/lcClO5lHEjA.f136\n",
            "[download] 100% of 82.50MiB in 00:18\n",
            "[download] Destination: Videos/lcClO5lHEjA.f251\n",
            "[download] 100% of 8.12MiB in 00:00\n",
            "[ffmpeg] Merging formats into \"Videos/lcClO5lHEjA.mkv\"\n",
            "Deleting original file Videos/lcClO5lHEjA.f136 (pass -k to keep)\n",
            "Deleting original file Videos/lcClO5lHEjA.f251 (pass -k to keep)\n",
            "FPS is : 29.97002997002997\n",
            "mmod_rectangles[[(394, 115) (734, 454)]]\n",
            "About to crop\n",
            "3657\n",
            "[MoviePy] Writing audio in Audio/lcClO5lHEjA.mp3\n"
          ],
          "name": "stdout"
        },
        {
          "output_type": "stream",
          "text": [
            "100%|██████████| 109/109 [00:00<00:00, 516.31it/s]"
          ],
          "name": "stderr"
        },
        {
          "output_type": "stream",
          "text": [
            "[MoviePy] Done.\n",
            "before dict\n",
            "31\n",
            "http://www.youtube.com/watch?v=q1doqKlHRuY\n",
            "[youtube] q1doqKlHRuY: Downloading webpage\n"
          ],
          "name": "stdout"
        },
        {
          "output_type": "stream",
          "text": [
            "\n"
          ],
          "name": "stderr"
        },
        {
          "output_type": "stream",
          "text": [
            "[youtube] q1doqKlHRuY: Downloading video info webpage\n"
          ],
          "name": "stdout"
        },
        {
          "output_type": "stream",
          "text": [
            "WARNING: Unable to extract video title\n",
            "WARNING: unable to extract description; please report this issue on https://yt-dl.org/bug . Make sure you are using the latest version; see  https://yt-dl.org/update  on how to update. Be sure to call youtube-dl with the --verbose flag and include its complete output.\n",
            "ERROR: This video is unavailable.\n",
            "Sorry about that.\n"
          ],
          "name": "stderr"
        },
        {
          "output_type": "stream",
          "text": [
            "###########################################\n",
            "SORRY!!! The video is unavailable\n",
            "###########################################\n",
            "32\n",
            "http://www.youtube.com/watch?v=tdTXVU5wN8I\n",
            "[youtube] tdTXVU5wN8I: Downloading webpage\n",
            "[youtube] tdTXVU5wN8I: Downloading video info webpage\n",
            "[download] Destination: Videos/tdTXVU5wN8I.f137\n",
            "[download] 100% of 56.51MiB in 00:13\n",
            "[download] Destination: Videos/tdTXVU5wN8I.f140\n",
            "[download] 100% of 7.40MiB in 00:00\n",
            "[ffmpeg] Merging formats into \"Videos/tdTXVU5wN8I.mp4\"\n",
            "Deleting original file Videos/tdTXVU5wN8I.f137 (pass -k to keep)\n",
            "Deleting original file Videos/tdTXVU5wN8I.f140 (pass -k to keep)\n",
            "0 fps\n",
            "33\n",
            "http://www.youtube.com/watch?v=h-fSfAFufCo\n",
            "[youtube] h-fSfAFufCo: Downloading webpage\n",
            "[youtube] h-fSfAFufCo: Downloading video info webpage\n"
          ],
          "name": "stdout"
        },
        {
          "output_type": "stream",
          "text": [
            "WARNING: Requested formats are incompatible for merge and will be merged into mkv.\n"
          ],
          "name": "stderr"
        },
        {
          "output_type": "stream",
          "text": [
            "[download] Destination: Videos/h-fSfAFufCo.f137\n",
            "[download] 100% of 188.92MiB in 00:25\n",
            "[download] Destination: Videos/h-fSfAFufCo.f251\n",
            "[download] 100% of 11.13MiB in 00:01\n",
            "[ffmpeg] Merging formats into \"Videos/h-fSfAFufCo.mkv\"\n",
            "Deleting original file Videos/h-fSfAFufCo.f137 (pass -k to keep)\n",
            "Deleting original file Videos/h-fSfAFufCo.f251 (pass -k to keep)\n",
            "FPS is : 29.97002997002997\n",
            "mmod_rectangles[[(695, 251) (1103, 659)], [(1761, 760) (1856, 855)]]\n",
            "About to crop\n",
            "4692\n",
            "About to crop\n",
            "4692\n",
            "[MoviePy] Writing audio in Audio/h-fSfAFufCo.mp3\n"
          ],
          "name": "stdout"
        },
        {
          "output_type": "stream",
          "text": [
            "100%|██████████| 139/139 [00:00<00:00, 577.99it/s]"
          ],
          "name": "stderr"
        },
        {
          "output_type": "stream",
          "text": [
            "[MoviePy] Done.\n",
            "before dict\n",
            "34\n",
            "http://www.youtube.com/watch?v=srwckJKdeS0\n",
            "[youtube] srwckJKdeS0: Downloading webpage\n"
          ],
          "name": "stdout"
        },
        {
          "output_type": "stream",
          "text": [
            "\n"
          ],
          "name": "stderr"
        },
        {
          "output_type": "stream",
          "text": [
            "[youtube] srwckJKdeS0: Downloading video info webpage\n",
            "[download] Destination: Videos/srwckJKdeS0.f136\n",
            "[download] 100% of 102.49MiB in 00:15\n",
            "[download] Destination: Videos/srwckJKdeS0.f140\n",
            "[download] 100% of 6.56MiB in 00:00\n",
            "[ffmpeg] Merging formats into \"Videos/srwckJKdeS0.mp4\"\n",
            "Deleting original file Videos/srwckJKdeS0.f136 (pass -k to keep)\n",
            "Deleting original file Videos/srwckJKdeS0.f140 (pass -k to keep)\n",
            "0 fps\n",
            "35\n",
            "http://www.youtube.com/watch?v=DIWf1t-HzwI\n",
            "[youtube] DIWf1t-HzwI: Downloading webpage\n",
            "[youtube] DIWf1t-HzwI: Downloading video info webpage\n",
            "[download] Destination: Videos/DIWf1t-HzwI.f136\n",
            "[download] 100% of 93.14MiB in 00:14\n",
            "[download] Destination: Videos/DIWf1t-HzwI.f140\n",
            "[download] 100% of 8.59MiB in 00:00\n",
            "[ffmpeg] Merging formats into \"Videos/DIWf1t-HzwI.mp4\"\n",
            "Deleting original file Videos/DIWf1t-HzwI.f136 (pass -k to keep)\n",
            "Deleting original file Videos/DIWf1t-HzwI.f140 (pass -k to keep)\n",
            "0 fps\n",
            "36\n",
            "http://www.youtube.com/watch?v=YXcVkIEMGds\n",
            "[youtube] YXcVkIEMGds: Downloading webpage\n",
            "[youtube] YXcVkIEMGds: Downloading video info webpage\n"
          ],
          "name": "stdout"
        },
        {
          "output_type": "stream",
          "text": [
            "WARNING: Requested formats are incompatible for merge and will be merged into mkv.\n"
          ],
          "name": "stderr"
        },
        {
          "output_type": "stream",
          "text": [
            "[download] Destination: Videos/YXcVkIEMGds.f137\n",
            "[download] 100% of 120.56MiB in 00:18\n",
            "[download] Destination: Videos/YXcVkIEMGds.f251\n",
            "[download] 100% of 7.73MiB in 00:01\n",
            "[ffmpeg] Merging formats into \"Videos/YXcVkIEMGds.mkv\"\n",
            "Deleting original file Videos/YXcVkIEMGds.f137 (pass -k to keep)\n",
            "Deleting original file Videos/YXcVkIEMGds.f251 (pass -k to keep)\n",
            "FPS is : 25.0\n",
            "mmod_rectangles[[(518, 157) (754, 393)]]\n",
            "About to crop\n",
            "7423\n",
            "[MoviePy] Writing audio in Audio/YXcVkIEMGds.mp3\n"
          ],
          "name": "stdout"
        },
        {
          "output_type": "stream",
          "text": [
            "100%|██████████| 109/109 [00:00<00:00, 454.47it/s]"
          ],
          "name": "stderr"
        },
        {
          "output_type": "stream",
          "text": [
            "[MoviePy] Done.\n",
            "before dict\n",
            "37\n",
            "http://www.youtube.com/watch?v=BsUzOhJ9WGU\n",
            "[youtube] BsUzOhJ9WGU: Downloading webpage\n"
          ],
          "name": "stdout"
        },
        {
          "output_type": "stream",
          "text": [
            "\n"
          ],
          "name": "stderr"
        },
        {
          "output_type": "stream",
          "text": [
            "[youtube] BsUzOhJ9WGU: Downloading video info webpage\n",
            "[download] Destination: Videos/BsUzOhJ9WGU.f248\n",
            "[download] 100% of 220.22MiB in 00:29\n",
            "[download] Destination: Videos/BsUzOhJ9WGU.f251\n",
            "[download] 100% of 10.82MiB in 00:03\n",
            "[ffmpeg] Merging formats into \"Videos/BsUzOhJ9WGU.webm\"\n",
            "Deleting original file Videos/BsUzOhJ9WGU.f248 (pass -k to keep)\n",
            "Deleting original file Videos/BsUzOhJ9WGU.f251 (pass -k to keep)\n",
            "0 fps\n",
            "38\n",
            "http://www.youtube.com/watch?v=JjduaMIoKvI\n",
            "[youtube] JjduaMIoKvI: Downloading webpage\n",
            "[youtube] JjduaMIoKvI: Downloading video info webpage\n"
          ],
          "name": "stdout"
        },
        {
          "output_type": "stream",
          "text": [
            "WARNING: Requested formats are incompatible for merge and will be merged into mkv.\n"
          ],
          "name": "stderr"
        },
        {
          "output_type": "stream",
          "text": [
            "[download] Destination: Videos/JjduaMIoKvI.f136\n",
            "[download] 100% of 55.84MiB in 00:08\n",
            "[download] Destination: Videos/JjduaMIoKvI.f251\n",
            "[download] 100% of 5.32MiB in 00:01\n",
            "[ffmpeg] Merging formats into \"Videos/JjduaMIoKvI.mkv\"\n",
            "Deleting original file Videos/JjduaMIoKvI.f136 (pass -k to keep)\n",
            "Deleting original file Videos/JjduaMIoKvI.f251 (pass -k to keep)\n",
            "FPS is : 29.97002997002997\n",
            "mmod_rectangles[[(511, 195) (708, 392)]]\n",
            "About to crop\n",
            "8031\n",
            "[MoviePy] Writing audio in Audio/JjduaMIoKvI.mp3\n"
          ],
          "name": "stdout"
        },
        {
          "output_type": "stream",
          "text": [
            "100%|██████████| 67/67 [00:00<00:00, 358.92it/s]"
          ],
          "name": "stderr"
        },
        {
          "output_type": "stream",
          "text": [
            "[MoviePy] Done.\n"
          ],
          "name": "stdout"
        },
        {
          "output_type": "stream",
          "text": [
            "\n"
          ],
          "name": "stderr"
        },
        {
          "output_type": "stream",
          "text": [
            "before dict\n",
            "39\n",
            "http://www.youtube.com/watch?v=IlnHVjvBDU0\n",
            "[youtube] IlnHVjvBDU0: Downloading webpage\n",
            "[youtube] IlnHVjvBDU0: Downloading video info webpage\n",
            "[download] Destination: Videos/IlnHVjvBDU0.f133\n",
            "[download] 100% of 30.77MiB in 00:07\n",
            "[download] Destination: Videos/IlnHVjvBDU0.f140\n",
            "[download] 100% of 16.01MiB in 00:02\n",
            "[ffmpeg] Merging formats into \"Videos/IlnHVjvBDU0.mp4\"\n",
            "Deleting original file Videos/IlnHVjvBDU0.f133 (pass -k to keep)\n",
            "Deleting original file Videos/IlnHVjvBDU0.f140 (pass -k to keep)\n",
            "0 fps\n",
            "40\n",
            "http://www.youtube.com/watch?v=zFH0QbS-l-w\n",
            "[youtube] zFH0QbS-l-w: Downloading webpage\n",
            "[youtube] zFH0QbS-l-w: Downloading video info webpage\n"
          ],
          "name": "stdout"
        },
        {
          "output_type": "stream",
          "text": [
            "WARNING: Requested formats are incompatible for merge and will be merged into mkv.\n"
          ],
          "name": "stderr"
        },
        {
          "output_type": "stream",
          "text": [
            "[download] Destination: Videos/zFH0QbS-l-w.f136\n",
            "[download] 100% of 83.45MiB in 00:02\n",
            "[download] Destination: Videos/zFH0QbS-l-w.f251\n",
            "[download] 100% of 9.31MiB in 00:00\n",
            "[ffmpeg] Merging formats into \"Videos/zFH0QbS-l-w.mkv\"\n",
            "Deleting original file Videos/zFH0QbS-l-w.f136 (pass -k to keep)\n",
            "Deleting original file Videos/zFH0QbS-l-w.f251 (pass -k to keep)\n",
            "FPS is : 29.97002997002997\n",
            "mmod_rectangles[[(486, 181) (769, 464)]]\n",
            "About to crop\n",
            "8656\n",
            "[MoviePy] Writing audio in Audio/zFH0QbS-l-w.mp3\n"
          ],
          "name": "stdout"
        },
        {
          "output_type": "stream",
          "text": [
            "100%|██████████| 98/98 [00:00<00:00, 517.29it/s]\n"
          ],
          "name": "stderr"
        },
        {
          "output_type": "stream",
          "text": [
            "[MoviePy] Done.\n",
            "before dict\n",
            "41\n",
            "http://www.youtube.com/watch?v=h5wT_c4fQ1o\n",
            "[youtube] h5wT_c4fQ1o: Downloading webpage\n",
            "[youtube] h5wT_c4fQ1o: Downloading video info webpage\n",
            "[youtube] h5wT_c4fQ1o: Downloading MPD manifest\n",
            "[dashsegments] Total fragments: 151\n",
            "[download] Destination: Videos/h5wT_c4fQ1o.f248\n",
            "[download]  84.1% of ~135.25MiB at  4.78MiB/s ETA 00:14[download] Skipping fragment 128...\n",
            "[download] Skipping fragment 129...\n",
            "[download] Skipping fragment 130...\n",
            "[download]  94.0% of ~135.95MiB at  5.56MiB/s ETA 00:05[download] Skipping fragment 146...\n",
            "[download] 100% of 130.02MiB in 01:36\n",
            "[dashsegments] Total fragments: 81\n",
            "[download] Destination: Videos/h5wT_c4fQ1o.f251\n",
            "[download] 100% of 10.86MiB in 00:28\n",
            "[ffmpeg] Merging formats into \"Videos/h5wT_c4fQ1o.webm\"\n",
            "Deleting original file Videos/h5wT_c4fQ1o.f248 (pass -k to keep)\n",
            "Deleting original file Videos/h5wT_c4fQ1o.f251 (pass -k to keep)\n",
            "0 fps\n",
            "42\n",
            "http://www.youtube.com/watch?v=3AsPqH3QaQM\n",
            "[youtube] 3AsPqH3QaQM: Downloading webpage\n",
            "[youtube] 3AsPqH3QaQM: Downloading video info webpage\n"
          ],
          "name": "stdout"
        },
        {
          "output_type": "stream",
          "text": [
            "WARNING: Requested formats are incompatible for merge and will be merged into mkv.\n"
          ],
          "name": "stderr"
        },
        {
          "output_type": "stream",
          "text": [
            "[download] Destination: Videos/3AsPqH3QaQM.f136\n",
            "[download] 100% of 83.65MiB in 00:15\n",
            "[download] Destination: Videos/3AsPqH3QaQM.f251\n",
            "[download] 100% of 8.33MiB in 00:01\n",
            "[ffmpeg] Merging formats into \"Videos/3AsPqH3QaQM.mkv\"\n",
            "Deleting original file Videos/3AsPqH3QaQM.f136 (pass -k to keep)\n",
            "Deleting original file Videos/3AsPqH3QaQM.f251 (pass -k to keep)\n",
            "FPS is : 29.97002997002997\n",
            "mmod_rectangles[[(556, 150) (720, 314)]]\n",
            "About to crop\n",
            "8322\n",
            "[MoviePy] Writing audio in Audio/3AsPqH3QaQM.mp3\n"
          ],
          "name": "stdout"
        },
        {
          "output_type": "stream",
          "text": [
            "100%|██████████| 210/210 [00:00<00:00, 542.63it/s]"
          ],
          "name": "stderr"
        },
        {
          "output_type": "stream",
          "text": [
            "[MoviePy] Done.\n"
          ],
          "name": "stdout"
        },
        {
          "output_type": "stream",
          "text": [
            "\n"
          ],
          "name": "stderr"
        },
        {
          "output_type": "stream",
          "text": [
            "before dict\n",
            "43\n",
            "http://www.youtube.com/watch?v=aaEA__Js2u0\n",
            "[youtube] aaEA__Js2u0: Downloading webpage\n",
            "[youtube] aaEA__Js2u0: Downloading video info webpage\n"
          ],
          "name": "stdout"
        },
        {
          "output_type": "stream",
          "text": [
            "WARNING: Requested formats are incompatible for merge and will be merged into mkv.\n"
          ],
          "name": "stderr"
        },
        {
          "output_type": "stream",
          "text": [
            "[download] Destination: Videos/aaEA__Js2u0.f136\n",
            "[download] 100% of 72.24MiB in 00:11\n",
            "[download] Destination: Videos/aaEA__Js2u0.f251\n",
            "[download] 100% of 8.05MiB in 00:01\n",
            "[ffmpeg] Merging formats into \"Videos/aaEA__Js2u0.mkv\"\n",
            "Deleting original file Videos/aaEA__Js2u0.f136 (pass -k to keep)\n",
            "Deleting original file Videos/aaEA__Js2u0.f251 (pass -k to keep)\n",
            "FPS is : 30.0\n",
            "mmod_rectangles[[(1068, 532) (1147, 611)]]\n",
            "About to crop\n",
            "8134\n",
            "[MoviePy] Writing audio in Audio/aaEA__Js2u0.mp3\n"
          ],
          "name": "stdout"
        },
        {
          "output_type": "stream",
          "text": [
            "100%|██████████| 73/73 [00:00<00:00, 411.56it/s]"
          ],
          "name": "stderr"
        },
        {
          "output_type": "stream",
          "text": [
            "[MoviePy] Done.\n",
            "before dict\n",
            "44\n",
            "http://www.youtube.com/watch?v=7rYeSDHS0U0\n",
            "[youtube] 7rYeSDHS0U0: Downloading webpage\n"
          ],
          "name": "stdout"
        },
        {
          "output_type": "stream",
          "text": [
            "\n"
          ],
          "name": "stderr"
        },
        {
          "output_type": "stream",
          "text": [
            "[youtube] 7rYeSDHS0U0: Downloading video info webpage\n",
            "[download] Destination: Videos/7rYeSDHS0U0.f247\n",
            "[download] 100% of 45.29MiB in 00:10\n",
            "[download] Destination: Videos/7rYeSDHS0U0.f251\n",
            "[download] 100% of 7.47MiB in 00:01\n",
            "[ffmpeg] Merging formats into \"Videos/7rYeSDHS0U0.webm\"\n",
            "Deleting original file Videos/7rYeSDHS0U0.f247 (pass -k to keep)\n",
            "Deleting original file Videos/7rYeSDHS0U0.f251 (pass -k to keep)\n",
            "0 fps\n",
            "45\n",
            "http://www.youtube.com/watch?v=qpEzCs23PWE\n",
            "[youtube] qpEzCs23PWE: Downloading webpage\n",
            "[youtube] qpEzCs23PWE: Downloading video info webpage\n"
          ],
          "name": "stdout"
        },
        {
          "output_type": "stream",
          "text": [
            "WARNING: Requested formats are incompatible for merge and will be merged into mkv.\n"
          ],
          "name": "stderr"
        },
        {
          "output_type": "stream",
          "text": [
            "[download] Destination: Videos/qpEzCs23PWE.f137\n",
            "[download] 100% of 189.85MiB in 00:34\n",
            "[download] Destination: Videos/qpEzCs23PWE.f251\n",
            "[download] 100% of 9.44MiB in 00:00\n",
            "[ffmpeg] Merging formats into \"Videos/qpEzCs23PWE.mkv\"\n",
            "Deleting original file Videos/qpEzCs23PWE.f137 (pass -k to keep)\n",
            "Deleting original file Videos/qpEzCs23PWE.f251 (pass -k to keep)\n",
            "FPS is : 29.97002997002997\n",
            "mmod_rectangles[[(829, 252) (1064, 488)]]\n",
            "About to crop\n",
            "4153\n",
            "[MoviePy] Writing audio in Audio/qpEzCs23PWE.mp3\n"
          ],
          "name": "stdout"
        },
        {
          "output_type": "stream",
          "text": [
            "100%|██████████| 221/221 [00:00<00:00, 658.94it/s]"
          ],
          "name": "stderr"
        },
        {
          "output_type": "stream",
          "text": [
            "[MoviePy] Done.\n",
            "before dict\n",
            "46\n",
            "http://www.youtube.com/watch?v=8E2UlNrLNmk\n",
            "[youtube] 8E2UlNrLNmk: Downloading webpage\n"
          ],
          "name": "stdout"
        },
        {
          "output_type": "stream",
          "text": [
            "\n"
          ],
          "name": "stderr"
        },
        {
          "output_type": "stream",
          "text": [
            "[youtube] 8E2UlNrLNmk: Downloading video info webpage\n",
            "[download] Destination: Videos/8E2UlNrLNmk.f248\n",
            "[download] 100% of 128.94MiB in 00:31\n",
            "[download] Destination: Videos/8E2UlNrLNmk.f251\n",
            "[download] 100% of 8.67MiB in 00:01\n",
            "[ffmpeg] Merging formats into \"Videos/8E2UlNrLNmk.webm\"\n",
            "Deleting original file Videos/8E2UlNrLNmk.f248 (pass -k to keep)\n",
            "Deleting original file Videos/8E2UlNrLNmk.f251 (pass -k to keep)\n",
            "0 fps\n",
            "47\n",
            "http://www.youtube.com/watch?v=BjvtZkHWExY\n",
            "[youtube] BjvtZkHWExY: Downloading webpage\n",
            "[youtube] BjvtZkHWExY: Downloading video info webpage\n"
          ],
          "name": "stdout"
        },
        {
          "output_type": "stream",
          "text": [
            "WARNING: Requested formats are incompatible for merge and will be merged into mkv.\n"
          ],
          "name": "stderr"
        },
        {
          "output_type": "stream",
          "text": [
            "[download] Destination: Videos/BjvtZkHWExY.f247\n",
            "[download] 100% of 64.22MiB in 00:13\n",
            "[download] Destination: Videos/BjvtZkHWExY.f140\n",
            "[download] 100% of 10.49MiB in 00:02\n",
            "[ffmpeg] Merging formats into \"Videos/BjvtZkHWExY.mkv\"\n",
            "Deleting original file Videos/BjvtZkHWExY.f247 (pass -k to keep)\n",
            "Deleting original file Videos/BjvtZkHWExY.f140 (pass -k to keep)\n",
            "FPS is : 23.976023976023978\n",
            "mmod_rectangles[[(351, 115) (465, 229)]]\n",
            "About to crop\n",
            "2009\n",
            "[MoviePy] Writing audio in Audio/BjvtZkHWExY.mp3\n"
          ],
          "name": "stdout"
        },
        {
          "output_type": "stream",
          "text": [
            "100%|██████████| 224/224 [00:00<00:00, 890.09it/s]"
          ],
          "name": "stderr"
        },
        {
          "output_type": "stream",
          "text": [
            "[MoviePy] Done.\n",
            "before dict\n",
            "48\n",
            "http://www.youtube.com/watch?v=qzM4wshoqGs\n",
            "[youtube] qzM4wshoqGs: Downloading webpage\n"
          ],
          "name": "stdout"
        },
        {
          "output_type": "stream",
          "text": [
            "\n"
          ],
          "name": "stderr"
        },
        {
          "output_type": "stream",
          "text": [
            "[youtube] qzM4wshoqGs: Downloading video info webpage\n"
          ],
          "name": "stdout"
        },
        {
          "output_type": "stream",
          "text": [
            "WARNING: Requested formats are incompatible for merge and will be merged into mkv.\n"
          ],
          "name": "stderr"
        },
        {
          "output_type": "stream",
          "text": [
            "[download] Destination: Videos/qzM4wshoqGs.f137\n",
            "[download] 100% of 313.98MiB in 00:43\n",
            "[download] Destination: Videos/qzM4wshoqGs.f251\n",
            "[download] 100% of 14.43MiB in 00:01\n",
            "[ffmpeg] Merging formats into \"Videos/qzM4wshoqGs.mkv\"\n",
            "Deleting original file Videos/qzM4wshoqGs.f137 (pass -k to keep)\n",
            "Deleting original file Videos/qzM4wshoqGs.f251 (pass -k to keep)\n",
            "FPS is : 25.0\n",
            "mmod_rectangles[[(657, 338) (752, 433)], [(1022, 348) (1117, 443)]]\n",
            "About to crop\n",
            "2306\n",
            "About to crop\n",
            "2306\n",
            "[MoviePy] Writing audio in Audio/qzM4wshoqGs.mp3\n"
          ],
          "name": "stdout"
        },
        {
          "output_type": "stream",
          "text": [
            "100%|██████████| 67/67 [00:00<00:00, 418.57it/s]"
          ],
          "name": "stderr"
        },
        {
          "output_type": "stream",
          "text": [
            "[MoviePy] Done.\n",
            "before dict\n",
            "49\n",
            "http://www.youtube.com/watch?v=871zAw-g1ZM\n",
            "[youtube] 871zAw-g1ZM: Downloading webpage\n"
          ],
          "name": "stdout"
        },
        {
          "output_type": "stream",
          "text": [
            "\n"
          ],
          "name": "stderr"
        },
        {
          "output_type": "stream",
          "text": [
            "[youtube] 871zAw-g1ZM: Downloading video info webpage\n"
          ],
          "name": "stdout"
        },
        {
          "output_type": "stream",
          "text": [
            "WARNING: Unable to extract video title\n",
            "WARNING: unable to extract description; please report this issue on https://yt-dl.org/bug . Make sure you are using the latest version; see  https://yt-dl.org/update  on how to update. Be sure to call youtube-dl with the --verbose flag and include its complete output.\n",
            "ERROR: This video is no longer available because the YouTube account associated with this video has been terminated.\n",
            "Sorry about that.\n"
          ],
          "name": "stderr"
        },
        {
          "output_type": "stream",
          "text": [
            "###########################################\n",
            "SORRY!!! The video is unavailable\n",
            "###########################################\n",
            "50\n",
            "http://www.youtube.com/watch?v=JpJoybtabbU\n",
            "[youtube] JpJoybtabbU: Downloading webpage\n",
            "[youtube] JpJoybtabbU: Downloading video info webpage\n",
            "[download] Destination: Videos/JpJoybtabbU.f137\n",
            "[download] 100% of 138.85MiB in 00:08\n",
            "[download] Destination: Videos/JpJoybtabbU.f140\n",
            "[download] 100% of 4.61MiB in 00:00\n",
            "[ffmpeg] Merging formats into \"Videos/JpJoybtabbU.mp4\"\n",
            "Deleting original file Videos/JpJoybtabbU.f137 (pass -k to keep)\n",
            "Deleting original file Videos/JpJoybtabbU.f140 (pass -k to keep)\n",
            "0 fps\n",
            "51\n",
            "http://www.youtube.com/watch?v=lUdymhI3Zl4\n",
            "[youtube] lUdymhI3Zl4: Downloading webpage\n",
            "[youtube] lUdymhI3Zl4: Downloading video info webpage\n"
          ],
          "name": "stdout"
        },
        {
          "output_type": "stream",
          "text": [
            "ERROR: This video contains content from CHBK Network, who has blocked it on copyright grounds.\n",
            "Sorry about that.\n"
          ],
          "name": "stderr"
        },
        {
          "output_type": "stream",
          "text": [
            "###########################################\n",
            "SORRY!!! The video is unavailable\n",
            "###########################################\n",
            "52\n",
            "http://www.youtube.com/watch?v=RdUVaYI3bmg\n",
            "[youtube] RdUVaYI3bmg: Downloading webpage\n",
            "[youtube] RdUVaYI3bmg: Downloading video info webpage\n",
            "[download] Destination: Videos/RdUVaYI3bmg.f137\n",
            "[download] 100% of 288.91MiB in 00:36\n",
            "[download] Destination: Videos/RdUVaYI3bmg.f140\n",
            "[download] 100% of 8.47MiB in 00:00\n",
            "[ffmpeg] Merging formats into \"Videos/RdUVaYI3bmg.mp4\"\n",
            "Deleting original file Videos/RdUVaYI3bmg.f137 (pass -k to keep)\n",
            "Deleting original file Videos/RdUVaYI3bmg.f140 (pass -k to keep)\n",
            "0 fps\n",
            "53\n",
            "http://www.youtube.com/watch?v=Uu1xVo0CF5o\n",
            "[youtube] Uu1xVo0CF5o: Downloading webpage\n",
            "[youtube] Uu1xVo0CF5o: Downloading video info webpage\n"
          ],
          "name": "stdout"
        },
        {
          "output_type": "stream",
          "text": [
            "WARNING: Requested formats are incompatible for merge and will be merged into mkv.\n"
          ],
          "name": "stderr"
        },
        {
          "output_type": "stream",
          "text": [
            "[download] Destination: Videos/Uu1xVo0CF5o.f137\n",
            "[download] 100% of 56.30MiB in 00:08\n",
            "[download] Destination: Videos/Uu1xVo0CF5o.f251\n",
            "[download] 100% of 4.58MiB in 00:00\n",
            "[ffmpeg] Merging formats into \"Videos/Uu1xVo0CF5o.mkv\"\n",
            "Deleting original file Videos/Uu1xVo0CF5o.f137 (pass -k to keep)\n",
            "Deleting original file Videos/Uu1xVo0CF5o.f251 (pass -k to keep)\n",
            "FPS is : 29.97002997002997\n",
            "mmod_rectangles[[(869, 153) (1152, 436)]]\n",
            "About to crop\n",
            "3378\n",
            "[MoviePy] Writing audio in Audio/Uu1xVo0CF5o.mp3\n"
          ],
          "name": "stdout"
        },
        {
          "output_type": "stream",
          "text": [
            "100%|██████████| 298/298 [00:00<00:00, 643.25it/s]"
          ],
          "name": "stderr"
        },
        {
          "output_type": "stream",
          "text": [
            "[MoviePy] Done.\n",
            "before dict\n",
            "54\n",
            "http://www.youtube.com/watch?v=WfpZPDqNNg0\n",
            "[youtube] WfpZPDqNNg0: Downloading webpage\n"
          ],
          "name": "stdout"
        },
        {
          "output_type": "stream",
          "text": [
            "\n"
          ],
          "name": "stderr"
        },
        {
          "output_type": "stream",
          "text": [
            "[youtube] WfpZPDqNNg0: Downloading video info webpage\n"
          ],
          "name": "stdout"
        },
        {
          "output_type": "stream",
          "text": [
            "WARNING: Requested formats are incompatible for merge and will be merged into mkv.\n"
          ],
          "name": "stderr"
        },
        {
          "output_type": "stream",
          "text": [
            "[download] Destination: Videos/WfpZPDqNNg0.f248\n",
            "[download] 100% of 78.16MiB in 00:05\n",
            "[download] Destination: Videos/WfpZPDqNNg0.f140\n",
            "[download] 100% of 8.64MiB in 00:00\n",
            "[ffmpeg] Merging formats into \"Videos/WfpZPDqNNg0.mkv\"\n",
            "Deleting original file Videos/WfpZPDqNNg0.f248 (pass -k to keep)\n",
            "Deleting original file Videos/WfpZPDqNNg0.f140 (pass -k to keep)\n",
            "FPS is : 30.0\n",
            "mmod_rectangles[[(1270, 205) (1467, 402)], [(108, 650) (272, 813)]]\n",
            "About to crop\n",
            "7941\n",
            "About to crop\n",
            "7941\n",
            "[MoviePy] Writing audio in Audio/WfpZPDqNNg0.mp3\n"
          ],
          "name": "stdout"
        },
        {
          "output_type": "stream",
          "text": [
            "100%|██████████| 211/211 [00:00<00:00, 915.45it/s]"
          ],
          "name": "stderr"
        },
        {
          "output_type": "stream",
          "text": [
            "[MoviePy] Done.\n",
            "before dict\n",
            "55\n",
            "http://www.youtube.com/watch?v=G7xm-5aDZyg\n",
            "[youtube] G7xm-5aDZyg: Downloading webpage\n"
          ],
          "name": "stdout"
        },
        {
          "output_type": "stream",
          "text": [
            "\n"
          ],
          "name": "stderr"
        },
        {
          "output_type": "stream",
          "text": [
            "[youtube] G7xm-5aDZyg: Downloading video info webpage\n"
          ],
          "name": "stdout"
        },
        {
          "output_type": "stream",
          "text": [
            "WARNING: Requested formats are incompatible for merge and will be merged into mkv.\n"
          ],
          "name": "stderr"
        },
        {
          "output_type": "stream",
          "text": [
            "[download] Destination: Videos/G7xm-5aDZyg.f137\n",
            "[download] 100% of 250.72MiB in 00:41\n",
            "[download] Destination: Videos/G7xm-5aDZyg.f251\n",
            "[download] 100% of 19.63MiB in 00:02\n",
            "[ffmpeg] Merging formats into \"Videos/G7xm-5aDZyg.mkv\"\n",
            "Deleting original file Videos/G7xm-5aDZyg.f137 (pass -k to keep)\n",
            "Deleting original file Videos/G7xm-5aDZyg.f251 (pass -k to keep)\n",
            "FPS is : 25.0\n",
            "mmod_rectangles[[(871, 251) (1035, 415)]]\n",
            "About to crop\n",
            "2916\n",
            "[MoviePy] Writing audio in Audio/G7xm-5aDZyg.mp3\n"
          ],
          "name": "stdout"
        },
        {
          "output_type": "stream",
          "text": [
            "100%|██████████| 121/121 [00:00<00:00, 491.06it/s]"
          ],
          "name": "stderr"
        },
        {
          "output_type": "stream",
          "text": [
            "[MoviePy] Done.\n",
            "before dict\n",
            "56\n",
            "http://www.youtube.com/watch?v=jdshBkVfjrA\n",
            "[youtube] jdshBkVfjrA: Downloading webpage\n"
          ],
          "name": "stdout"
        },
        {
          "output_type": "stream",
          "text": [
            "\n"
          ],
          "name": "stderr"
        },
        {
          "output_type": "stream",
          "text": [
            "[youtube] jdshBkVfjrA: Downloading video info webpage\n",
            "[download] Destination: Videos/jdshBkVfjrA.f247\n",
            "[download] 100% of 49.42MiB in 00:11\n",
            "[download] Destination: Videos/jdshBkVfjrA.f251\n",
            "[download] 100% of 3.91MiB in 00:00\n",
            "[ffmpeg] Merging formats into \"Videos/jdshBkVfjrA.webm\"\n",
            "Deleting original file Videos/jdshBkVfjrA.f247 (pass -k to keep)\n",
            "Deleting original file Videos/jdshBkVfjrA.f251 (pass -k to keep)\n",
            "0 fps\n",
            "57\n",
            "http://www.youtube.com/watch?v=3gcWAZSNi2E\n",
            "[youtube] 3gcWAZSNi2E: Downloading webpage\n",
            "[youtube] 3gcWAZSNi2E: Downloading video info webpage\n"
          ],
          "name": "stdout"
        },
        {
          "output_type": "stream",
          "text": [
            "WARNING: Requested formats are incompatible for merge and will be merged into mkv.\n"
          ],
          "name": "stderr"
        },
        {
          "output_type": "stream",
          "text": [
            "[download] Destination: Videos/3gcWAZSNi2E.f137\n",
            "[download] 100% of 124.72MiB in 00:10\n",
            "[download] Destination: Videos/3gcWAZSNi2E.f251\n",
            "[download] 100% of 5.93MiB in 00:00\n",
            "[ffmpeg] Merging formats into \"Videos/3gcWAZSNi2E.mkv\"\n",
            "Deleting original file Videos/3gcWAZSNi2E.f137 (pass -k to keep)\n",
            "Deleting original file Videos/3gcWAZSNi2E.f251 (pass -k to keep)\n",
            "FPS is : 29.97002997002997\n",
            "mmod_rectangles[[(984, 239) (1267, 522)]]\n",
            "About to crop\n",
            "1021\n",
            "[MoviePy] Writing audio in Audio/3gcWAZSNi2E.mp3\n"
          ],
          "name": "stdout"
        },
        {
          "output_type": "stream",
          "text": [
            "100%|██████████| 159/159 [00:00<00:00, 522.37it/s]"
          ],
          "name": "stderr"
        },
        {
          "output_type": "stream",
          "text": [
            "[MoviePy] Done.\n",
            "before dict\n",
            "58\n",
            "http://www.youtube.com/watch?v=Wl3HSpsiIb4\n",
            "[youtube] Wl3HSpsiIb4: Downloading webpage\n"
          ],
          "name": "stdout"
        },
        {
          "output_type": "stream",
          "text": [
            "\n"
          ],
          "name": "stderr"
        },
        {
          "output_type": "stream",
          "text": [
            "[youtube] Wl3HSpsiIb4: Downloading video info webpage\n"
          ],
          "name": "stdout"
        },
        {
          "output_type": "stream",
          "text": [
            "WARNING: Requested formats are incompatible for merge and will be merged into mkv.\n"
          ],
          "name": "stderr"
        },
        {
          "output_type": "stream",
          "text": [
            "[download] Destination: Videos/Wl3HSpsiIb4.f136\n",
            "[download] 100% of 58.85MiB in 00:04\n",
            "[download] Destination: Videos/Wl3HSpsiIb4.f251\n",
            "[download] 100% of 7.46MiB in 00:00\n",
            "[ffmpeg] Merging formats into \"Videos/Wl3HSpsiIb4.mkv\"\n",
            "Deleting original file Videos/Wl3HSpsiIb4.f136 (pass -k to keep)\n",
            "Deleting original file Videos/Wl3HSpsiIb4.f251 (pass -k to keep)\n",
            "FPS is : 23.976023976023978\n",
            "mmod_rectangles[[(674, 115) (788, 229)], [(424, 216) (587, 380)]]\n",
            "About to crop\n",
            "5559\n",
            "About to crop\n",
            "5559\n",
            "[MoviePy] Writing audio in Audio/Wl3HSpsiIb4.mp3\n"
          ],
          "name": "stdout"
        },
        {
          "output_type": "stream",
          "text": [
            "100%|██████████| 126/126 [00:00<00:00, 531.28it/s]"
          ],
          "name": "stderr"
        },
        {
          "output_type": "stream",
          "text": [
            "[MoviePy] Done.\n",
            "before dict\n",
            "59\n",
            "http://www.youtube.com/watch?v=yeqK6kqoIYk\n",
            "[youtube] yeqK6kqoIYk: Downloading webpage\n"
          ],
          "name": "stdout"
        },
        {
          "output_type": "stream",
          "text": [
            "\n"
          ],
          "name": "stderr"
        },
        {
          "output_type": "stream",
          "text": [
            "[youtube] yeqK6kqoIYk: Downloading video info webpage\n"
          ],
          "name": "stdout"
        },
        {
          "output_type": "stream",
          "text": [
            "WARNING: Requested formats are incompatible for merge and will be merged into mkv.\n"
          ],
          "name": "stderr"
        },
        {
          "output_type": "stream",
          "text": [
            "[download] Destination: Videos/yeqK6kqoIYk.f135\n",
            "[download] 100% of 23.53MiB in 00:02\n",
            "[download] Destination: Videos/yeqK6kqoIYk.f251\n",
            "[download] 100% of 4.35MiB in 00:01\n",
            "[ffmpeg] Merging formats into \"Videos/yeqK6kqoIYk.mkv\"\n",
            "Deleting original file Videos/yeqK6kqoIYk.f135 (pass -k to keep)\n",
            "Deleting original file Videos/yeqK6kqoIYk.f251 (pass -k to keep)\n",
            "FPS is : 25.0\n",
            "mmod_rectangles[[(216, 108) (311, 203)]]\n",
            "About to crop\n",
            "5596\n",
            "[MoviePy] Writing audio in Audio/yeqK6kqoIYk.mp3\n"
          ],
          "name": "stdout"
        },
        {
          "output_type": "stream",
          "text": [
            "100%|██████████| 143/143 [00:00<00:00, 560.05it/s]"
          ],
          "name": "stderr"
        },
        {
          "output_type": "stream",
          "text": [
            "[MoviePy] Done.\n",
            "before dict\n",
            "60\n",
            "http://www.youtube.com/watch?v=YWgXhe7JYp4\n",
            "[youtube] YWgXhe7JYp4: Downloading webpage\n"
          ],
          "name": "stdout"
        },
        {
          "output_type": "stream",
          "text": [
            "\n"
          ],
          "name": "stderr"
        },
        {
          "output_type": "stream",
          "text": [
            "[youtube] YWgXhe7JYp4: Downloading video info webpage\n"
          ],
          "name": "stdout"
        },
        {
          "output_type": "stream",
          "text": [
            "WARNING: Unable to extract video title\n",
            "WARNING: unable to extract description; please report this issue on https://yt-dl.org/bug . Make sure you are using the latest version; see  https://yt-dl.org/update  on how to update. Be sure to call youtube-dl with the --verbose flag and include its complete output.\n",
            "ERROR: This video is unavailable.\n",
            "Sorry about that.\n"
          ],
          "name": "stderr"
        },
        {
          "output_type": "stream",
          "text": [
            "###########################################\n",
            "SORRY!!! The video is unavailable\n",
            "###########################################\n",
            "61\n",
            "http://www.youtube.com/watch?v=ReXQGb2k3fo\n",
            "[youtube] ReXQGb2k3fo: Downloading webpage\n",
            "[youtube] ReXQGb2k3fo: Downloading video info webpage\n",
            "[youtube] ReXQGb2k3fo: Downloading MPD manifest\n",
            "[dashsegments] Total fragments: 111\n",
            "[download] Destination: Videos/ReXQGb2k3fo.f136\n",
            "[download] 100% of 161.37MiB in 00:55\n",
            "[dashsegments] Total fragments: 118\n",
            "[download] Destination: Videos/ReXQGb2k3fo.f140\n",
            "[download] 100% of 8.84MiB in 00:29\n",
            "[ffmpeg] Merging formats into \"Videos/ReXQGb2k3fo.mp4\"\n",
            "Deleting original file Videos/ReXQGb2k3fo.f136 (pass -k to keep)\n",
            "Deleting original file Videos/ReXQGb2k3fo.f140 (pass -k to keep)\n",
            "0 fps\n",
            "62\n",
            "http://www.youtube.com/watch?v=2RvWHWhyx1w\n",
            "[youtube] 2RvWHWhyx1w: Downloading webpage\n",
            "[youtube] 2RvWHWhyx1w: Downloading video info webpage\n",
            "[download] Destination: Videos/2RvWHWhyx1w.f136\n",
            "[download] 100% of 150.53MiB in 00:22\n",
            "[download] Destination: Videos/2RvWHWhyx1w.f140\n",
            "[download] 100% of 14.32MiB in 00:02\n",
            "[ffmpeg] Merging formats into \"Videos/2RvWHWhyx1w.mp4\"\n",
            "Deleting original file Videos/2RvWHWhyx1w.f136 (pass -k to keep)\n",
            "Deleting original file Videos/2RvWHWhyx1w.f140 (pass -k to keep)\n",
            "0 fps\n",
            "63\n",
            "http://www.youtube.com/watch?v=AOoqrXx5BNU\n",
            "[youtube] AOoqrXx5BNU: Downloading webpage\n",
            "[youtube] AOoqrXx5BNU: Downloading video info webpage\n"
          ],
          "name": "stdout"
        },
        {
          "output_type": "stream",
          "text": [
            "WARNING: Requested formats are incompatible for merge and will be merged into mkv.\n"
          ],
          "name": "stderr"
        },
        {
          "output_type": "stream",
          "text": [
            "[download] Destination: Videos/AOoqrXx5BNU.f137\n",
            "[download] 100% of 114.02MiB in 00:23\n",
            "[download] Destination: Videos/AOoqrXx5BNU.f251\n",
            "[download] 100% of 8.45MiB in 00:00\n",
            "[ffmpeg] Merging formats into \"Videos/AOoqrXx5BNU.mkv\"\n",
            "Deleting original file Videos/AOoqrXx5BNU.f137 (pass -k to keep)\n",
            "Deleting original file Videos/AOoqrXx5BNU.f251 (pass -k to keep)\n",
            "FPS is : 30.0\n",
            "mmod_rectangles[[(797, 444) (1286, 933)]]\n",
            "About to crop\n",
            "5108\n",
            "[MoviePy] Writing audio in Audio/AOoqrXx5BNU.mp3\n"
          ],
          "name": "stdout"
        },
        {
          "output_type": "stream",
          "text": [
            "100%|██████████| 286/286 [00:00<00:00, 690.83it/s]"
          ],
          "name": "stderr"
        },
        {
          "output_type": "stream",
          "text": [
            "[MoviePy] Done.\n"
          ],
          "name": "stdout"
        },
        {
          "output_type": "stream",
          "text": [
            "\n"
          ],
          "name": "stderr"
        },
        {
          "output_type": "stream",
          "text": [
            "before dict\n",
            "64\n",
            "http://www.youtube.com/watch?v=_8K1hWkirLo\n",
            "[youtube] _8K1hWkirLo: Downloading webpage\n",
            "[youtube] _8K1hWkirLo: Downloading video info webpage\n"
          ],
          "name": "stdout"
        },
        {
          "output_type": "stream",
          "text": [
            "WARNING: Requested formats are incompatible for merge and will be merged into mkv.\n"
          ],
          "name": "stderr"
        },
        {
          "output_type": "stream",
          "text": [
            "[download] Destination: Videos/_8K1hWkirLo.f137\n",
            "[download] 100% of 80.87MiB in 00:11\n",
            "[download] Destination: Videos/_8K1hWkirLo.f251\n",
            "[download] 100% of 4.80MiB in 00:00\n",
            "[ffmpeg] Merging formats into \"Videos/_8K1hWkirLo.mkv\"\n",
            "Deleting original file Videos/_8K1hWkirLo.f137 (pass -k to keep)\n",
            "Deleting original file Videos/_8K1hWkirLo.f251 (pass -k to keep)\n",
            "FPS is : 25.0\n",
            "mmod_rectangles[[(755, 239) (1038, 522)]]\n",
            "About to crop\n",
            "2318\n",
            "[MoviePy] Writing audio in Audio/_8K1hWkirLo.mp3\n"
          ],
          "name": "stdout"
        },
        {
          "output_type": "stream",
          "text": [
            "100%|██████████| 147/147 [00:00<00:00, 502.56it/s]"
          ],
          "name": "stderr"
        },
        {
          "output_type": "stream",
          "text": [
            "[MoviePy] Done.\n",
            "before dict\n",
            "65\n",
            "http://www.youtube.com/watch?v=cPUBnjqIaXI\n",
            "[youtube] cPUBnjqIaXI: Downloading webpage\n"
          ],
          "name": "stdout"
        },
        {
          "output_type": "stream",
          "text": [
            "\n"
          ],
          "name": "stderr"
        },
        {
          "output_type": "stream",
          "text": [
            "[youtube] cPUBnjqIaXI: Downloading video info webpage\n",
            "[download] Destination: Videos/cPUBnjqIaXI.f136\n",
            "[download] 100% of 40.84MiB in 00:06\n",
            "[download] Destination: Videos/cPUBnjqIaXI.f140\n",
            "[download] 100% of 5.93MiB in 00:00\n",
            "[ffmpeg] Merging formats into \"Videos/cPUBnjqIaXI.mp4\"\n",
            "Deleting original file Videos/cPUBnjqIaXI.f136 (pass -k to keep)\n",
            "Deleting original file Videos/cPUBnjqIaXI.f140 (pass -k to keep)\n",
            "0 fps\n",
            "66\n",
            "http://www.youtube.com/watch?v=342Pxxa7n8Q\n",
            "[youtube] 342Pxxa7n8Q: Downloading webpage\n",
            "[youtube] 342Pxxa7n8Q: Downloading video info webpage\n",
            "[download] Destination: Videos/342Pxxa7n8Q.f248\n",
            "[download] 100% of 76.04MiB in 00:17\n",
            "[download] Destination: Videos/342Pxxa7n8Q.f251\n",
            "[download] 100% of 7.08MiB in 00:01\n",
            "[ffmpeg] Merging formats into \"Videos/342Pxxa7n8Q.webm\"\n",
            "Deleting original file Videos/342Pxxa7n8Q.f248 (pass -k to keep)\n",
            "Deleting original file Videos/342Pxxa7n8Q.f251 (pass -k to keep)\n",
            "0 fps\n",
            "67\n",
            "http://www.youtube.com/watch?v=umcJyBaatBs\n",
            "[youtube] umcJyBaatBs: Downloading webpage\n",
            "[youtube] umcJyBaatBs: Downloading video info webpage\n",
            "[download] Destination: Videos/umcJyBaatBs.f136\n",
            "[download] 100% of 68.56MiB in 00:04\n",
            "[download] Destination: Videos/umcJyBaatBs.f140\n",
            "[download] 100% of 6.48MiB in 00:00\n",
            "[ffmpeg] Merging formats into \"Videos/umcJyBaatBs.mp4\"\n",
            "Deleting original file Videos/umcJyBaatBs.f136 (pass -k to keep)\n",
            "Deleting original file Videos/umcJyBaatBs.f140 (pass -k to keep)\n",
            "0 fps\n",
            "68\n",
            "http://www.youtube.com/watch?v=QYnLgIsR3bc\n",
            "[youtube] QYnLgIsR3bc: Downloading webpage\n",
            "[youtube] QYnLgIsR3bc: Downloading video info webpage\n",
            "[youtube] QYnLgIsR3bc: Downloading MPD manifest\n"
          ],
          "name": "stdout"
        },
        {
          "output_type": "stream",
          "text": [
            "WARNING: Requested formats are incompatible for merge and will be merged into mkv.\n"
          ],
          "name": "stderr"
        },
        {
          "output_type": "stream",
          "text": [
            "[dashsegments] Total fragments: 115\n",
            "[download] Destination: Videos/QYnLgIsR3bc.f136\n",
            "[download] 100% of 49.64MiB in 01:11\n",
            "[dashsegments] Total fragments: 59\n",
            "[download] Destination: Videos/QYnLgIsR3bc.f251\n",
            "[download] 100% of 7.21MiB in 00:28\n",
            "[ffmpeg] Merging formats into \"Videos/QYnLgIsR3bc.mkv\"\n",
            "Deleting original file Videos/QYnLgIsR3bc.f136 (pass -k to keep)\n",
            "Deleting original file Videos/QYnLgIsR3bc.f251 (pass -k to keep)\n",
            "FPS is : 29.97002997002997\n",
            "mmod_rectangles[[(574, 156) (710, 292)]]\n",
            "About to crop\n",
            "5450\n",
            "[MoviePy] Writing audio in Audio/QYnLgIsR3bc.mp3\n"
          ],
          "name": "stdout"
        },
        {
          "output_type": "stream",
          "text": [
            "100%|██████████| 79/79 [00:00<00:00, 415.32it/s]"
          ],
          "name": "stderr"
        },
        {
          "output_type": "stream",
          "text": [
            "[MoviePy] Done.\n"
          ],
          "name": "stdout"
        },
        {
          "output_type": "stream",
          "text": [
            "\n"
          ],
          "name": "stderr"
        },
        {
          "output_type": "stream",
          "text": [
            "before dict\n",
            "69\n",
            "http://www.youtube.com/watch?v=ohd_xOV6zW4\n",
            "[youtube] ohd_xOV6zW4: Downloading webpage\n",
            "[youtube] ohd_xOV6zW4: Downloading video info webpage\n"
          ],
          "name": "stdout"
        },
        {
          "output_type": "stream",
          "text": [
            "WARNING: Requested formats are incompatible for merge and will be merged into mkv.\n"
          ],
          "name": "stderr"
        },
        {
          "output_type": "stream",
          "text": [
            "[download] Destination: Videos/ohd_xOV6zW4.f248\n",
            "[download] 100% of 307.18MiB in 00:47\n",
            "[download] Destination: Videos/ohd_xOV6zW4.f140\n",
            "[download] 100% of 17.00MiB in 00:02\n",
            "[ffmpeg] Merging formats into \"Videos/ohd_xOV6zW4.mkv\"\n",
            "Deleting original file Videos/ohd_xOV6zW4.f248 (pass -k to keep)\n",
            "Deleting original file Videos/ohd_xOV6zW4.f140 (pass -k to keep)\n",
            "FPS is : 29.97002997002997\n",
            "mmod_rectangles[[(872, 404) (1068, 601)]]\n",
            "About to crop\n",
            "1738\n",
            "[MoviePy] Writing audio in Audio/ohd_xOV6zW4.mp3\n"
          ],
          "name": "stdout"
        },
        {
          "output_type": "stream",
          "text": [
            "100%|██████████| 67/67 [00:00<00:00, 428.33it/s]"
          ],
          "name": "stderr"
        },
        {
          "output_type": "stream",
          "text": [
            "[MoviePy] Done.\n",
            "before dict\n",
            "70\n",
            "http://www.youtube.com/watch?v=DxpQmBfA6vM\n",
            "[youtube] DxpQmBfA6vM: Downloading webpage\n"
          ],
          "name": "stdout"
        },
        {
          "output_type": "stream",
          "text": [
            "\n"
          ],
          "name": "stderr"
        },
        {
          "output_type": "stream",
          "text": [
            "[youtube] DxpQmBfA6vM: Downloading video info webpage\n"
          ],
          "name": "stdout"
        },
        {
          "output_type": "stream",
          "text": [
            "WARNING: Requested formats are incompatible for merge and will be merged into mkv.\n"
          ],
          "name": "stderr"
        },
        {
          "output_type": "stream",
          "text": [
            "[download] Destination: Videos/DxpQmBfA6vM.f137\n",
            "[download] 100% of 151.27MiB in 00:35\n",
            "[download] Destination: Videos/DxpQmBfA6vM.f251\n",
            "[download] 100% of 6.69MiB in 00:00\n",
            "[ffmpeg] Merging formats into \"Videos/DxpQmBfA6vM.mkv\"\n",
            "Deleting original file Videos/DxpQmBfA6vM.f137 (pass -k to keep)\n",
            "Deleting original file Videos/DxpQmBfA6vM.f251 (pass -k to keep)\n",
            "FPS is : 29.97002997002997\n",
            "mmod_rectangles[[(230, 177) (935, 881)]]\n",
            "About to crop\n",
            "2520\n",
            "[MoviePy] Writing audio in Audio/DxpQmBfA6vM.mp3\n"
          ],
          "name": "stdout"
        },
        {
          "output_type": "stream",
          "text": [
            "100%|██████████| 67/67 [00:00<00:00, 340.67it/s]\n"
          ],
          "name": "stderr"
        },
        {
          "output_type": "stream",
          "text": [
            "[MoviePy] Done.\n",
            "before dict\n",
            "71\n",
            "http://www.youtube.com/watch?v=xwxbJkXRJHw\n",
            "[youtube] xwxbJkXRJHw: Downloading webpage\n",
            "[youtube] xwxbJkXRJHw: Downloading video info webpage\n"
          ],
          "name": "stdout"
        },
        {
          "output_type": "stream",
          "text": [
            "WARNING: Requested formats are incompatible for merge and will be merged into mkv.\n"
          ],
          "name": "stderr"
        },
        {
          "output_type": "stream",
          "text": [
            "[download] Destination: Videos/xwxbJkXRJHw.f136\n",
            "[download] 100% of 234.92MiB in 00:49\n",
            "[download] Destination: Videos/xwxbJkXRJHw.f251\n",
            "[download] 100% of 19.60MiB in 00:04\n",
            "[ffmpeg] Merging formats into \"Videos/xwxbJkXRJHw.mkv\"\n",
            "Deleting original file Videos/xwxbJkXRJHw.f136 (pass -k to keep)\n",
            "Deleting original file Videos/xwxbJkXRJHw.f251 (pass -k to keep)\n",
            "FPS is : 25.0\n",
            "mmod_rectangles[[(519, 87) (655, 223)]]\n",
            "About to crop\n",
            "6257\n",
            "[MoviePy] Writing audio in Audio/xwxbJkXRJHw.mp3\n"
          ],
          "name": "stdout"
        },
        {
          "output_type": "stream",
          "text": [
            "100%|██████████| 143/143 [00:00<00:00, 557.19it/s]"
          ],
          "name": "stderr"
        },
        {
          "output_type": "stream",
          "text": [
            "[MoviePy] Done.\n",
            "before dict\n",
            "72\n",
            "http://www.youtube.com/watch?v=Gqt1A6O6UTk\n",
            "[youtube] Gqt1A6O6UTk: Downloading webpage\n"
          ],
          "name": "stdout"
        },
        {
          "output_type": "stream",
          "text": [
            "\n"
          ],
          "name": "stderr"
        },
        {
          "output_type": "stream",
          "text": [
            "[youtube] Gqt1A6O6UTk: Downloading video info webpage\n"
          ],
          "name": "stdout"
        },
        {
          "output_type": "stream",
          "text": [
            "WARNING: Requested formats are incompatible for merge and will be merged into mkv.\n"
          ],
          "name": "stderr"
        },
        {
          "output_type": "stream",
          "text": [
            "[download] Destination: Videos/Gqt1A6O6UTk.f136\n",
            "[download] 100% of 48.97MiB in 00:05\n",
            "[download] Destination: Videos/Gqt1A6O6UTk.f251\n",
            "[download] 100% of 4.34MiB in 00:00\n",
            "[ffmpeg] Merging formats into \"Videos/Gqt1A6O6UTk.mkv\"\n",
            "Deleting original file Videos/Gqt1A6O6UTk.f136 (pass -k to keep)\n",
            "Deleting original file Videos/Gqt1A6O6UTk.f251 (pass -k to keep)\n",
            "FPS is : 30.0\n",
            "mmod_rectangles[[(892, 73) (1028, 209)]]\n",
            "About to crop\n",
            "2019\n",
            "[MoviePy] Writing audio in Audio/Gqt1A6O6UTk.mp3\n"
          ],
          "name": "stdout"
        },
        {
          "output_type": "stream",
          "text": [
            "100%|██████████| 68/68 [00:00<00:00, 421.56it/s]"
          ],
          "name": "stderr"
        },
        {
          "output_type": "stream",
          "text": [
            "[MoviePy] Done.\n",
            "before dict\n",
            "73\n",
            "http://www.youtube.com/watch?v=YOySUCOJUtQ\n",
            "[youtube] YOySUCOJUtQ: Downloading webpage\n"
          ],
          "name": "stdout"
        },
        {
          "output_type": "stream",
          "text": [
            "\n"
          ],
          "name": "stderr"
        },
        {
          "output_type": "stream",
          "text": [
            "[youtube] YOySUCOJUtQ: Downloading video info webpage\n"
          ],
          "name": "stdout"
        },
        {
          "output_type": "stream",
          "text": [
            "WARNING: Requested formats are incompatible for merge and will be merged into mkv.\n"
          ],
          "name": "stderr"
        },
        {
          "output_type": "stream",
          "text": [
            "[download] Destination: Videos/YOySUCOJUtQ.f136\n",
            "[download] 100% of 165.26MiB in 00:05\n",
            "[download] Destination: Videos/YOySUCOJUtQ.f251\n",
            "[download] 100% of 15.92MiB in 00:00\n",
            "[ffmpeg] Merging formats into \"Videos/YOySUCOJUtQ.mkv\"\n",
            "Deleting original file Videos/YOySUCOJUtQ.f136 (pass -k to keep)\n",
            "Deleting original file Videos/YOySUCOJUtQ.f251 (pass -k to keep)\n",
            "FPS is : 29.97002997002997\n",
            "mmod_rectangles[[(657, 146) (752, 241)]]\n",
            "About to crop\n",
            "4017\n",
            "[MoviePy] Writing audio in Audio/YOySUCOJUtQ.mp3\n"
          ],
          "name": "stdout"
        },
        {
          "output_type": "stream",
          "text": [
            "100%|██████████| 290/290 [00:00<00:00, 691.14it/s]"
          ],
          "name": "stderr"
        },
        {
          "output_type": "stream",
          "text": [
            "[MoviePy] Done.\n",
            "before dict\n",
            "74\n",
            "http://www.youtube.com/watch?v=ft3fl0x3gFo\n",
            "[youtube] ft3fl0x3gFo: Downloading webpage\n"
          ],
          "name": "stdout"
        },
        {
          "output_type": "stream",
          "text": [
            "\n"
          ],
          "name": "stderr"
        },
        {
          "output_type": "stream",
          "text": [
            "[youtube] ft3fl0x3gFo: Downloading video info webpage\n",
            "[download] Destination: Videos/ft3fl0x3gFo.f247\n",
            "[download] 100% of 134.10MiB in 00:33\n",
            "[download] Destination: Videos/ft3fl0x3gFo.f251\n",
            "[download] 100% of 13.43MiB in 00:02\n",
            "[ffmpeg] Merging formats into \"Videos/ft3fl0x3gFo.webm\"\n",
            "Deleting original file Videos/ft3fl0x3gFo.f247 (pass -k to keep)\n",
            "Deleting original file Videos/ft3fl0x3gFo.f251 (pass -k to keep)\n",
            "0 fps\n",
            "75\n",
            "http://www.youtube.com/watch?v=7DBdAnTuw5c\n",
            "[youtube] 7DBdAnTuw5c: Downloading webpage\n",
            "[youtube] 7DBdAnTuw5c: Downloading video info webpage\n"
          ],
          "name": "stdout"
        },
        {
          "output_type": "stream",
          "text": [
            "WARNING: Requested formats are incompatible for merge and will be merged into mkv.\n"
          ],
          "name": "stderr"
        },
        {
          "output_type": "stream",
          "text": [
            "[download] Destination: Videos/7DBdAnTuw5c.f137\n",
            "[download] 100% of 142.55MiB in 00:22\n",
            "[download] Destination: Videos/7DBdAnTuw5c.f251\n",
            "[download] 100% of 9.89MiB in 00:02\n",
            "[ffmpeg] Merging formats into \"Videos/7DBdAnTuw5c.mkv\"\n",
            "Deleting original file Videos/7DBdAnTuw5c.f137 (pass -k to keep)\n",
            "Deleting original file Videos/7DBdAnTuw5c.f251 (pass -k to keep)\n",
            "FPS is : 23.976023976023978\n",
            "mmod_rectangles[[(878, 215) (1015, 351)]]\n",
            "About to crop\n",
            "1518\n",
            "[MoviePy] Writing audio in Audio/7DBdAnTuw5c.mp3\n"
          ],
          "name": "stdout"
        },
        {
          "output_type": "stream",
          "text": [
            "100%|██████████| 114/114 [00:00<00:00, 471.74it/s]"
          ],
          "name": "stderr"
        },
        {
          "output_type": "stream",
          "text": [
            "[MoviePy] Done.\n",
            "before dict\n",
            "76\n",
            "http://www.youtube.com/watch?v=ibPOxQ7XYPk\n",
            "[youtube] ibPOxQ7XYPk: Downloading webpage\n"
          ],
          "name": "stdout"
        },
        {
          "output_type": "stream",
          "text": [
            "\n"
          ],
          "name": "stderr"
        },
        {
          "output_type": "stream",
          "text": [
            "[youtube] ibPOxQ7XYPk: Downloading video info webpage\n"
          ],
          "name": "stdout"
        },
        {
          "output_type": "stream",
          "text": [
            "WARNING: Requested formats are incompatible for merge and will be merged into mkv.\n"
          ],
          "name": "stderr"
        },
        {
          "output_type": "stream",
          "text": [
            "[download] Destination: Videos/ibPOxQ7XYPk.f137\n",
            "[download] 100% of 178.67MiB in 00:36\n",
            "[download] Destination: Videos/ibPOxQ7XYPk.f251\n",
            "[download] 100% of 9.44MiB in 00:01\n",
            "[ffmpeg] Merging formats into \"Videos/ibPOxQ7XYPk.mkv\"\n",
            "Deleting original file Videos/ibPOxQ7XYPk.f137 (pass -k to keep)\n",
            "Deleting original file Videos/ibPOxQ7XYPk.f251 (pass -k to keep)\n",
            "FPS is : 25.0\n",
            "mmod_rectangles[[(988, 251) (1151, 415)]]\n",
            "About to crop\n",
            "829\n",
            "[MoviePy] Writing audio in Audio/ibPOxQ7XYPk.mp3\n"
          ],
          "name": "stdout"
        },
        {
          "output_type": "stream",
          "text": [
            "100%|██████████| 161/161 [00:00<00:00, 604.59it/s]"
          ],
          "name": "stderr"
        },
        {
          "output_type": "stream",
          "text": [
            "[MoviePy] Done.\n",
            "before dict\n",
            "77\n",
            "http://www.youtube.com/watch?v=ausPEm5ZWQE\n",
            "[youtube] ausPEm5ZWQE: Downloading webpage\n"
          ],
          "name": "stdout"
        },
        {
          "output_type": "stream",
          "text": [
            "\n"
          ],
          "name": "stderr"
        },
        {
          "output_type": "stream",
          "text": [
            "[youtube] ausPEm5ZWQE: Downloading video info webpage\n"
          ],
          "name": "stdout"
        },
        {
          "output_type": "stream",
          "text": [
            "WARNING: Unable to extract video title\n",
            "WARNING: unable to extract description; please report this issue on https://yt-dl.org/bug . Make sure you are using the latest version; see  https://yt-dl.org/update  on how to update. Be sure to call youtube-dl with the --verbose flag and include its complete output.\n",
            "ERROR: This video is no longer available because the YouTube account associated with this video has been terminated.\n",
            "Sorry about that.\n"
          ],
          "name": "stderr"
        },
        {
          "output_type": "stream",
          "text": [
            "###########################################\n",
            "SORRY!!! The video is unavailable\n",
            "###########################################\n",
            "78\n",
            "http://www.youtube.com/watch?v=a2iQ7kB5b6s\n",
            "[youtube] a2iQ7kB5b6s: Downloading webpage\n",
            "[youtube] a2iQ7kB5b6s: Downloading video info webpage\n"
          ],
          "name": "stdout"
        },
        {
          "output_type": "stream",
          "text": [
            "WARNING: Requested formats are incompatible for merge and will be merged into mkv.\n"
          ],
          "name": "stderr"
        },
        {
          "output_type": "stream",
          "text": [
            "[download] Destination: Videos/a2iQ7kB5b6s.f137\n",
            "[download] 100% of 215.78MiB in 00:50\n",
            "[download] Destination: Videos/a2iQ7kB5b6s.f251\n",
            "[download] 100% of 11.11MiB in 00:01\n",
            "[ffmpeg] Merging formats into \"Videos/a2iQ7kB5b6s.mkv\"\n",
            "Deleting original file Videos/a2iQ7kB5b6s.f137 (pass -k to keep)\n",
            "Deleting original file Videos/a2iQ7kB5b6s.f251 (pass -k to keep)\n",
            "FPS is : 25.0\n",
            "mmod_rectangles[[(872, 404) (1068, 601)]]\n",
            "About to crop\n",
            "3447\n",
            "[MoviePy] Writing audio in Audio/a2iQ7kB5b6s.mp3\n"
          ],
          "name": "stdout"
        },
        {
          "output_type": "stream",
          "text": [
            "100%|██████████| 99/99 [00:00<00:00, 399.55it/s]"
          ],
          "name": "stderr"
        },
        {
          "output_type": "stream",
          "text": [
            "[MoviePy] Done.\n",
            "before dict\n",
            "79\n",
            "http://www.youtube.com/watch?v=WddCvVatDlo\n",
            "[youtube] WddCvVatDlo: Downloading webpage\n"
          ],
          "name": "stdout"
        },
        {
          "output_type": "stream",
          "text": [
            "\n"
          ],
          "name": "stderr"
        },
        {
          "output_type": "stream",
          "text": [
            "[youtube] WddCvVatDlo: Downloading video info webpage\n"
          ],
          "name": "stdout"
        },
        {
          "output_type": "stream",
          "text": [
            "WARNING: Requested formats are incompatible for merge and will be merged into mkv.\n"
          ],
          "name": "stderr"
        },
        {
          "output_type": "stream",
          "text": [
            "[download] Destination: Videos/WddCvVatDlo.f136\n",
            "[download] 100% of 63.54MiB in 00:29\n",
            "[download] Destination: Videos/WddCvVatDlo.f251\n",
            "[download] 100% of 9.73MiB in 00:28\n",
            "[ffmpeg] Merging formats into \"Videos/WddCvVatDlo.mkv\"\n",
            "Deleting original file Videos/WddCvVatDlo.f136 (pass -k to keep)\n",
            "Deleting original file Videos/WddCvVatDlo.f251 (pass -k to keep)\n",
            "FPS is : 30.0\n",
            "mmod_rectangles[[(504, 241) (912, 649)]]\n",
            "About to crop\n",
            "7354\n",
            "[MoviePy] Writing audio in Audio/WddCvVatDlo.mp3\n"
          ],
          "name": "stdout"
        },
        {
          "output_type": "stream",
          "text": [
            "100%|██████████| 250/250 [00:00<00:00, 537.74it/s]"
          ],
          "name": "stderr"
        },
        {
          "output_type": "stream",
          "text": [
            "[MoviePy] Done.\n",
            "before dict\n",
            "80\n",
            "http://www.youtube.com/watch?v=04BgTYq4Ckk\n",
            "[youtube] 04BgTYq4Ckk: Downloading webpage\n"
          ],
          "name": "stdout"
        },
        {
          "output_type": "stream",
          "text": [
            "\n"
          ],
          "name": "stderr"
        },
        {
          "output_type": "stream",
          "text": [
            "[youtube] 04BgTYq4Ckk: Downloading video info webpage\n"
          ],
          "name": "stdout"
        },
        {
          "output_type": "stream",
          "text": [
            "WARNING: Unable to extract video title\n",
            "WARNING: unable to extract description; please report this issue on https://yt-dl.org/bug . Make sure you are using the latest version; see  https://yt-dl.org/update  on how to update. Be sure to call youtube-dl with the --verbose flag and include its complete output.\n",
            "ERROR: This video is unavailable.\n",
            "Sorry about that.\n"
          ],
          "name": "stderr"
        },
        {
          "output_type": "stream",
          "text": [
            "###########################################\n",
            "SORRY!!! The video is unavailable\n",
            "###########################################\n",
            "81\n",
            "http://www.youtube.com/watch?v=wBDD5wTG7P0\n",
            "[youtube] wBDD5wTG7P0: Downloading webpage\n",
            "[youtube] wBDD5wTG7P0: Downloading video info webpage\n"
          ],
          "name": "stdout"
        },
        {
          "output_type": "stream",
          "text": [
            "WARNING: Requested formats are incompatible for merge and will be merged into mkv.\n"
          ],
          "name": "stderr"
        },
        {
          "output_type": "stream",
          "text": [
            "[download] Destination: Videos/wBDD5wTG7P0.f136\n",
            "[download] 100% of 74.18MiB in 00:09\n",
            "[download] Destination: Videos/wBDD5wTG7P0.f251\n",
            "[download] 100% of 7.08MiB in 00:01\n",
            "[ffmpeg] Merging formats into \"Videos/wBDD5wTG7P0.mkv\"\n",
            "Deleting original file Videos/wBDD5wTG7P0.f136 (pass -k to keep)\n",
            "Deleting original file Videos/wBDD5wTG7P0.f251 (pass -k to keep)\n",
            "FPS is : 30.0\n",
            "mmod_rectangles[[(473, 67) (637, 231)]]\n",
            "About to crop\n",
            "6114\n",
            "[MoviePy] Writing audio in Audio/wBDD5wTG7P0.mp3\n"
          ],
          "name": "stdout"
        },
        {
          "output_type": "stream",
          "text": [
            "100%|██████████| 153/153 [00:00<00:00, 598.03it/s]"
          ],
          "name": "stderr"
        },
        {
          "output_type": "stream",
          "text": [
            "[MoviePy] Done.\n",
            "before dict\n",
            "82\n",
            "http://www.youtube.com/watch?v=6LapKTptu8w\n",
            "[youtube] 6LapKTptu8w: Downloading webpage\n"
          ],
          "name": "stdout"
        },
        {
          "output_type": "stream",
          "text": [
            "\n"
          ],
          "name": "stderr"
        },
        {
          "output_type": "stream",
          "text": [
            "[youtube] 6LapKTptu8w: Downloading video info webpage\n"
          ],
          "name": "stdout"
        },
        {
          "output_type": "stream",
          "text": [
            "WARNING: Requested formats are incompatible for merge and will be merged into mkv.\n"
          ],
          "name": "stderr"
        },
        {
          "output_type": "stream",
          "text": [
            "[download] Destination: Videos/6LapKTptu8w.f247\n",
            "[download] 100% of 98.84MiB in 00:03\n",
            "[download] Destination: Videos/6LapKTptu8w.f140\n",
            "[download] 100% of 10.73MiB in 00:00\n",
            "[ffmpeg] Merging formats into \"Videos/6LapKTptu8w.mkv\"\n",
            "Deleting original file Videos/6LapKTptu8w.f247 (pass -k to keep)\n",
            "Deleting original file Videos/6LapKTptu8w.f140 (pass -k to keep)\n",
            "FPS is : 30.0\n",
            "mmod_rectangles[[(546, 100) (683, 237)]]\n",
            "About to crop\n",
            "5007\n",
            "[MoviePy] Writing audio in Audio/6LapKTptu8w.mp3\n"
          ],
          "name": "stdout"
        },
        {
          "output_type": "stream",
          "text": [
            "100%|██████████| 238/238 [00:00<00:00, 969.99it/s]"
          ],
          "name": "stderr"
        },
        {
          "output_type": "stream",
          "text": [
            "[MoviePy] Done.\n",
            "before dict\n",
            "83\n",
            "http://www.youtube.com/watch?v=gX8qtrFaLs4\n",
            "[youtube] gX8qtrFaLs4: Downloading webpage\n"
          ],
          "name": "stdout"
        },
        {
          "output_type": "stream",
          "text": [
            "\n"
          ],
          "name": "stderr"
        },
        {
          "output_type": "stream",
          "text": [
            "[youtube] gX8qtrFaLs4: Downloading video info webpage\n"
          ],
          "name": "stdout"
        },
        {
          "output_type": "stream",
          "text": [
            "WARNING: Requested formats are incompatible for merge and will be merged into mkv.\n"
          ],
          "name": "stderr"
        },
        {
          "output_type": "stream",
          "text": [
            "[download] Destination: Videos/gX8qtrFaLs4.f137\n",
            "[download] 100% of 385.02MiB in 01:46\n",
            "[download] Destination: Videos/gX8qtrFaLs4.f251\n",
            "[download] 100% of 17.43MiB in 00:18\n",
            "[ffmpeg] Merging formats into \"Videos/gX8qtrFaLs4.mkv\"\n",
            "Deleting original file Videos/gX8qtrFaLs4.f137 (pass -k to keep)\n",
            "Deleting original file Videos/gX8qtrFaLs4.f251 (pass -k to keep)\n",
            "FPS is : 29.97002997002997\n",
            "mmod_rectangles[[(829, 228) (1064, 464)]]\n",
            "About to crop\n",
            "3654\n",
            "[MoviePy] Writing audio in Audio/gX8qtrFaLs4.mp3\n"
          ],
          "name": "stdout"
        },
        {
          "output_type": "stream",
          "text": [
            "100%|██████████| 67/67 [00:00<00:00, 335.30it/s]"
          ],
          "name": "stderr"
        },
        {
          "output_type": "stream",
          "text": [
            "[MoviePy] Done.\n",
            "before dict\n",
            "84\n",
            "http://www.youtube.com/watch?v=XXtkzCkzA64\n",
            "[youtube] XXtkzCkzA64: Downloading webpage\n"
          ],
          "name": "stdout"
        },
        {
          "output_type": "stream",
          "text": [
            "\n"
          ],
          "name": "stderr"
        },
        {
          "output_type": "stream",
          "text": [
            "[youtube] XXtkzCkzA64: Downloading video info webpage\n"
          ],
          "name": "stdout"
        },
        {
          "output_type": "stream",
          "text": [
            "WARNING: Requested formats are incompatible for merge and will be merged into mkv.\n"
          ],
          "name": "stderr"
        },
        {
          "output_type": "stream",
          "text": [
            "[download] Destination: Videos/XXtkzCkzA64.f137\n",
            "[download] 100% of 114.44MiB in 01:12\n",
            "[download] Destination: Videos/XXtkzCkzA64.f251\n",
            "[download] 100% of 5.45MiB in 00:00\n",
            "[ffmpeg] Merging formats into \"Videos/XXtkzCkzA64.mkv\"\n",
            "Deleting original file Videos/XXtkzCkzA64.f137 (pass -k to keep)\n",
            "Deleting original file Videos/XXtkzCkzA64.f251 (pass -k to keep)\n",
            "FPS is : 25.0\n",
            "mmod_rectangles[[(972, 205) (1208, 440)]]\n",
            "About to crop\n",
            "2820\n",
            "[MoviePy] Writing audio in Audio/XXtkzCkzA64.mp3\n"
          ],
          "name": "stdout"
        },
        {
          "output_type": "stream",
          "text": [
            "100%|██████████| 287/287 [00:00<00:00, 710.46it/s]"
          ],
          "name": "stderr"
        },
        {
          "output_type": "stream",
          "text": [
            "[MoviePy] Done.\n"
          ],
          "name": "stdout"
        },
        {
          "output_type": "stream",
          "text": [
            "\n"
          ],
          "name": "stderr"
        },
        {
          "output_type": "stream",
          "text": [
            "before dict\n",
            "85\n",
            "http://www.youtube.com/watch?v=TH0xt8XIvVs\n",
            "[youtube] TH0xt8XIvVs: Downloading webpage\n",
            "[youtube] TH0xt8XIvVs: Downloading embed webpage\n",
            "[youtube] TH0xt8XIvVs: Refetching age-gated info webpage\n"
          ],
          "name": "stdout"
        },
        {
          "output_type": "stream",
          "text": [
            "WARNING: Unable to extract video title\n",
            "WARNING: unable to extract description; please report this issue on https://yt-dl.org/bug . Make sure you are using the latest version; see  https://yt-dl.org/update  on how to update. Be sure to call youtube-dl with the --verbose flag and include its complete output.\n",
            "ERROR: Content Warning\n",
            "If the owner of this video has granted you access, please sign in.\n",
            "       This video is private.\n"
          ],
          "name": "stderr"
        },
        {
          "output_type": "stream",
          "text": [
            "###########################################\n",
            "SORRY!!! The video is unavailable\n",
            "###########################################\n",
            "86\n",
            "http://www.youtube.com/watch?v=H2VCPO0isFQ\n",
            "[youtube] H2VCPO0isFQ: Downloading webpage\n",
            "[youtube] H2VCPO0isFQ: Downloading video info webpage\n"
          ],
          "name": "stdout"
        },
        {
          "output_type": "stream",
          "text": [
            "WARNING: Requested formats are incompatible for merge and will be merged into mkv.\n"
          ],
          "name": "stderr"
        },
        {
          "output_type": "stream",
          "text": [
            "[download] Destination: Videos/H2VCPO0isFQ.f137\n",
            "[download] 100% of 235.10MiB in 00:15\n",
            "[download] Destination: Videos/H2VCPO0isFQ.f251\n",
            "[download] 100% of 16.72MiB in 00:02\n",
            "[ffmpeg] Merging formats into \"Videos/H2VCPO0isFQ.mkv\"\n",
            "Deleting original file Videos/H2VCPO0isFQ.f137 (pass -k to keep)\n",
            "Deleting original file Videos/H2VCPO0isFQ.f251 (pass -k to keep)\n",
            "FPS is : 23.976023976023978\n",
            "mmod_rectangles[[(1485, 69) (1649, 233)]]\n",
            "About to crop\n",
            "790\n",
            "[MoviePy] Writing audio in Audio/H2VCPO0isFQ.mp3\n"
          ],
          "name": "stdout"
        },
        {
          "output_type": "stream",
          "text": [
            "100%|██████████| 94/94 [00:00<00:00, 387.31it/s]"
          ],
          "name": "stderr"
        },
        {
          "output_type": "stream",
          "text": [
            "[MoviePy] Done.\n",
            "before dict\n",
            "87\n",
            "http://www.youtube.com/watch?v=aVP0dc3dvtA\n",
            "[youtube] aVP0dc3dvtA: Downloading webpage\n"
          ],
          "name": "stdout"
        },
        {
          "output_type": "stream",
          "text": [
            "\n"
          ],
          "name": "stderr"
        },
        {
          "output_type": "stream",
          "text": [
            "[youtube] aVP0dc3dvtA: Downloading video info webpage\n",
            "[download] Destination: Videos/aVP0dc3dvtA.f248\n",
            "[download] 100% of 129.30MiB in 00:20\n",
            "[download] Destination: Videos/aVP0dc3dvtA.f251\n",
            "[download] 100% of 6.33MiB in 00:01\n",
            "[ffmpeg] Merging formats into \"Videos/aVP0dc3dvtA.webm\"\n",
            "Deleting original file Videos/aVP0dc3dvtA.f248 (pass -k to keep)\n",
            "Deleting original file Videos/aVP0dc3dvtA.f251 (pass -k to keep)\n",
            "0 fps\n",
            "88\n",
            "http://www.youtube.com/watch?v=5fnzANZN-O4\n",
            "[youtube] 5fnzANZN-O4: Downloading webpage\n",
            "[youtube] 5fnzANZN-O4: Downloading video info webpage\n",
            "[download] Destination: Videos/5fnzANZN-O4.f136\n",
            "[download] 100% of 121.15MiB in 00:08\n",
            "[download] Destination: Videos/5fnzANZN-O4.f140\n",
            "[download] 100% of 10.88MiB in 00:01\n",
            "[ffmpeg] Merging formats into \"Videos/5fnzANZN-O4.mp4\"\n",
            "Deleting original file Videos/5fnzANZN-O4.f136 (pass -k to keep)\n",
            "Deleting original file Videos/5fnzANZN-O4.f140 (pass -k to keep)\n",
            "0 fps\n",
            "89\n",
            "http://www.youtube.com/watch?v=alHB2f34oRI\n",
            "[youtube] alHB2f34oRI: Downloading webpage\n",
            "[youtube] alHB2f34oRI: Downloading video info webpage\n"
          ],
          "name": "stdout"
        },
        {
          "output_type": "stream",
          "text": [
            "WARNING: Requested formats are incompatible for merge and will be merged into mkv.\n"
          ],
          "name": "stderr"
        },
        {
          "output_type": "stream",
          "text": [
            "[download] Destination: Videos/alHB2f34oRI.f137\n",
            "[download] 100% of 148.78MiB in 00:34\n",
            "[download] Destination: Videos/alHB2f34oRI.f251\n",
            "[download] 100% of 8.24MiB in 00:01\n",
            "[ffmpeg] Merging formats into \"Videos/alHB2f34oRI.mkv\"\n",
            "Deleting original file Videos/alHB2f34oRI.f137 (pass -k to keep)\n",
            "Deleting original file Videos/alHB2f34oRI.f251 (pass -k to keep)\n",
            "FPS is : 29.97002997002997\n",
            "mmod_rectangles[[(898, 239) (1181, 522)]]\n",
            "About to crop\n",
            "3507\n",
            "[MoviePy] Writing audio in Audio/alHB2f34oRI.mp3\n"
          ],
          "name": "stdout"
        },
        {
          "output_type": "stream",
          "text": [
            "100%|██████████| 91/91 [00:00<00:00, 397.79it/s]"
          ],
          "name": "stderr"
        },
        {
          "output_type": "stream",
          "text": [
            "[MoviePy] Done.\n",
            "before dict\n",
            "90\n",
            "http://www.youtube.com/watch?v=98iIikUQgWQ\n",
            "[youtube] 98iIikUQgWQ: Downloading webpage\n"
          ],
          "name": "stdout"
        },
        {
          "output_type": "stream",
          "text": [
            "\n"
          ],
          "name": "stderr"
        },
        {
          "output_type": "stream",
          "text": [
            "[youtube] 98iIikUQgWQ: Downloading video info webpage\n",
            "[download] Destination: Videos/98iIikUQgWQ.f298\n",
            "[download] 100% of 124.79MiB in 00:28\n",
            "[download] Destination: Videos/98iIikUQgWQ.f140\n",
            "[download] 100% of 8.27MiB in 00:00\n",
            "[ffmpeg] Merging formats into \"Videos/98iIikUQgWQ.mp4\"\n",
            "Deleting original file Videos/98iIikUQgWQ.f298 (pass -k to keep)\n",
            "Deleting original file Videos/98iIikUQgWQ.f140 (pass -k to keep)\n",
            "0 fps\n",
            "91\n",
            "http://www.youtube.com/watch?v=81jh1rIVC0g\n",
            "[youtube] 81jh1rIVC0g: Downloading webpage\n",
            "[youtube] 81jh1rIVC0g: Downloading video info webpage\n",
            "[youtube] 81jh1rIVC0g: Downloading MPD manifest\n",
            "[dashsegments] Total fragments: 104\n",
            "[download] Destination: Videos/81jh1rIVC0g.f137\n",
            "[download] 100% of 159.92MiB in 01:17\n",
            "[dashsegments] Total fragments: 107\n",
            "[download] Destination: Videos/81jh1rIVC0g.f140\n",
            "[download] 100% of 7.99MiB in 00:36\n",
            "[ffmpeg] Merging formats into \"Videos/81jh1rIVC0g.mp4\"\n",
            "Deleting original file Videos/81jh1rIVC0g.f137 (pass -k to keep)\n",
            "Deleting original file Videos/81jh1rIVC0g.f140 (pass -k to keep)\n",
            "0 fps\n",
            "92\n",
            "http://www.youtube.com/watch?v=UVDnhj-jZl0\n",
            "[youtube] UVDnhj-jZl0: Downloading webpage\n",
            "[youtube] UVDnhj-jZl0: Downloading video info webpage\n",
            "[youtube] UVDnhj-jZl0: Downloading MPD manifest\n"
          ],
          "name": "stdout"
        },
        {
          "output_type": "stream",
          "text": [
            "WARNING: Requested formats are incompatible for merge and will be merged into mkv.\n"
          ],
          "name": "stderr"
        },
        {
          "output_type": "stream",
          "text": [
            "[dashsegments] Total fragments: 174\n",
            "[download] Destination: Videos/UVDnhj-jZl0.f247\n",
            "[download] 100% of 30.78MiB in 01:43\n",
            "[dashsegments] Total fragments: 186\n",
            "[download] Destination: Videos/UVDnhj-jZl0.f140\n",
            "[download] 100% of 13.99MiB in 00:16\n",
            "[ffmpeg] Merging formats into \"Videos/UVDnhj-jZl0.mkv\"\n",
            "Deleting original file Videos/UVDnhj-jZl0.f247 (pass -k to keep)\n",
            "Deleting original file Videos/UVDnhj-jZl0.f140 (pass -k to keep)\n",
            "FPS is : 15.0\n",
            "mmod_rectangles[[(1054, 576) (1168, 690)]]\n",
            "About to crop\n",
            "1608\n",
            "[MoviePy] Writing audio in Audio/UVDnhj-jZl0.mp3\n"
          ],
          "name": "stdout"
        },
        {
          "output_type": "stream",
          "text": [
            "100%|██████████| 92/92 [00:00<00:00, 573.15it/s]"
          ],
          "name": "stderr"
        },
        {
          "output_type": "stream",
          "text": [
            "[MoviePy] Done.\n",
            "before dict\n",
            "93\n",
            "http://www.youtube.com/watch?v=awqKt7frvJI\n",
            "[youtube] awqKt7frvJI: Downloading webpage\n"
          ],
          "name": "stdout"
        },
        {
          "output_type": "stream",
          "text": [
            "\n"
          ],
          "name": "stderr"
        },
        {
          "output_type": "stream",
          "text": [
            "[youtube] awqKt7frvJI: Downloading video info webpage\n"
          ],
          "name": "stdout"
        },
        {
          "output_type": "stream",
          "text": [
            "WARNING: Requested formats are incompatible for merge and will be merged into mkv.\n"
          ],
          "name": "stderr"
        },
        {
          "output_type": "stream",
          "text": [
            "[download] Destination: Videos/awqKt7frvJI.f136\n",
            "[download] 100% of 179.81MiB in 01:30\n",
            "[download] Destination: Videos/awqKt7frvJI.f251\n",
            "[download] 100% of 12.07MiB in 00:02\n",
            "[ffmpeg] Merging formats into \"Videos/awqKt7frvJI.mkv\"\n",
            "Deleting original file Videos/awqKt7frvJI.f136 (pass -k to keep)\n",
            "Deleting original file Videos/awqKt7frvJI.f251 (pass -k to keep)\n",
            "FPS is : 25.0\n",
            "mmod_rectangles[[(589, 133) (753, 297)]]\n",
            "About to crop\n",
            "4181\n",
            "[MoviePy] Writing audio in Audio/awqKt7frvJI.mp3\n"
          ],
          "name": "stdout"
        },
        {
          "output_type": "stream",
          "text": [
            "100%|██████████| 67/67 [00:00<00:00, 389.23it/s]"
          ],
          "name": "stderr"
        },
        {
          "output_type": "stream",
          "text": [
            "[MoviePy] Done.\n",
            "before dict\n",
            "94\n",
            "http://www.youtube.com/watch?v=RfP2dOHPej8\n",
            "[youtube] RfP2dOHPej8: Downloading webpage\n"
          ],
          "name": "stdout"
        },
        {
          "output_type": "stream",
          "text": [
            "\n"
          ],
          "name": "stderr"
        },
        {
          "output_type": "stream",
          "text": [
            "[youtube] RfP2dOHPej8: Downloading video info webpage\n",
            "[download] Destination: Videos/RfP2dOHPej8.f136\n",
            "[download] 100% of 51.92MiB in 00:12\n",
            "[download] Destination: Videos/RfP2dOHPej8.f140\n",
            "[download] 100% of 6.73MiB in 00:01\n",
            "[ffmpeg] Merging formats into \"Videos/RfP2dOHPej8.mp4\"\n",
            "Deleting original file Videos/RfP2dOHPej8.f136 (pass -k to keep)\n",
            "Deleting original file Videos/RfP2dOHPej8.f140 (pass -k to keep)\n",
            "0 fps\n",
            "95\n",
            "http://www.youtube.com/watch?v=GtM2sM6r3So\n",
            "[youtube] GtM2sM6r3So: Downloading webpage\n",
            "[youtube] GtM2sM6r3So: Downloading video info webpage\n",
            "[youtube] GtM2sM6r3So: Downloading MPD manifest\n"
          ],
          "name": "stdout"
        },
        {
          "output_type": "stream",
          "text": [
            "WARNING: Requested formats are incompatible for merge and will be merged into mkv.\n"
          ],
          "name": "stderr"
        },
        {
          "output_type": "stream",
          "text": [
            "[dashsegments] Total fragments: 73\n",
            "[download] Destination: Videos/GtM2sM6r3So.f136\n",
            "[download] 100% of 22.08MiB in 00:53\n",
            "[dashsegments] Total fragments: 38\n",
            "[download] Destination: Videos/GtM2sM6r3So.f251\n",
            "[download] 100% of 5.39MiB in 00:13\n",
            "[ffmpeg] Merging formats into \"Videos/GtM2sM6r3So.mkv\"\n",
            "Deleting original file Videos/GtM2sM6r3So.f136 (pass -k to keep)\n",
            "Deleting original file Videos/GtM2sM6r3So.f251 (pass -k to keep)\n",
            "FPS is : 29.97002997002997\n",
            "mmod_rectangles[[(572, 228) (651, 307)]]\n",
            "About to crop\n",
            "3824\n",
            "[MoviePy] Writing audio in Audio/GtM2sM6r3So.mp3\n"
          ],
          "name": "stdout"
        },
        {
          "output_type": "stream",
          "text": [
            "100%|██████████| 170/170 [00:00<00:00, 470.35it/s]"
          ],
          "name": "stderr"
        },
        {
          "output_type": "stream",
          "text": [
            "[MoviePy] Done.\n",
            "before dict\n",
            "96\n",
            "http://www.youtube.com/watch?v=k3NzaNrdALo\n",
            "[youtube] k3NzaNrdALo: Downloading webpage\n"
          ],
          "name": "stdout"
        },
        {
          "output_type": "stream",
          "text": [
            "\n"
          ],
          "name": "stderr"
        },
        {
          "output_type": "stream",
          "text": [
            "[youtube] k3NzaNrdALo: Downloading video info webpage\n",
            "[download] Destination: Videos/k3NzaNrdALo.f247\n",
            "[download] 100% of 79.77MiB in 00:18\n",
            "[download] Destination: Videos/k3NzaNrdALo.f251\n",
            "[download] 100% of 14.91MiB in 00:02\n",
            "[ffmpeg] Merging formats into \"Videos/k3NzaNrdALo.webm\"\n",
            "Deleting original file Videos/k3NzaNrdALo.f247 (pass -k to keep)\n",
            "Deleting original file Videos/k3NzaNrdALo.f251 (pass -k to keep)\n",
            "0 fps\n",
            "97\n",
            "http://www.youtube.com/watch?v=vK-snIInirc\n",
            "[youtube] vK-snIInirc: Downloading webpage\n",
            "[youtube] vK-snIInirc: Downloading video info webpage\n",
            "[download] Destination: Videos/vK-snIInirc.f136\n",
            "[download] 100% of 74.42MiB in 00:11\n",
            "[download] Destination: Videos/vK-snIInirc.f140\n",
            "[download] 100% of 8.72MiB in 00:01\n",
            "[ffmpeg] Merging formats into \"Videos/vK-snIInirc.mp4\"\n",
            "Deleting original file Videos/vK-snIInirc.f136 (pass -k to keep)\n",
            "Deleting original file Videos/vK-snIInirc.f140 (pass -k to keep)\n",
            "0 fps\n",
            "98\n",
            "http://www.youtube.com/watch?v=r3N3LCHqjdI\n",
            "[youtube] r3N3LCHqjdI: Downloading webpage\n",
            "[youtube] r3N3LCHqjdI: Downloading video info webpage\n"
          ],
          "name": "stdout"
        },
        {
          "output_type": "stream",
          "text": [
            "WARNING: Requested formats are incompatible for merge and will be merged into mkv.\n"
          ],
          "name": "stderr"
        },
        {
          "output_type": "stream",
          "text": [
            "[download] Destination: Videos/r3N3LCHqjdI.f299\n",
            "[download] 100% of 419.67MiB in 01:04\n",
            "[download] Destination: Videos/r3N3LCHqjdI.f251\n",
            "[download] 100% of 13.86MiB in 00:01\n",
            "[ffmpeg] Merging formats into \"Videos/r3N3LCHqjdI.mkv\"\n",
            "Deleting original file Videos/r3N3LCHqjdI.f299 (pass -k to keep)\n",
            "Deleting original file Videos/r3N3LCHqjdI.f251 (pass -k to keep)\n",
            "FPS is : 59.94006309148265\n",
            "mmod_rectangles[[(733, 181) (969, 417)]]\n",
            "About to crop\n",
            "10213\n",
            "[MoviePy] Writing audio in Audio/r3N3LCHqjdI.mp3\n"
          ],
          "name": "stdout"
        },
        {
          "output_type": "stream",
          "text": [
            "100%|██████████| 275/275 [00:00<00:00, 620.99it/s]"
          ],
          "name": "stderr"
        },
        {
          "output_type": "stream",
          "text": [
            "[MoviePy] Done.\n",
            "before dict\n",
            "99\n",
            "http://www.youtube.com/watch?v=gOWL5FwU4c4\n",
            "[youtube] gOWL5FwU4c4: Downloading webpage\n"
          ],
          "name": "stdout"
        },
        {
          "output_type": "stream",
          "text": [
            "\n"
          ],
          "name": "stderr"
        },
        {
          "output_type": "stream",
          "text": [
            "[youtube] gOWL5FwU4c4: Downloading video info webpage\n",
            "[download] Destination: Videos/gOWL5FwU4c4.f136\n",
            "[download] 100% of 163.27MiB in 00:25\n",
            "[download] Destination: Videos/gOWL5FwU4c4.f140\n",
            "[download] 100% of 18.60MiB in 00:01\n",
            "[ffmpeg] Merging formats into \"Videos/gOWL5FwU4c4.mp4\"\n",
            "Deleting original file Videos/gOWL5FwU4c4.f136 (pass -k to keep)\n",
            "Deleting original file Videos/gOWL5FwU4c4.f140 (pass -k to keep)\n",
            "0 fps\n",
            "100\n",
            "http://www.youtube.com/watch?v=MZnQ3eZuUAE\n",
            "[youtube] MZnQ3eZuUAE: Downloading webpage\n",
            "[youtube] MZnQ3eZuUAE: Downloading video info webpage\n",
            "[youtube] MZnQ3eZuUAE: Downloading MPD manifest\n"
          ],
          "name": "stdout"
        },
        {
          "output_type": "stream",
          "text": [
            "WARNING: Requested formats are incompatible for merge and will be merged into mkv.\n"
          ],
          "name": "stderr"
        },
        {
          "output_type": "stream",
          "text": [
            "[dashsegments] Total fragments: 71\n",
            "[download] Destination: Videos/MZnQ3eZuUAE.f137\n",
            "[download] 100% of 114.68MiB in 00:54\n",
            "[dashsegments] Total fragments: 37\n",
            "[download] Destination: Videos/MZnQ3eZuUAE.f251\n",
            "[download] 100% of 5.09MiB in 00:15\n",
            "[ffmpeg] Merging formats into \"Videos/MZnQ3eZuUAE.mkv\"\n",
            "Deleting original file Videos/MZnQ3eZuUAE.f137 (pass -k to keep)\n",
            "Deleting original file Videos/MZnQ3eZuUAE.f251 (pass -k to keep)\n",
            "FPS is : 25.0\n",
            "mmod_rectangles[[(1039, 373) (1379, 712)]]\n",
            "About to crop\n",
            "6075\n",
            "[MoviePy] Writing audio in Audio/MZnQ3eZuUAE.mp3\n"
          ],
          "name": "stdout"
        },
        {
          "output_type": "stream",
          "text": [
            "100%|██████████| 73/73 [00:00<00:00, 371.08it/s]\n"
          ],
          "name": "stderr"
        },
        {
          "output_type": "stream",
          "text": [
            "[MoviePy] Done.\n",
            "before dict\n",
            "101\n",
            "http://www.youtube.com/watch?v=w3OsQe52KD0\n",
            "[youtube] w3OsQe52KD0: Downloading webpage\n",
            "[youtube] w3OsQe52KD0: Downloading embed webpage\n",
            "[youtube] w3OsQe52KD0: Refetching age-gated info webpage\n"
          ],
          "name": "stdout"
        },
        {
          "output_type": "stream",
          "text": [
            "WARNING: Unable to extract video title\n",
            "WARNING: unable to extract description; please report this issue on https://yt-dl.org/bug . Make sure you are using the latest version; see  https://yt-dl.org/update  on how to update. Be sure to call youtube-dl with the --verbose flag and include its complete output.\n",
            "ERROR: Content Warning\n",
            "If the owner of this video has granted you access, please sign in.\n",
            "       This video is private.\n"
          ],
          "name": "stderr"
        },
        {
          "output_type": "stream",
          "text": [
            "###########################################\n",
            "SORRY!!! The video is unavailable\n",
            "###########################################\n",
            "102\n",
            "http://www.youtube.com/watch?v=sU9o6PU_EeY\n",
            "[youtube] sU9o6PU_EeY: Downloading webpage\n",
            "[youtube] sU9o6PU_EeY: Downloading video info webpage\n"
          ],
          "name": "stdout"
        },
        {
          "output_type": "stream",
          "text": [
            "WARNING: Requested formats are incompatible for merge and will be merged into mkv.\n"
          ],
          "name": "stderr"
        },
        {
          "output_type": "stream",
          "text": [
            "[download] Destination: Videos/sU9o6PU_EeY.f137\n",
            "[download] 100% of 110.67MiB in 00:12\n",
            "[download] Destination: Videos/sU9o6PU_EeY.f251\n",
            "[download] 100% of 5.90MiB in 00:00\n",
            "[ffmpeg] Merging formats into \"Videos/sU9o6PU_EeY.mkv\"\n",
            "Deleting original file Videos/sU9o6PU_EeY.f137 (pass -k to keep)\n",
            "Deleting original file Videos/sU9o6PU_EeY.f251 (pass -k to keep)\n",
            "FPS is : 25.0\n",
            "mmod_rectangles[[(812, 267) (1095, 550)]]\n",
            "About to crop\n",
            "557\n",
            "[MoviePy] Writing audio in Audio/sU9o6PU_EeY.mp3\n"
          ],
          "name": "stdout"
        },
        {
          "output_type": "stream",
          "text": [
            "100%|██████████| 112/112 [00:00<00:00, 469.86it/s]"
          ],
          "name": "stderr"
        },
        {
          "output_type": "stream",
          "text": [
            "[MoviePy] Done.\n",
            "before dict\n",
            "103\n",
            "http://www.youtube.com/watch?v=aCHFsX2ze4A\n",
            "[youtube] aCHFsX2ze4A: Downloading webpage\n"
          ],
          "name": "stdout"
        },
        {
          "output_type": "stream",
          "text": [
            "\n"
          ],
          "name": "stderr"
        },
        {
          "output_type": "stream",
          "text": [
            "[youtube] aCHFsX2ze4A: Downloading video info webpage\n"
          ],
          "name": "stdout"
        },
        {
          "output_type": "stream",
          "text": [
            "WARNING: Requested formats are incompatible for merge and will be merged into mkv.\n"
          ],
          "name": "stderr"
        },
        {
          "output_type": "stream",
          "text": [
            "[download] Destination: Videos/aCHFsX2ze4A.f299\n",
            "[download] 100% of 172.95MiB in 00:39\n",
            "[download] Destination: Videos/aCHFsX2ze4A.f251\n",
            "[download] 100% of 5.47MiB in 00:00\n",
            "[ffmpeg] Merging formats into \"Videos/aCHFsX2ze4A.mkv\"\n",
            "Deleting original file Videos/aCHFsX2ze4A.f299 (pass -k to keep)\n",
            "Deleting original file Videos/aCHFsX2ze4A.f251 (pass -k to keep)\n",
            "FPS is : 60.0\n",
            "mmod_rectangles[[(550, 246) (1039, 735)]]\n",
            "About to crop\n",
            "15509\n",
            "[MoviePy] Writing audio in Audio/aCHFsX2ze4A.mp3\n"
          ],
          "name": "stdout"
        },
        {
          "output_type": "stream",
          "text": [
            "100%|██████████| 93/93 [00:00<00:00, 357.63it/s]"
          ],
          "name": "stderr"
        },
        {
          "output_type": "stream",
          "text": [
            "[MoviePy] Done.\n",
            "before dict\n",
            "104\n",
            "http://www.youtube.com/watch?v=qFiqezS4_Fw\n",
            "[youtube] qFiqezS4_Fw: Downloading webpage\n"
          ],
          "name": "stdout"
        },
        {
          "output_type": "stream",
          "text": [
            "\n"
          ],
          "name": "stderr"
        },
        {
          "output_type": "stream",
          "text": [
            "[youtube] qFiqezS4_Fw: Downloading video info webpage\n",
            "[download] Destination: Videos/qFiqezS4_Fw.f303\n",
            "[download] 100% of 123.05MiB in 00:28\n",
            "[download] Destination: Videos/qFiqezS4_Fw.f251\n",
            "[download] 100% of 5.69MiB in 00:01\n",
            "[ffmpeg] Merging formats into \"Videos/qFiqezS4_Fw.webm\"\n",
            "Deleting original file Videos/qFiqezS4_Fw.f303 (pass -k to keep)\n",
            "Deleting original file Videos/qFiqezS4_Fw.f251 (pass -k to keep)\n",
            "0 fps\n",
            "105\n",
            "http://www.youtube.com/watch?v=_SvDXwheJlM\n",
            "[youtube] _SvDXwheJlM: Downloading webpage\n",
            "[youtube] _SvDXwheJlM: Downloading video info webpage\n",
            "[youtube] _SvDXwheJlM: Downloading MPD manifest\n",
            "[dashsegments] Total fragments: 66\n",
            "[download] Destination: Videos/_SvDXwheJlM.f136\n",
            "[download] 100% of 65.06MiB in 00:31\n",
            "[dashsegments] Total fragments: 70\n",
            "[download] Destination: Videos/_SvDXwheJlM.f140\n",
            "[download] 100% of 5.21MiB in 00:17\n",
            "[ffmpeg] Merging formats into \"Videos/_SvDXwheJlM.mp4\"\n",
            "Deleting original file Videos/_SvDXwheJlM.f136 (pass -k to keep)\n",
            "Deleting original file Videos/_SvDXwheJlM.f140 (pass -k to keep)\n",
            "0 fps\n",
            "106\n",
            "http://www.youtube.com/watch?v=FfDy_abRFr8\n",
            "[youtube] FfDy_abRFr8: Downloading webpage\n",
            "[youtube] FfDy_abRFr8: Downloading video info webpage\n",
            "[download] Destination: Videos/FfDy_abRFr8.f248\n",
            "[download] 100% of 145.44MiB in 00:36\n",
            "[download] Destination: Videos/FfDy_abRFr8.f251\n",
            "[download] 100% of 12.35MiB in 00:01\n",
            "[ffmpeg] Merging formats into \"Videos/FfDy_abRFr8.webm\"\n",
            "Deleting original file Videos/FfDy_abRFr8.f248 (pass -k to keep)\n",
            "Deleting original file Videos/FfDy_abRFr8.f251 (pass -k to keep)\n",
            "0 fps\n",
            "107\n",
            "http://www.youtube.com/watch?v=HoeRIgYg9s4\n",
            "[youtube] HoeRIgYg9s4: Downloading webpage\n",
            "[youtube] HoeRIgYg9s4: Downloading video info webpage\n"
          ],
          "name": "stdout"
        },
        {
          "output_type": "stream",
          "text": [
            "WARNING: Requested formats are incompatible for merge and will be merged into mkv.\n"
          ],
          "name": "stderr"
        },
        {
          "output_type": "stream",
          "text": [
            "[download] Destination: Videos/HoeRIgYg9s4.f299\n",
            "[download] 100% of 155.37MiB in 00:45\n",
            "[download] Destination: Videos/HoeRIgYg9s4.f251\n",
            "[download] 100% of 5.14MiB in 00:01\n",
            "[ffmpeg] Merging formats into \"Videos/HoeRIgYg9s4.mkv\"\n",
            "Deleting original file Videos/HoeRIgYg9s4.f299 (pass -k to keep)\n",
            "Deleting original file Videos/HoeRIgYg9s4.f251 (pass -k to keep)\n",
            "FPS is : 59.94006309148265\n",
            "mmod_rectangles[[(860, 293) (1268, 700)]]\n",
            "About to crop\n",
            "3331\n",
            "[MoviePy] Writing audio in Audio/HoeRIgYg9s4.mp3\n"
          ],
          "name": "stdout"
        },
        {
          "output_type": "stream",
          "text": [
            "100%|██████████| 145/145 [00:00<00:00, 561.82it/s]"
          ],
          "name": "stderr"
        },
        {
          "output_type": "stream",
          "text": [
            "[MoviePy] Done.\n",
            "before dict\n",
            "108\n",
            "http://www.youtube.com/watch?v=pZFTSmzbBmI\n",
            "[youtube] pZFTSmzbBmI: Downloading webpage\n"
          ],
          "name": "stdout"
        },
        {
          "output_type": "stream",
          "text": [
            "\n"
          ],
          "name": "stderr"
        },
        {
          "output_type": "stream",
          "text": [
            "[youtube] pZFTSmzbBmI: Downloading video info webpage\n",
            "[download] Destination: Videos/pZFTSmzbBmI.f247\n",
            "[download] 100% of 34.72MiB in 00:14\n",
            "[download] Destination: Videos/pZFTSmzbBmI.f251\n",
            "[download] 100% of 4.67MiB in 00:00\n",
            "[ffmpeg] Merging formats into \"Videos/pZFTSmzbBmI.webm\"\n",
            "Deleting original file Videos/pZFTSmzbBmI.f247 (pass -k to keep)\n",
            "Deleting original file Videos/pZFTSmzbBmI.f251 (pass -k to keep)\n",
            "0 fps\n",
            "109\n",
            "http://www.youtube.com/watch?v=447M_WXVZz8\n",
            "[youtube] 447M_WXVZz8: Downloading webpage\n",
            "[youtube] 447M_WXVZz8: Downloading video info webpage\n"
          ],
          "name": "stdout"
        },
        {
          "output_type": "stream",
          "text": [
            "WARNING: Requested formats are incompatible for merge and will be merged into mkv.\n"
          ],
          "name": "stderr"
        },
        {
          "output_type": "stream",
          "text": [
            "[download] Destination: Videos/447M_WXVZz8.f136\n",
            "[download] 100% of 138.84MiB in 00:27\n",
            "[download] Destination: Videos/447M_WXVZz8.f251\n",
            "[download] 100% of 11.85MiB in 00:02\n",
            "[ffmpeg] Merging formats into \"Videos/447M_WXVZz8.mkv\"\n",
            "Deleting original file Videos/447M_WXVZz8.f136 (pass -k to keep)\n",
            "Deleting original file Videos/447M_WXVZz8.f251 (pass -k to keep)\n",
            "FPS is : 25.0\n",
            "mmod_rectangles[[(511, 135) (708, 332)]]\n",
            "About to crop\n",
            "671\n",
            "[MoviePy] Writing audio in Audio/447M_WXVZz8.mp3\n"
          ],
          "name": "stdout"
        },
        {
          "output_type": "stream",
          "text": [
            "100%|██████████| 113/113 [00:00<00:00, 434.94it/s]"
          ],
          "name": "stderr"
        },
        {
          "output_type": "stream",
          "text": [
            "[MoviePy] Done.\n",
            "before dict\n",
            "110\n",
            "http://www.youtube.com/watch?v=8BQxktcqJjU\n",
            "[youtube] 8BQxktcqJjU: Downloading webpage\n"
          ],
          "name": "stdout"
        },
        {
          "output_type": "stream",
          "text": [
            "\n"
          ],
          "name": "stderr"
        },
        {
          "output_type": "stream",
          "text": [
            "[youtube] 8BQxktcqJjU: Downloading video info webpage\n"
          ],
          "name": "stdout"
        },
        {
          "output_type": "stream",
          "text": [
            "WARNING: Requested formats are incompatible for merge and will be merged into mkv.\n"
          ],
          "name": "stderr"
        },
        {
          "output_type": "stream",
          "text": [
            "[download] Destination: Videos/8BQxktcqJjU.f136\n",
            "[download] 100% of 82.10MiB in 00:17\n",
            "[download] Destination: Videos/8BQxktcqJjU.f251\n",
            "[download] 100% of 12.17MiB in 00:02\n",
            "[ffmpeg] Merging formats into \"Videos/8BQxktcqJjU.mkv\"\n",
            "Deleting original file Videos/8BQxktcqJjU.f136 (pass -k to keep)\n",
            "Deleting original file Videos/8BQxktcqJjU.f251 (pass -k to keep)\n",
            "FPS is : 29.97002997002997\n",
            "mmod_rectangles[[(307, 133) (471, 297)]]\n",
            "About to crop\n",
            "8766\n",
            "[MoviePy] Writing audio in Audio/8BQxktcqJjU.mp3\n"
          ],
          "name": "stdout"
        },
        {
          "output_type": "stream",
          "text": [
            "100%|██████████| 224/224 [00:00<00:00, 524.25it/s]"
          ],
          "name": "stderr"
        },
        {
          "output_type": "stream",
          "text": [
            "[MoviePy] Done.\n",
            "before dict\n",
            "111\n",
            "http://www.youtube.com/watch?v=YXHQsV27oO0\n",
            "[youtube] YXHQsV27oO0: Downloading webpage\n"
          ],
          "name": "stdout"
        },
        {
          "output_type": "stream",
          "text": [
            "\n"
          ],
          "name": "stderr"
        },
        {
          "output_type": "stream",
          "text": [
            "[youtube] YXHQsV27oO0: Downloading video info webpage\n"
          ],
          "name": "stdout"
        },
        {
          "output_type": "stream",
          "text": [
            "WARNING: Requested formats are incompatible for merge and will be merged into mkv.\n"
          ],
          "name": "stderr"
        },
        {
          "output_type": "stream",
          "text": [
            "[download] Destination: Videos/YXHQsV27oO0.f136\n",
            "[download] 100% of 82.02MiB in 00:13\n",
            "[download] Destination: Videos/YXHQsV27oO0.f251\n",
            "[download] 100% of 6.59MiB in 00:01\n",
            "[ffmpeg] Merging formats into \"Videos/YXHQsV27oO0.mkv\"\n",
            "Deleting original file Videos/YXHQsV27oO0.f136 (pass -k to keep)\n",
            "Deleting original file Videos/YXHQsV27oO0.f251 (pass -k to keep)\n",
            "FPS is : 25.0\n",
            "mmod_rectangles[[(657, 100) (793, 237)]]\n",
            "About to crop\n",
            "2886\n",
            "[MoviePy] Writing audio in Audio/YXHQsV27oO0.mp3\n"
          ],
          "name": "stdout"
        },
        {
          "output_type": "stream",
          "text": [
            "100%|██████████| 67/67 [00:00<00:00, 388.89it/s]"
          ],
          "name": "stderr"
        },
        {
          "output_type": "stream",
          "text": [
            "[MoviePy] Done.\n",
            "before dict\n",
            "112\n",
            "http://www.youtube.com/watch?v=gBNFfez-vUU\n",
            "[youtube] gBNFfez-vUU: Downloading webpage\n"
          ],
          "name": "stdout"
        },
        {
          "output_type": "stream",
          "text": [
            "\n"
          ],
          "name": "stderr"
        },
        {
          "output_type": "stream",
          "text": [
            "[youtube] gBNFfez-vUU: Downloading video info webpage\n",
            "[download] Destination: Videos/gBNFfez-vUU.f247\n",
            "[download] 100% of 30.60MiB in 00:07\n",
            "[download] Destination: Videos/gBNFfez-vUU.f251\n",
            "[download] 100% of 8.00MiB in 00:01\n",
            "[ffmpeg] Merging formats into \"Videos/gBNFfez-vUU.webm\"\n",
            "Deleting original file Videos/gBNFfez-vUU.f247 (pass -k to keep)\n",
            "Deleting original file Videos/gBNFfez-vUU.f251 (pass -k to keep)\n",
            "0 fps\n",
            "113\n",
            "http://www.youtube.com/watch?v=ipcZj9l2a6o\n",
            "[youtube] ipcZj9l2a6o: Downloading webpage\n",
            "[youtube] ipcZj9l2a6o: Downloading video info webpage\n"
          ],
          "name": "stdout"
        },
        {
          "output_type": "stream",
          "text": [
            "WARNING: Requested formats are incompatible for merge and will be merged into mkv.\n"
          ],
          "name": "stderr"
        },
        {
          "output_type": "stream",
          "text": [
            "[download] Destination: Videos/ipcZj9l2a6o.f137\n",
            "[download] 100% of 165.91MiB in 00:27\n",
            "[download] Destination: Videos/ipcZj9l2a6o.f251\n",
            "[download] 100% of 4.63MiB in 00:01\n",
            "[ffmpeg] Merging formats into \"Videos/ipcZj9l2a6o.mkv\"\n",
            "Deleting original file Videos/ipcZj9l2a6o.f137 (pass -k to keep)\n",
            "Deleting original file Videos/ipcZj9l2a6o.f251 (pass -k to keep)\n",
            "FPS is : 29.97002997002997\n",
            "mmod_rectangles[[(829, 133) (1064, 369)]]\n",
            "About to crop\n",
            "3498\n",
            "[MoviePy] Writing audio in Audio/ipcZj9l2a6o.mp3\n"
          ],
          "name": "stdout"
        },
        {
          "output_type": "stream",
          "text": [
            "100%|██████████| 122/122 [00:00<00:00, 542.19it/s]"
          ],
          "name": "stderr"
        },
        {
          "output_type": "stream",
          "text": [
            "[MoviePy] Done.\n",
            "before dict\n",
            "114\n",
            "http://www.youtube.com/watch?v=M_HcFLa0b1Q\n",
            "[youtube] M_HcFLa0b1Q: Downloading webpage\n"
          ],
          "name": "stdout"
        },
        {
          "output_type": "stream",
          "text": [
            "\n"
          ],
          "name": "stderr"
        },
        {
          "output_type": "stream",
          "text": [
            "[youtube] M_HcFLa0b1Q: Downloading video info webpage\n"
          ],
          "name": "stdout"
        },
        {
          "output_type": "stream",
          "text": [
            "WARNING: Requested formats are incompatible for merge and will be merged into mkv.\n"
          ],
          "name": "stderr"
        },
        {
          "output_type": "stream",
          "text": [
            "[download] Destination: Videos/M_HcFLa0b1Q.f136\n",
            "[download] 100% of 176.73MiB in 00:06\n",
            "[download] Destination: Videos/M_HcFLa0b1Q.f251\n",
            "[download] 100% of 16.27MiB in 00:00\n",
            "[ffmpeg] Merging formats into \"Videos/M_HcFLa0b1Q.mkv\"\n",
            "Deleting original file Videos/M_HcFLa0b1Q.f136 (pass -k to keep)\n",
            "Deleting original file Videos/M_HcFLa0b1Q.f251 (pass -k to keep)\n",
            "FPS is : 25.0\n",
            "mmod_rectangles[[(822, 67) (986, 231)], [(170, 210) (454, 493)]]\n",
            "About to crop\n",
            "1259\n",
            "About to crop\n",
            "1259\n",
            "[MoviePy] Writing audio in Audio/M_HcFLa0b1Q.mp3\n"
          ],
          "name": "stdout"
        },
        {
          "output_type": "stream",
          "text": [
            "100%|██████████| 241/241 [00:00<00:00, 678.14it/s]"
          ],
          "name": "stderr"
        },
        {
          "output_type": "stream",
          "text": [
            "[MoviePy] Done.\n",
            "before dict\n",
            "115\n",
            "http://www.youtube.com/watch?v=tpmDa6rRFbE\n",
            "[youtube] tpmDa6rRFbE: Downloading webpage\n"
          ],
          "name": "stdout"
        },
        {
          "output_type": "stream",
          "text": [
            "\n"
          ],
          "name": "stderr"
        },
        {
          "output_type": "stream",
          "text": [
            "[youtube] tpmDa6rRFbE: Downloading video info webpage\n",
            "[download] Destination: Videos/tpmDa6rRFbE.f137\n",
            "[download] 100% of 43.71MiB in 00:06\n",
            "[download] Destination: Videos/tpmDa6rRFbE.f140\n",
            "[download] 100% of 8.71MiB in 00:01\n",
            "[ffmpeg] Merging formats into \"Videos/tpmDa6rRFbE.mp4\"\n",
            "Deleting original file Videos/tpmDa6rRFbE.f137 (pass -k to keep)\n",
            "Deleting original file Videos/tpmDa6rRFbE.f140 (pass -k to keep)\n",
            "0 fps\n",
            "116\n",
            "http://www.youtube.com/watch?v=9b0OSsywmw8\n",
            "[youtube] 9b0OSsywmw8: Downloading webpage\n",
            "[youtube] 9b0OSsywmw8: Downloading video info webpage\n",
            "[download] Destination: Videos/9b0OSsywmw8.f136\n",
            "[download] 100% of 180.44MiB in 00:27\n",
            "[download] Destination: Videos/9b0OSsywmw8.f140\n",
            "[download] 100% of 13.73MiB in 00:02\n",
            "[ffmpeg] Merging formats into \"Videos/9b0OSsywmw8.mp4\"\n",
            "Deleting original file Videos/9b0OSsywmw8.f136 (pass -k to keep)\n",
            "Deleting original file Videos/9b0OSsywmw8.f140 (pass -k to keep)\n",
            "0 fps\n",
            "117\n",
            "http://www.youtube.com/watch?v=9W-s6g88Vhw\n",
            "[youtube] 9W-s6g88Vhw: Downloading webpage\n",
            "[youtube] 9W-s6g88Vhw: Downloading video info webpage\n",
            "[youtube] 9W-s6g88Vhw: Downloading MPD manifest\n"
          ],
          "name": "stdout"
        },
        {
          "output_type": "stream",
          "text": [
            "WARNING: Requested formats are incompatible for merge and will be merged into mkv.\n"
          ],
          "name": "stderr"
        },
        {
          "output_type": "stream",
          "text": [
            "[dashsegments] Total fragments: 57\n",
            "[download] Destination: Videos/9W-s6g88Vhw.f137\n",
            "[download] 100% of 89.69MiB in 00:38\n",
            "[dashsegments] Total fragments: 32\n",
            "[download] Destination: Videos/9W-s6g88Vhw.f251\n",
            "[download] 100% of 4.69MiB in 00:12\n",
            "[ffmpeg] Merging formats into \"Videos/9W-s6g88Vhw.mkv\"\n",
            "Deleting original file Videos/9W-s6g88Vhw.f137 (pass -k to keep)\n",
            "Deleting original file Videos/9W-s6g88Vhw.f251 (pass -k to keep)\n",
            "FPS is : 25.0\n",
            "mmod_rectangles[[(749, 73) (1336, 660)]]\n",
            "About to crop\n",
            "1180\n",
            "[MoviePy] Writing audio in Audio/9W-s6g88Vhw.mp3\n"
          ],
          "name": "stdout"
        },
        {
          "output_type": "stream",
          "text": [
            "100%|██████████| 156/156 [00:00<00:00, 477.39it/s]"
          ],
          "name": "stderr"
        },
        {
          "output_type": "stream",
          "text": [
            "[MoviePy] Done.\n",
            "before dict\n",
            "118\n",
            "http://www.youtube.com/watch?v=BJsd0c6gi5U\n",
            "[youtube] BJsd0c6gi5U: Downloading webpage\n"
          ],
          "name": "stdout"
        },
        {
          "output_type": "stream",
          "text": [
            "\n"
          ],
          "name": "stderr"
        },
        {
          "output_type": "stream",
          "text": [
            "[youtube] BJsd0c6gi5U: Downloading video info webpage\n"
          ],
          "name": "stdout"
        },
        {
          "output_type": "stream",
          "text": [
            "WARNING: Requested formats are incompatible for merge and will be merged into mkv.\n"
          ],
          "name": "stderr"
        },
        {
          "output_type": "stream",
          "text": [
            "[download] Destination: Videos/BJsd0c6gi5U.f136\n",
            "[download] 100% of 54.99MiB in 00:03\n",
            "[download] Destination: Videos/BJsd0c6gi5U.f251\n",
            "[download] 100% of 5.41MiB in 00:00\n",
            "[ffmpeg] Merging formats into \"Videos/BJsd0c6gi5U.mkv\"\n",
            "Deleting original file Videos/BJsd0c6gi5U.f136 (pass -k to keep)\n",
            "Deleting original file Videos/BJsd0c6gi5U.f251 (pass -k to keep)\n",
            "FPS is : 29.97002997002997\n",
            "mmod_rectangles[[(809, 87) (945, 223)]]\n",
            "About to crop\n",
            "5281\n",
            "[MoviePy] Writing audio in Audio/BJsd0c6gi5U.mp3\n"
          ],
          "name": "stdout"
        },
        {
          "output_type": "stream",
          "text": [
            "100%|██████████| 144/144 [00:00<00:00, 486.06it/s]"
          ],
          "name": "stderr"
        },
        {
          "output_type": "stream",
          "text": [
            "[MoviePy] Done.\n"
          ],
          "name": "stdout"
        },
        {
          "output_type": "stream",
          "text": [
            "\n"
          ],
          "name": "stderr"
        },
        {
          "output_type": "stream",
          "text": [
            "before dict\n",
            "119\n",
            "http://www.youtube.com/watch?v=PAcl7Amzqnw\n",
            "[youtube] PAcl7Amzqnw: Downloading webpage\n",
            "[youtube] PAcl7Amzqnw: Downloading video info webpage\n",
            "[download] Destination: Videos/PAcl7Amzqnw.f136\n",
            "[download] 100% of 36.86MiB in 00:05\n",
            "[download] Destination: Videos/PAcl7Amzqnw.f140\n",
            "[download] 100% of 4.56MiB in 00:00\n",
            "[ffmpeg] Merging formats into \"Videos/PAcl7Amzqnw.mp4\"\n",
            "Deleting original file Videos/PAcl7Amzqnw.f136 (pass -k to keep)\n",
            "Deleting original file Videos/PAcl7Amzqnw.f140 (pass -k to keep)\n",
            "0 fps\n",
            "120\n",
            "http://www.youtube.com/watch?v=ma1stzY-hFs\n",
            "[youtube] ma1stzY-hFs: Downloading webpage\n",
            "[youtube] ma1stzY-hFs: Downloading video info webpage\n"
          ],
          "name": "stdout"
        },
        {
          "output_type": "stream",
          "text": [
            "WARNING: Requested formats are incompatible for merge and will be merged into mkv.\n"
          ],
          "name": "stderr"
        },
        {
          "output_type": "stream",
          "text": [
            "[download] Destination: Videos/ma1stzY-hFs.f137\n",
            "[download] 100% of 166.05MiB in 00:39\n",
            "[download] Destination: Videos/ma1stzY-hFs.f251\n",
            "[download] 100% of 8.45MiB in 00:01\n",
            "[ffmpeg] Merging formats into \"Videos/ma1stzY-hFs.mkv\"\n",
            "Deleting original file Videos/ma1stzY-hFs.f137 (pass -k to keep)\n",
            "Deleting original file Videos/ma1stzY-hFs.f251 (pass -k to keep)\n",
            "FPS is : 29.0\n",
            "mmod_rectangles[[(1099, 311) (1236, 448)]]\n",
            "About to crop\n",
            "6025\n",
            "[MoviePy] Writing audio in Audio/ma1stzY-hFs.mp3\n"
          ],
          "name": "stdout"
        },
        {
          "output_type": "stream",
          "text": [
            "100%|██████████| 67/67 [00:00<00:00, 338.16it/s]"
          ],
          "name": "stderr"
        },
        {
          "output_type": "stream",
          "text": [
            "[MoviePy] Done.\n",
            "before dict\n",
            "121\n",
            "http://www.youtube.com/watch?v=nC3xThn3sBI\n",
            "[youtube] nC3xThn3sBI: Downloading webpage\n"
          ],
          "name": "stdout"
        },
        {
          "output_type": "stream",
          "text": [
            "\n"
          ],
          "name": "stderr"
        },
        {
          "output_type": "stream",
          "text": [
            "[youtube] nC3xThn3sBI: Downloading video info webpage\n"
          ],
          "name": "stdout"
        },
        {
          "output_type": "stream",
          "text": [
            "WARNING: Requested formats are incompatible for merge and will be merged into mkv.\n"
          ],
          "name": "stderr"
        },
        {
          "output_type": "stream",
          "text": [
            "[download] Destination: Videos/nC3xThn3sBI.f136\n",
            "[download] 100% of 74.63MiB in 00:17\n",
            "[download] Destination: Videos/nC3xThn3sBI.f251\n",
            "[download] 100% of 3.99MiB in 00:00\n",
            "[ffmpeg] Merging formats into \"Videos/nC3xThn3sBI.mkv\"\n",
            "Deleting original file Videos/nC3xThn3sBI.f136 (pass -k to keep)\n",
            "Deleting original file Videos/nC3xThn3sBI.f251 (pass -k to keep)\n",
            "FPS is : 25.646\n",
            "mmod_rectangles[[(566, 218) (906, 557)]]\n",
            "About to crop\n",
            "697\n",
            "[MoviePy] Writing audio in Audio/nC3xThn3sBI.mp3\n"
          ],
          "name": "stdout"
        },
        {
          "output_type": "stream",
          "text": [
            "100%|██████████| 99/99 [00:00<00:00, 462.02it/s]"
          ],
          "name": "stderr"
        },
        {
          "output_type": "stream",
          "text": [
            "[MoviePy] Done.\n",
            "before dict\n",
            "122\n",
            "http://www.youtube.com/watch?v=t9uYgFyEwmg\n",
            "[youtube] t9uYgFyEwmg: Downloading webpage\n"
          ],
          "name": "stdout"
        },
        {
          "output_type": "stream",
          "text": [
            "\n"
          ],
          "name": "stderr"
        },
        {
          "output_type": "stream",
          "text": [
            "[youtube] t9uYgFyEwmg: Downloading video info webpage\n",
            "[download] Destination: Videos/t9uYgFyEwmg.f136\n",
            "[download] 100% of 43.62MiB in 00:04\n",
            "[download] Destination: Videos/t9uYgFyEwmg.f140\n",
            "[download] 100% of 5.27MiB in 00:00\n",
            "[ffmpeg] Merging formats into \"Videos/t9uYgFyEwmg.mp4\"\n",
            "Deleting original file Videos/t9uYgFyEwmg.f136 (pass -k to keep)\n",
            "Deleting original file Videos/t9uYgFyEwmg.f140 (pass -k to keep)\n",
            "0 fps\n",
            "123\n",
            "http://www.youtube.com/watch?v=4dUJVqvs2Qo\n",
            "[youtube] 4dUJVqvs2Qo: Downloading webpage\n",
            "[youtube] 4dUJVqvs2Qo: Downloading video info webpage\n"
          ],
          "name": "stdout"
        },
        {
          "output_type": "stream",
          "text": [
            "WARNING: Requested formats are incompatible for merge and will be merged into mkv.\n"
          ],
          "name": "stderr"
        },
        {
          "output_type": "stream",
          "text": [
            "[download] Destination: Videos/4dUJVqvs2Qo.f137\n",
            "[download] 100% of 117.58MiB in 00:19\n",
            "[download] Destination: Videos/4dUJVqvs2Qo.f251\n",
            "[download] 100% of 10.64MiB in 00:00\n",
            "[ffmpeg] Merging formats into \"Videos/4dUJVqvs2Qo.mkv\"\n",
            "Deleting original file Videos/4dUJVqvs2Qo.f137 (pass -k to keep)\n",
            "Deleting original file Videos/4dUJVqvs2Qo.f251 (pass -k to keep)\n",
            "FPS is : 23.976023976023978\n",
            "mmod_rectangles[[(1115, 300) (1351, 536)]]\n",
            "About to crop\n",
            "6376\n",
            "[MoviePy] Writing audio in Audio/4dUJVqvs2Qo.mp3\n"
          ],
          "name": "stdout"
        },
        {
          "output_type": "stream",
          "text": [
            "100%|██████████| 115/115 [00:00<00:00, 487.80it/s]"
          ],
          "name": "stderr"
        },
        {
          "output_type": "stream",
          "text": [
            "[MoviePy] Done.\n",
            "before dict\n",
            "124\n",
            "http://www.youtube.com/watch?v=SR9mKYRAOEs\n",
            "[youtube] SR9mKYRAOEs: Downloading webpage\n"
          ],
          "name": "stdout"
        },
        {
          "output_type": "stream",
          "text": [
            "\n"
          ],
          "name": "stderr"
        },
        {
          "output_type": "stream",
          "text": [
            "[youtube] SR9mKYRAOEs: Downloading video info webpage\n",
            "[download] Destination: Videos/SR9mKYRAOEs.f136\n",
            "[download] 100% of 81.49MiB in 00:18\n",
            "[download] Destination: Videos/SR9mKYRAOEs.f140\n",
            "[download] 100% of 8.20MiB in 00:01\n",
            "[ffmpeg] Merging formats into \"Videos/SR9mKYRAOEs.mp4\"\n",
            "Deleting original file Videos/SR9mKYRAOEs.f136 (pass -k to keep)\n",
            "Deleting original file Videos/SR9mKYRAOEs.f140 (pass -k to keep)\n",
            "0 fps\n",
            "125\n",
            "http://www.youtube.com/watch?v=XJt3DGMLYas\n",
            "[youtube] XJt3DGMLYas: Downloading webpage\n",
            "[youtube] XJt3DGMLYas: Downloading video info webpage\n",
            "[download] Destination: Videos/XJt3DGMLYas.f137\n",
            "[download] 100% of 124.69MiB in 00:03\n",
            "[download] Destination: Videos/XJt3DGMLYas.f140\n",
            "[download] 100% of 6.19MiB in 00:00\n",
            "[ffmpeg] Merging formats into \"Videos/XJt3DGMLYas.mp4\"\n",
            "Deleting original file Videos/XJt3DGMLYas.f137 (pass -k to keep)\n",
            "Deleting original file Videos/XJt3DGMLYas.f140 (pass -k to keep)\n",
            "0 fps\n",
            "126\n",
            "http://www.youtube.com/watch?v=vNs_u_S8pmw\n",
            "[youtube] vNs_u_S8pmw: Downloading webpage\n",
            "[youtube] vNs_u_S8pmw: Downloading video info webpage\n"
          ],
          "name": "stdout"
        },
        {
          "output_type": "stream",
          "text": [
            "WARNING: Requested formats are incompatible for merge and will be merged into mkv.\n"
          ],
          "name": "stderr"
        },
        {
          "output_type": "stream",
          "text": [
            "[download] Destination: Videos/vNs_u_S8pmw.f248\n",
            "[download] 100% of 281.79MiB in 00:15\n",
            "[download] Destination: Videos/vNs_u_S8pmw.f140\n",
            "[download] 100% of 25.47MiB in 00:00\n",
            "[ffmpeg] Merging formats into \"Videos/vNs_u_S8pmw.mkv\"\n",
            "Deleting original file Videos/vNs_u_S8pmw.f248 (pass -k to keep)\n",
            "Deleting original file Videos/vNs_u_S8pmw.f140 (pass -k to keep)\n",
            "FPS is : 29.97002997002997\n",
            "mmod_rectangles[[(339, 367) (475, 503)]]\n",
            "About to crop\n",
            "5184\n",
            "[MoviePy] Writing audio in Audio/vNs_u_S8pmw.mp3\n"
          ],
          "name": "stdout"
        },
        {
          "output_type": "stream",
          "text": [
            "100%|██████████| 287/287 [00:00<00:00, 955.44it/s]\n"
          ],
          "name": "stderr"
        },
        {
          "output_type": "stream",
          "text": [
            "[MoviePy] Done.\n",
            "before dict\n",
            "127\n",
            "http://www.youtube.com/watch?v=tr4cqD_UEUc\n",
            "[youtube] tr4cqD_UEUc: Downloading webpage\n",
            "[youtube] tr4cqD_UEUc: Downloading video info webpage\n"
          ],
          "name": "stdout"
        },
        {
          "output_type": "stream",
          "text": [
            "WARNING: Requested formats are incompatible for merge and will be merged into mkv.\n"
          ],
          "name": "stderr"
        },
        {
          "output_type": "stream",
          "text": [
            "[download] Destination: Videos/tr4cqD_UEUc.f136\n",
            "[download] 100% of 175.20MiB in 00:12\n",
            "[download] Destination: Videos/tr4cqD_UEUc.f251\n",
            "[download] 100% of 10.55MiB in 00:00\n",
            "[ffmpeg] Merging formats into \"Videos/tr4cqD_UEUc.mkv\"\n",
            "Deleting original file Videos/tr4cqD_UEUc.f136 (pass -k to keep)\n",
            "Deleting original file Videos/tr4cqD_UEUc.f251 (pass -k to keep)\n",
            "FPS is : 29.97002997002997\n",
            "mmod_rectangles[[(341, 133) (504, 297)]]\n",
            "About to crop\n",
            "5522\n",
            "[MoviePy] Writing audio in Audio/tr4cqD_UEUc.mp3\n"
          ],
          "name": "stdout"
        },
        {
          "output_type": "stream",
          "text": [
            "100%|██████████| 104/104 [00:00<00:00, 409.66it/s]"
          ],
          "name": "stderr"
        },
        {
          "output_type": "stream",
          "text": [
            "[MoviePy] Done.\n",
            "before dict\n",
            "128\n",
            "http://www.youtube.com/watch?v=oX2WY-uO3tM\n",
            "[youtube] oX2WY-uO3tM: Downloading webpage\n"
          ],
          "name": "stdout"
        },
        {
          "output_type": "stream",
          "text": [
            "\n"
          ],
          "name": "stderr"
        },
        {
          "output_type": "stream",
          "text": [
            "[youtube] oX2WY-uO3tM: Downloading video info webpage\n"
          ],
          "name": "stdout"
        },
        {
          "output_type": "stream",
          "text": [
            "WARNING: Requested formats are incompatible for merge and will be merged into mkv.\n"
          ],
          "name": "stderr"
        },
        {
          "output_type": "stream",
          "text": [
            "[download] Destination: Videos/oX2WY-uO3tM.f136\n",
            "[download] 100% of 39.98MiB in 00:27\n",
            "[download] Destination: Videos/oX2WY-uO3tM.f251\n",
            "[download] 100% of 5.31MiB in 00:00\n",
            "[ffmpeg] Merging formats into \"Videos/oX2WY-uO3tM.mkv\"\n",
            "Deleting original file Videos/oX2WY-uO3tM.f136 (pass -k to keep)\n",
            "Deleting original file Videos/oX2WY-uO3tM.f251 (pass -k to keep)\n",
            "FPS is : 30.0\n",
            "mmod_rectangles[[(514, 153) (798, 436)]]\n",
            "About to crop\n",
            "8821\n",
            "[MoviePy] Writing audio in Audio/oX2WY-uO3tM.mp3\n"
          ],
          "name": "stdout"
        },
        {
          "output_type": "stream",
          "text": [
            "100%|██████████| 214/214 [00:00<00:00, 564.85it/s]"
          ],
          "name": "stderr"
        },
        {
          "output_type": "stream",
          "text": [
            "[MoviePy] Done.\n",
            "before dict\n",
            "129\n",
            "http://www.youtube.com/watch?v=byZdbbWenGs\n",
            "[youtube] byZdbbWenGs: Downloading webpage\n"
          ],
          "name": "stdout"
        },
        {
          "output_type": "stream",
          "text": [
            "\n"
          ],
          "name": "stderr"
        },
        {
          "output_type": "stream",
          "text": [
            "[youtube] byZdbbWenGs: Downloading video info webpage\n"
          ],
          "name": "stdout"
        },
        {
          "output_type": "stream",
          "text": [
            "WARNING: Requested formats are incompatible for merge and will be merged into mkv.\n"
          ],
          "name": "stderr"
        },
        {
          "output_type": "stream",
          "text": [
            "[download] Destination: Videos/byZdbbWenGs.f136\n",
            "[download] 100% of 53.43MiB in 00:12\n",
            "[download] Destination: Videos/byZdbbWenGs.f251\n",
            "[download] 100% of 6.50MiB in 00:01\n",
            "[ffmpeg] Merging formats into \"Videos/byZdbbWenGs.mkv\"\n",
            "Deleting original file Videos/byZdbbWenGs.f136 (pass -k to keep)\n",
            "Deleting original file Videos/byZdbbWenGs.f251 (pass -k to keep)\n",
            "FPS is : 29.97002997002997\n",
            "mmod_rectangles[[(202, 115) (315, 229)]]\n",
            "About to crop\n",
            "6032\n",
            "[MoviePy] Writing audio in Audio/byZdbbWenGs.mp3\n"
          ],
          "name": "stdout"
        },
        {
          "output_type": "stream",
          "text": [
            "100%|██████████| 90/90 [00:00<00:00, 429.65it/s]"
          ],
          "name": "stderr"
        },
        {
          "output_type": "stream",
          "text": [
            "[MoviePy] Done.\n",
            "before dict\n",
            "130\n",
            "http://www.youtube.com/watch?v=xAFsxbtvq1Y\n",
            "[youtube] xAFsxbtvq1Y: Downloading webpage\n"
          ],
          "name": "stdout"
        },
        {
          "output_type": "stream",
          "text": [
            "\n"
          ],
          "name": "stderr"
        },
        {
          "output_type": "stream",
          "text": [
            "[youtube] xAFsxbtvq1Y: Downloading video info webpage\n",
            "[download] Destination: Videos/xAFsxbtvq1Y.f247\n",
            "[download] 100% of 52.96MiB in 00:07\n",
            "[download] Destination: Videos/xAFsxbtvq1Y.f251\n",
            "[download] 100% of 8.82MiB in 00:01\n",
            "[ffmpeg] Merging formats into \"Videos/xAFsxbtvq1Y.webm\"\n",
            "Deleting original file Videos/xAFsxbtvq1Y.f247 (pass -k to keep)\n",
            "Deleting original file Videos/xAFsxbtvq1Y.f251 (pass -k to keep)\n",
            "0 fps\n",
            "131\n",
            "http://www.youtube.com/watch?v=zLSKw9KHI5s\n",
            "[youtube] zLSKw9KHI5s: Downloading webpage\n",
            "[youtube] zLSKw9KHI5s: Downloading video info webpage\n"
          ],
          "name": "stdout"
        },
        {
          "output_type": "stream",
          "text": [
            "WARNING: Requested formats are incompatible for merge and will be merged into mkv.\n"
          ],
          "name": "stderr"
        },
        {
          "output_type": "stream",
          "text": [
            "[download] Destination: Videos/zLSKw9KHI5s.f135\n",
            "[download] 100% of 15.23MiB in 00:01\n",
            "[download] Destination: Videos/zLSKw9KHI5s.f251\n",
            "[download] 100% of 7.50MiB in 00:01\n",
            "[ffmpeg] Merging formats into \"Videos/zLSKw9KHI5s.mkv\"\n",
            "Deleting original file Videos/zLSKw9KHI5s.f135 (pass -k to keep)\n",
            "Deleting original file Videos/zLSKw9KHI5s.f251 (pass -k to keep)\n",
            "FPS is : 29.97002997002997\n",
            "mmod_rectangles[[(341, 137) (504, 301)]]\n",
            "About to crop\n",
            "3919\n",
            "[MoviePy] Writing audio in Audio/zLSKw9KHI5s.mp3\n"
          ],
          "name": "stdout"
        },
        {
          "output_type": "stream",
          "text": [
            "100%|██████████| 88/88 [00:00<00:00, 394.93it/s]"
          ],
          "name": "stderr"
        },
        {
          "output_type": "stream",
          "text": [
            "[MoviePy] Done.\n",
            "before dict\n",
            "132\n",
            "http://www.youtube.com/watch?v=0hcPftmvvJ4\n",
            "[youtube] 0hcPftmvvJ4: Downloading webpage\n"
          ],
          "name": "stdout"
        },
        {
          "output_type": "stream",
          "text": [
            "\n"
          ],
          "name": "stderr"
        },
        {
          "output_type": "stream",
          "text": [
            "[youtube] 0hcPftmvvJ4: Downloading video info webpage\n"
          ],
          "name": "stdout"
        },
        {
          "output_type": "stream",
          "text": [
            "WARNING: Requested formats are incompatible for merge and will be merged into mkv.\n"
          ],
          "name": "stderr"
        },
        {
          "output_type": "stream",
          "text": [
            "[download] Destination: Videos/0hcPftmvvJ4.f136\n",
            "[download] 100% of 44.78MiB in 00:10\n",
            "[download] Destination: Videos/0hcPftmvvJ4.f251\n",
            "[download] 100% of 4.92MiB in 00:01\n",
            "[ffmpeg] Merging formats into \"Videos/0hcPftmvvJ4.mkv\"\n",
            "Deleting original file Videos/0hcPftmvvJ4.f136 (pass -k to keep)\n",
            "Deleting original file Videos/0hcPftmvvJ4.f251 (pass -k to keep)\n",
            "FPS is : 29.97002997002997\n",
            "mmod_rectangles[[(611, 195) (807, 392)], [(-7, 570) (130, 707)]]\n",
            "About to crop\n",
            "5024\n",
            "About to crop\n",
            "5024\n",
            "###########################################\n",
            "SORRY!!! The video is unavailable\n",
            "###########################################\n",
            "133\n",
            "http://www.youtube.com/watch?v=gFMEmquKDls\n",
            "[youtube] gFMEmquKDls: Downloading webpage\n",
            "[youtube] gFMEmquKDls: Downloading video info webpage\n",
            "[download] Destination: Videos/gFMEmquKDls.f136\n",
            "[download] 100% of 105.52MiB in 00:25\n",
            "[download] Destination: Videos/gFMEmquKDls.f140\n",
            "[download] 100% of 10.49MiB in 00:02\n",
            "[ffmpeg] Merging formats into \"Videos/gFMEmquKDls.mp4\"\n",
            "Deleting original file Videos/gFMEmquKDls.f136 (pass -k to keep)\n",
            "Deleting original file Videos/gFMEmquKDls.f140 (pass -k to keep)\n",
            "0 fps\n",
            "134\n",
            "http://www.youtube.com/watch?v=gTbBA55oVtA\n",
            "[youtube] gTbBA55oVtA: Downloading webpage\n",
            "[youtube] gTbBA55oVtA: Downloading video info webpage\n"
          ],
          "name": "stdout"
        },
        {
          "output_type": "stream",
          "text": [
            "WARNING: Requested formats are incompatible for merge and will be merged into mkv.\n"
          ],
          "name": "stderr"
        },
        {
          "output_type": "stream",
          "text": [
            "[download] Destination: Videos/gTbBA55oVtA.f248\n",
            "[download] 100% of 66.94MiB in 00:06\n",
            "[download] Destination: Videos/gTbBA55oVtA.f140\n",
            "[download] 100% of 5.19MiB in 00:00\n",
            "[ffmpeg] Merging formats into \"Videos/gTbBA55oVtA.mkv\"\n",
            "Deleting original file Videos/gTbBA55oVtA.f248 (pass -k to keep)\n",
            "Deleting original file Videos/gTbBA55oVtA.f140 (pass -k to keep)\n",
            "FPS is : 23.976023976023978\n",
            "mmod_rectangles[[(1328, 181) (1611, 464)], [(181, 210) (464, 493)]]\n",
            "About to crop\n",
            "259\n",
            "About to crop\n",
            "259\n",
            "[MoviePy] Writing audio in Audio/gTbBA55oVtA.mp3\n"
          ],
          "name": "stdout"
        },
        {
          "output_type": "stream",
          "text": [
            "100%|██████████| 67/67 [00:00<00:00, 941.38it/s]"
          ],
          "name": "stderr"
        },
        {
          "output_type": "stream",
          "text": [
            "[MoviePy] Done.\n",
            "before dict\n",
            "135\n",
            "http://www.youtube.com/watch?v=oUtIW6KbWA4\n",
            "[youtube] oUtIW6KbWA4: Downloading webpage\n"
          ],
          "name": "stdout"
        },
        {
          "output_type": "stream",
          "text": [
            "\n"
          ],
          "name": "stderr"
        },
        {
          "output_type": "stream",
          "text": [
            "[youtube] oUtIW6KbWA4: Downloading video info webpage\n",
            "[download] Destination: Videos/oUtIW6KbWA4.f136\n",
            "[download] 100% of 54.46MiB in 00:08\n",
            "[download] Destination: Videos/oUtIW6KbWA4.f140\n",
            "[download] 100% of 5.39MiB in 00:01\n",
            "[ffmpeg] Merging formats into \"Videos/oUtIW6KbWA4.mp4\"\n",
            "Deleting original file Videos/oUtIW6KbWA4.f136 (pass -k to keep)\n",
            "Deleting original file Videos/oUtIW6KbWA4.f140 (pass -k to keep)\n",
            "0 fps\n",
            "136\n",
            "http://www.youtube.com/watch?v=VaS8Uc0qQoE\n",
            "[youtube] VaS8Uc0qQoE: Downloading webpage\n",
            "[youtube] VaS8Uc0qQoE: Downloading video info webpage\n",
            "[download] Destination: Videos/VaS8Uc0qQoE.f247\n",
            "[download] 100% of 47.25MiB in 00:02\n",
            "[download] Destination: Videos/VaS8Uc0qQoE.f251\n",
            "[download] 100% of 4.51MiB in 00:00\n",
            "[ffmpeg] Merging formats into \"Videos/VaS8Uc0qQoE.webm\"\n",
            "Deleting original file Videos/VaS8Uc0qQoE.f247 (pass -k to keep)\n",
            "Deleting original file Videos/VaS8Uc0qQoE.f251 (pass -k to keep)\n",
            "0 fps\n",
            "137\n",
            "http://www.youtube.com/watch?v=U_AVbzYkQ3E\n",
            "[youtube] U_AVbzYkQ3E: Downloading webpage\n",
            "[youtube] U_AVbzYkQ3E: Downloading video info webpage\n"
          ],
          "name": "stdout"
        },
        {
          "output_type": "stream",
          "text": [
            "WARNING: Requested formats are incompatible for merge and will be merged into mkv.\n"
          ],
          "name": "stderr"
        },
        {
          "output_type": "stream",
          "text": [
            "[download] Destination: Videos/U_AVbzYkQ3E.f136\n",
            "[download] 100% of 61.96MiB in 00:09\n",
            "[download] Destination: Videos/U_AVbzYkQ3E.f251\n",
            "[download] 100% of 21.04MiB in 00:03\n",
            "[ffmpeg] Merging formats into \"Videos/U_AVbzYkQ3E.mkv\"\n",
            "Deleting original file Videos/U_AVbzYkQ3E.f136 (pass -k to keep)\n",
            "Deleting original file Videos/U_AVbzYkQ3E.f251 (pass -k to keep)\n",
            "FPS is : 30.0\n",
            "mmod_rectangles[[(1100, 60) (1179, 139)]]\n",
            "About to crop\n",
            "7969\n",
            "[MoviePy] Writing audio in Audio/U_AVbzYkQ3E.mp3\n"
          ],
          "name": "stdout"
        },
        {
          "output_type": "stream",
          "text": [
            "100%|██████████| 171/171 [00:00<00:00, 553.11it/s]"
          ],
          "name": "stderr"
        },
        {
          "output_type": "stream",
          "text": [
            "[MoviePy] Done.\n"
          ],
          "name": "stdout"
        },
        {
          "output_type": "stream",
          "text": [
            "\n"
          ],
          "name": "stderr"
        },
        {
          "output_type": "stream",
          "text": [
            "before dict\n",
            "138\n",
            "http://www.youtube.com/watch?v=tBhx3g7hXNw\n",
            "[youtube] tBhx3g7hXNw: Downloading webpage\n",
            "[youtube] tBhx3g7hXNw: Downloading video info webpage\n"
          ],
          "name": "stdout"
        },
        {
          "output_type": "stream",
          "text": [
            "WARNING: Requested formats are incompatible for merge and will be merged into mkv.\n"
          ],
          "name": "stderr"
        },
        {
          "output_type": "stream",
          "text": [
            "[download] Destination: Videos/tBhx3g7hXNw.f137\n",
            "[download] 100% of 83.53MiB in 00:11\n",
            "[download] Destination: Videos/tBhx3g7hXNw.f251\n",
            "[download] 100% of 5.43MiB in 00:01\n",
            "[ffmpeg] Merging formats into \"Videos/tBhx3g7hXNw.mkv\"\n",
            "Deleting original file Videos/tBhx3g7hXNw.f137 (pass -k to keep)\n",
            "Deleting original file Videos/tBhx3g7hXNw.f251 (pass -k to keep)\n",
            "FPS is : 29.97002997002997\n",
            "mmod_rectangles[[(697, 267) (980, 550)]]\n",
            "About to crop\n",
            "1301\n",
            "[MoviePy] Writing audio in Audio/tBhx3g7hXNw.mp3\n"
          ],
          "name": "stdout"
        },
        {
          "output_type": "stream",
          "text": [
            "100%|██████████| 70/70 [00:00<00:00, 369.53it/s]\n"
          ],
          "name": "stderr"
        },
        {
          "output_type": "stream",
          "text": [
            "[MoviePy] Done.\n",
            "before dict\n",
            "139\n",
            "http://www.youtube.com/watch?v=ksn7GP_hc34\n",
            "[youtube] ksn7GP_hc34: Downloading webpage\n",
            "[youtube] ksn7GP_hc34: Downloading video info webpage\n"
          ],
          "name": "stdout"
        },
        {
          "output_type": "stream",
          "text": [
            "WARNING: Requested formats are incompatible for merge and will be merged into mkv.\n"
          ],
          "name": "stderr"
        },
        {
          "output_type": "stream",
          "text": [
            "[download] Destination: Videos/ksn7GP_hc34.f137\n",
            "[download] 100% of 96.51MiB in 00:40\n",
            "[download] Destination: Videos/ksn7GP_hc34.f251\n",
            "[download] 100% of 5.30MiB in 00:00\n",
            "[ffmpeg] Merging formats into \"Videos/ksn7GP_hc34.mkv\"\n",
            "Deleting original file Videos/ksn7GP_hc34.f137 (pass -k to keep)\n",
            "Deleting original file Videos/ksn7GP_hc34.f251 (pass -k to keep)\n",
            "FPS is : 25.0\n",
            "mmod_rectangles[[(1041, 210) (1324, 493)]]\n",
            "About to crop\n",
            "1342\n",
            "[MoviePy] Writing audio in Audio/ksn7GP_hc34.mp3\n"
          ],
          "name": "stdout"
        },
        {
          "output_type": "stream",
          "text": [
            "100%|██████████| 113/113 [00:00<00:00, 471.69it/s]"
          ],
          "name": "stderr"
        },
        {
          "output_type": "stream",
          "text": [
            "[MoviePy] Done.\n",
            "before dict\n",
            "140\n",
            "http://www.youtube.com/watch?v=4YqoTfGb4nQ\n",
            "[youtube] 4YqoTfGb4nQ: Downloading webpage\n"
          ],
          "name": "stdout"
        },
        {
          "output_type": "stream",
          "text": [
            "\n"
          ],
          "name": "stderr"
        },
        {
          "output_type": "stream",
          "text": [
            "[youtube] 4YqoTfGb4nQ: Downloading video info webpage\n"
          ],
          "name": "stdout"
        },
        {
          "output_type": "stream",
          "text": [
            "WARNING: Unable to extract video title\n",
            "WARNING: unable to extract description; please report this issue on https://yt-dl.org/bug . Make sure you are using the latest version; see  https://yt-dl.org/update  on how to update. Be sure to call youtube-dl with the --verbose flag and include its complete output.\n",
            "ERROR: This video is no longer available because the YouTube account associated with this video has been terminated.\n",
            "Sorry about that.\n"
          ],
          "name": "stderr"
        },
        {
          "output_type": "stream",
          "text": [
            "###########################################\n",
            "SORRY!!! The video is unavailable\n",
            "###########################################\n",
            "141\n",
            "http://www.youtube.com/watch?v=uxCc_3ybp1w\n",
            "[youtube] uxCc_3ybp1w: Downloading webpage\n",
            "[youtube] uxCc_3ybp1w: Downloading video info webpage\n"
          ],
          "name": "stdout"
        },
        {
          "output_type": "stream",
          "text": [
            "WARNING: Requested formats are incompatible for merge and will be merged into mkv.\n"
          ],
          "name": "stderr"
        },
        {
          "output_type": "stream",
          "text": [
            "[download] Destination: Videos/uxCc_3ybp1w.f136\n",
            "[download] 100% of 265.87MiB in 00:29\n",
            "[download] Destination: Videos/uxCc_3ybp1w.f251\n",
            "[download] 100% of 23.98MiB in 00:04\n",
            "[ffmpeg] Merging formats into \"Videos/uxCc_3ybp1w.mkv\"\n",
            "Deleting original file Videos/uxCc_3ybp1w.f136 (pass -k to keep)\n",
            "Deleting original file Videos/uxCc_3ybp1w.f251 (pass -k to keep)\n",
            "FPS is : 29.97002997002997\n",
            "mmod_rectangles[[(1030, 391) (1167, 527)]]\n",
            "About to crop\n",
            "5459\n",
            "[MoviePy] Writing audio in Audio/uxCc_3ybp1w.mp3\n"
          ],
          "name": "stdout"
        },
        {
          "output_type": "stream",
          "text": [
            "100%|██████████| 81/81 [00:00<00:00, 406.42it/s]"
          ],
          "name": "stderr"
        },
        {
          "output_type": "stream",
          "text": [
            "[MoviePy] Done.\n",
            "before dict\n",
            "142\n",
            "http://www.youtube.com/watch?v=zA_KKsewlN0\n",
            "[youtube] zA_KKsewlN0: Downloading webpage\n"
          ],
          "name": "stdout"
        },
        {
          "output_type": "stream",
          "text": [
            "\n"
          ],
          "name": "stderr"
        },
        {
          "output_type": "stream",
          "text": [
            "[youtube] zA_KKsewlN0: Downloading video info webpage\n",
            "[download] Destination: Videos/zA_KKsewlN0.f136\n",
            "[download] 100% of 49.28MiB in 00:07\n",
            "[download] Destination: Videos/zA_KKsewlN0.f140\n",
            "[download] 100% of 4.90MiB in 00:00\n",
            "[ffmpeg] Merging formats into \"Videos/zA_KKsewlN0.mp4\"\n",
            "Deleting original file Videos/zA_KKsewlN0.f136 (pass -k to keep)\n",
            "Deleting original file Videos/zA_KKsewlN0.f140 (pass -k to keep)\n",
            "0 fps\n",
            "143\n",
            "http://www.youtube.com/watch?v=Drw4N5gyE5s\n",
            "[youtube] Drw4N5gyE5s: Downloading webpage\n",
            "[youtube] Drw4N5gyE5s: Downloading video info webpage\n",
            "[download] Destination: Videos/Drw4N5gyE5s.f247\n",
            "[download] 100% of 79.10MiB in 00:19\n",
            "[download] Destination: Videos/Drw4N5gyE5s.f251\n",
            "[download] 100% of 9.94MiB in 00:02\n",
            "[ffmpeg] Merging formats into \"Videos/Drw4N5gyE5s.webm\"\n",
            "Deleting original file Videos/Drw4N5gyE5s.f247 (pass -k to keep)\n",
            "Deleting original file Videos/Drw4N5gyE5s.f251 (pass -k to keep)\n",
            "0 fps\n",
            "144\n",
            "http://www.youtube.com/watch?v=zjY8yp0Lea4\n",
            "[youtube] zjY8yp0Lea4: Downloading webpage\n",
            "[youtube] zjY8yp0Lea4: Downloading video info webpage\n",
            "[download] Destination: Videos/zjY8yp0Lea4.f248\n",
            "[download] 100% of 115.55MiB in 00:19\n",
            "[download] Destination: Videos/zjY8yp0Lea4.f251\n",
            "[download] 100% of 6.62MiB in 00:00\n",
            "[ffmpeg] Merging formats into \"Videos/zjY8yp0Lea4.webm\"\n",
            "Deleting original file Videos/zjY8yp0Lea4.f248 (pass -k to keep)\n",
            "Deleting original file Videos/zjY8yp0Lea4.f251 (pass -k to keep)\n",
            "0 fps\n",
            "145\n",
            "http://www.youtube.com/watch?v=dh2KO-ndeXA\n",
            "[youtube] dh2KO-ndeXA: Downloading webpage\n",
            "[youtube] dh2KO-ndeXA: Downloading video info webpage\n",
            "[download] Destination: Videos/dh2KO-ndeXA.f136\n",
            "[download] 100% of 79.41MiB in 00:12\n",
            "[download] Destination: Videos/dh2KO-ndeXA.f140\n",
            "[download] 100% of 10.07MiB in 00:00\n",
            "[ffmpeg] Merging formats into \"Videos/dh2KO-ndeXA.mp4\"\n",
            "Deleting original file Videos/dh2KO-ndeXA.f136 (pass -k to keep)\n",
            "Deleting original file Videos/dh2KO-ndeXA.f140 (pass -k to keep)\n",
            "0 fps\n",
            "146\n",
            "http://www.youtube.com/watch?v=izmFd46A-2o\n",
            "[youtube] izmFd46A-2o: Downloading webpage\n",
            "[youtube] izmFd46A-2o: Downloading video info webpage\n",
            "[download] Destination: Videos/izmFd46A-2o.f247\n",
            "[download] 100% of 74.69MiB in 00:13\n",
            "[download] Destination: Videos/izmFd46A-2o.f251\n",
            "[download] 100% of 9.92MiB in 00:01\n",
            "[ffmpeg] Merging formats into \"Videos/izmFd46A-2o.webm\"\n",
            "Deleting original file Videos/izmFd46A-2o.f247 (pass -k to keep)\n",
            "Deleting original file Videos/izmFd46A-2o.f251 (pass -k to keep)\n",
            "0 fps\n",
            "147\n",
            "http://www.youtube.com/watch?v=raN3iblWVCA\n",
            "[youtube] raN3iblWVCA: Downloading webpage\n",
            "[youtube] raN3iblWVCA: Downloading video info webpage\n",
            "[youtube] raN3iblWVCA: Downloading MPD manifest\n"
          ],
          "name": "stdout"
        },
        {
          "output_type": "stream",
          "text": [
            "WARNING: Requested formats are incompatible for merge and will be merged into mkv.\n"
          ],
          "name": "stderr"
        },
        {
          "output_type": "stream",
          "text": [
            "[dashsegments] Total fragments: 89\n",
            "[download] Destination: Videos/raN3iblWVCA.f136\n",
            "[download] 100% of 107.62MiB in 00:55\n",
            "[dashsegments] Total fragments: 45\n",
            "[download] Destination: Videos/raN3iblWVCA.f251\n",
            "[download] 100% of 6.05MiB in 00:17\n",
            "[ffmpeg] Merging formats into \"Videos/raN3iblWVCA.mkv\"\n",
            "Deleting original file Videos/raN3iblWVCA.f136 (pass -k to keep)\n",
            "Deleting original file Videos/raN3iblWVCA.f251 (pass -k to keep)\n",
            "FPS is : 23.976076555023923\n",
            "mmod_rectangles[[(463, -23) (803, 317)]]\n",
            "About to crop\n",
            "2106\n",
            "###########################################\n",
            "SORRY!!! The video is unavailable\n",
            "###########################################\n",
            "148\n",
            "http://www.youtube.com/watch?v=QrSD1SiWE-g\n",
            "[youtube] QrSD1SiWE-g: Downloading webpage\n",
            "[youtube] QrSD1SiWE-g: Downloading video info webpage\n",
            "[download] Destination: Videos/QrSD1SiWE-g.f136\n",
            "[download] 100% of 99.71MiB in 00:07\n",
            "[download] Destination: Videos/QrSD1SiWE-g.f140\n",
            "[download] 100% of 4.52MiB in 00:00\n",
            "[ffmpeg] Merging formats into \"Videos/QrSD1SiWE-g.mp4\"\n",
            "Deleting original file Videos/QrSD1SiWE-g.f136 (pass -k to keep)\n",
            "Deleting original file Videos/QrSD1SiWE-g.f140 (pass -k to keep)\n",
            "0 fps\n",
            "149\n",
            "http://www.youtube.com/watch?v=rXMZwdPuUL4\n",
            "[youtube] rXMZwdPuUL4: Downloading webpage\n",
            "[youtube] rXMZwdPuUL4: Downloading video info webpage\n",
            "[download] Destination: Videos/rXMZwdPuUL4.f248\n",
            "[download] 100% of 95.19MiB in 00:05\n",
            "[download] Destination: Videos/rXMZwdPuUL4.f251\n",
            "[download] 100% of 6.50MiB in 00:01\n",
            "[ffmpeg] Merging formats into \"Videos/rXMZwdPuUL4.webm\"\n",
            "Deleting original file Videos/rXMZwdPuUL4.f248 (pass -k to keep)\n",
            "Deleting original file Videos/rXMZwdPuUL4.f251 (pass -k to keep)\n",
            "0 fps\n"
          ],
          "name": "stdout"
        }
      ]
    },
    {
      "cell_type": "code",
      "metadata": {
        "id": "tVcrrRciFaSc",
        "colab_type": "code",
        "outputId": "02ac0c3d-68b9-4a86-d3b8-59a85e6913d1",
        "colab": {
          "base_uri": "https://localhost:8080/",
          "height": 1000
        }
      },
      "source": [
        "cnt = 0\n",
        "list_aud = []\n",
        "list_img = []\n",
        "for elem in sorted(os.listdir(PATH_TO_MAIN + 'Face_Images/')):\n",
        "  list_img.append(elem)\n",
        "  cnt += 1\n",
        "\n",
        "for elem in sorted(os.listdir('./Audio')):\n",
        "  list_aud.append(elem)\n",
        "  cnt += 1\n",
        "\n",
        "for i in range(len(list_aud)):\n",
        "  print(list_aud[i],list_img[i])\n",
        "print(cnt)"
      ],
      "execution_count": 58,
      "outputs": [
        {
          "output_type": "stream",
          "text": [
            "-A9gdf3j2xo.mp3 -A9gdf3j2xo.png\n",
            "2f32XSMYlDk.mp3 2f32XSMYlDk.png\n",
            "307DK9nGQhw.mp3 307DK9nGQhw.png\n",
            "3AsPqH3QaQM.mp3 3AsPqH3QaQM.png\n",
            "3gcWAZSNi2E.mp3 3gcWAZSNi2E.png\n",
            "447M_WXVZz8.mp3 447M_WXVZz8.png\n",
            "4dUJVqvs2Qo.mp3 4dUJVqvs2Qo.png\n",
            "512K2S3De-A.mp3 512K2S3De-A.png\n",
            "5qy9Ujv9XdM.mp3 5qy9Ujv9XdM.png\n",
            "6LapKTptu8w.mp3 6LapKTptu8w.png\n",
            "7DBdAnTuw5c.mp3 7DBdAnTuw5c.png\n",
            "8BQxktcqJjU.mp3 8BQxktcqJjU.png\n",
            "8nQBG5hvjpk.mp3 8nQBG5hvjpk.png\n",
            "9W-s6g88Vhw.mp3 9W-s6g88Vhw.png\n",
            "AOoqrXx5BNU.mp3 AOoqrXx5BNU.png\n",
            "AvWWVOgaMlk.mp3 AvWWVOgaMlk.png\n",
            "BJsd0c6gi5U.mp3 BJsd0c6gi5U.png\n",
            "BjvtZkHWExY.mp3 BjvtZkHWExY.png\n",
            "Dtn8xZ3BiGY.mp3 Dtn8xZ3BiGY.png\n",
            "DuWE-CQDlEk.mp3 DuWE-CQDlEk.png\n",
            "DxpQmBfA6vM.mp3 DxpQmBfA6vM.png\n",
            "G7xm-5aDZyg.mp3 G7xm-5aDZyg.png\n",
            "Gqt1A6O6UTk.mp3 Gqt1A6O6UTk.png\n",
            "GtM2sM6r3So.mp3 GtM2sM6r3So.png\n",
            "H2VCPO0isFQ.mp3 H2VCPO0isFQ.png\n",
            "HoeRIgYg9s4.mp3 HoeRIgYg9s4.png\n",
            "IrXrbrZWflA.mp3 IrXrbrZWflA.png\n",
            "JjduaMIoKvI.mp3 JjduaMIoKvI.png\n",
            "LcyrfLT2tto.mp3 LcyrfLT2tto.png\n",
            "MZnQ3eZuUAE.mp3 MZnQ3eZuUAE.png\n",
            "M_HcFLa0b1Q.mp3 M_HcFLa0b1Q.png\n",
            "QYnLgIsR3bc.mp3 QYnLgIsR3bc.png\n",
            "QoQF8N5ZsQA.mp3 QoQF8N5ZsQA.png\n",
            "R0u9E8GsUXk.mp3 R0u9E8GsUXk.png\n",
            "UBL2Vowiulk.mp3 UBL2Vowiulk.png\n",
            "UVDnhj-jZl0.mp3 UVDnhj-jZl0.png\n",
            "U_AVbzYkQ3E.mp3 U_AVbzYkQ3E.png\n",
            "Uu1xVo0CF5o.mp3 Uu1xVo0CF5o.png\n",
            "WddCvVatDlo.mp3 WddCvVatDlo.png\n",
            "WfpZPDqNNg0.mp3 WfpZPDqNNg0.png\n",
            "Wl3HSpsiIb4.mp3 Wl3HSpsiIb4.png\n",
            "XXtkzCkzA64.mp3 XXtkzCkzA64.png\n",
            "Y8HMIm8mdns.mp3 Y8HMIm8mdns.png\n",
            "YOySUCOJUtQ.mp3 YOySUCOJUtQ.png\n",
            "YXHQsV27oO0.mp3 YXHQsV27oO0.png\n",
            "YXcVkIEMGds.mp3 YXcVkIEMGds.png\n",
            "_8K1hWkirLo.mp3 _8K1hWkirLo.png\n",
            "a2iQ7kB5b6s.mp3 a2iQ7kB5b6s.png\n",
            "aCHFsX2ze4A.mp3 aCHFsX2ze4A.png\n",
            "aaEA__Js2u0.mp3 aaEA__Js2u0.png\n",
            "akwvpAiLFk0.mp3 akwvpAiLFk0.png\n",
            "alHB2f34oRI.mp3 alHB2f34oRI.png\n",
            "awqKt7frvJI.mp3 awqKt7frvJI.png\n",
            "byZdbbWenGs.mp3 byZdbbWenGs.png\n",
            "gTbBA55oVtA.mp3 gTbBA55oVtA.png\n",
            "gX8qtrFaLs4.mp3 gX8qtrFaLs4.png\n",
            "h-fSfAFufCo.mp3 h-fSfAFufCo.png\n",
            "ibPOxQ7XYPk.mp3 ibPOxQ7XYPk.png\n",
            "ipcZj9l2a6o.mp3 ipcZj9l2a6o.png\n",
            "ksn7GP_hc34.mp3 ksn7GP_hc34.png\n",
            "labiHToR5nk.mp3 labiHToR5nk.png\n",
            "lcClO5lHEjA.mp3 lcClO5lHEjA.png\n",
            "ma1stzY-hFs.mp3 ma1stzY-hFs.png\n",
            "nC3xThn3sBI.mp3 nC3xThn3sBI.png\n",
            "oX2WY-uO3tM.mp3 oX2WY-uO3tM.png\n",
            "ohd_xOV6zW4.mp3 ohd_xOV6zW4.png\n",
            "qpEzCs23PWE.mp3 qpEzCs23PWE.png\n",
            "qzM4wshoqGs.mp3 qzM4wshoqGs.png\n",
            "r3N3LCHqjdI.mp3 r3N3LCHqjdI.png\n",
            "sU9o6PU_EeY.mp3 sU9o6PU_EeY.png\n",
            "sujFCXbYkMo.mp3 sujFCXbYkMo.png\n",
            "tBhx3g7hXNw.mp3 tBhx3g7hXNw.png\n",
            "tr4cqD_UEUc.mp3 tr4cqD_UEUc.png\n",
            "uxCc_3ybp1w.mp3 uxCc_3ybp1w.png\n",
            "vNs_u_S8pmw.mp3 vNs_u_S8pmw.png\n",
            "wBDD5wTG7P0.mp3 wBDD5wTG7P0.png\n",
            "xwxbJkXRJHw.mp3 xwxbJkXRJHw.png\n",
            "yeqK6kqoIYk.mp3 yeqK6kqoIYk.png\n",
            "ymD5uLlLc0g.mp3 ymD5uLlLc0g.png\n",
            "zFH0QbS-l-w.mp3 zFH0QbS-l-w.png\n",
            "zLSKw9KHI5s.mp3 zLSKw9KHI5s.png\n",
            "162\n"
          ],
          "name": "stdout"
        }
      ]
    },
    {
      "cell_type": "code",
      "metadata": {
        "id": "8euGG8fcN2C1",
        "colab_type": "code",
        "colab": {}
      },
      "source": [
        "# Preparing y_train for encoder and x_train for decoder"
      ],
      "execution_count": 0,
      "outputs": []
    },
    {
      "cell_type": "code",
      "metadata": {
        "id": "imq1NC9eNrw-",
        "colab_type": "code",
        "colab": {}
      },
      "source": [
        "def get_embeddings(filenames):\n",
        "\n",
        "  faces = []\n",
        "  for f in filenames:\n",
        "    img = cv2.imread(f)\n",
        "    face_arr = asarray(img)\n",
        "    faces.append(face_arr)\n",
        "\n",
        "  samples = asarray(faces,'float32')\n",
        "\n",
        "  samples = preprocess_input(samples,version=2)\n",
        "\n",
        "  model = VGGFace(model='resnet50',include_top=False,input_shape=(224,224,3),pooling='avg')\n",
        "\n",
        "  yhat = model.predict(samples)\n",
        "\n",
        "  return yhat"
      ],
      "execution_count": 0,
      "outputs": []
    },
    {
      "cell_type": "code",
      "metadata": {
        "id": "DuX-U10yNpP0",
        "colab_type": "code",
        "outputId": "cbff5fdc-dc2c-4c3b-e1b9-ce6eab6560c1",
        "colab": {
          "base_uri": "https://localhost:8080/",
          "height": 541
        }
      },
      "source": [
        "face_list = []\n",
        "for elem in os.listdir('./Images'):\n",
        "  face_list.append('./Images/' + elem)\n",
        "y_train_encoder = get_embeddings(face_list)\n",
        "x_train_decoder = get_embeddings(face_list)"
      ],
      "execution_count": 0,
      "outputs": [
        {
          "output_type": "stream",
          "text": [
            "WARNING:tensorflow:From /usr/local/lib/python3.6/dist-packages/keras/backend/tensorflow_backend.py:66: The name tf.get_default_graph is deprecated. Please use tf.compat.v1.get_default_graph instead.\n",
            "\n",
            "WARNING:tensorflow:From /usr/local/lib/python3.6/dist-packages/keras/backend/tensorflow_backend.py:541: The name tf.placeholder is deprecated. Please use tf.compat.v1.placeholder instead.\n",
            "\n",
            "WARNING:tensorflow:From /usr/local/lib/python3.6/dist-packages/keras/backend/tensorflow_backend.py:4432: The name tf.random_uniform is deprecated. Please use tf.random.uniform instead.\n",
            "\n",
            "WARNING:tensorflow:From /usr/local/lib/python3.6/dist-packages/keras/backend/tensorflow_backend.py:190: The name tf.get_default_session is deprecated. Please use tf.compat.v1.get_default_session instead.\n",
            "\n",
            "WARNING:tensorflow:From /usr/local/lib/python3.6/dist-packages/keras/backend/tensorflow_backend.py:197: The name tf.ConfigProto is deprecated. Please use tf.compat.v1.ConfigProto instead.\n",
            "\n",
            "WARNING:tensorflow:From /usr/local/lib/python3.6/dist-packages/keras/backend/tensorflow_backend.py:203: The name tf.Session is deprecated. Please use tf.compat.v1.Session instead.\n",
            "\n",
            "WARNING:tensorflow:From /usr/local/lib/python3.6/dist-packages/keras/backend/tensorflow_backend.py:207: The name tf.global_variables is deprecated. Please use tf.compat.v1.global_variables instead.\n",
            "\n",
            "WARNING:tensorflow:From /usr/local/lib/python3.6/dist-packages/keras/backend/tensorflow_backend.py:216: The name tf.is_variable_initialized is deprecated. Please use tf.compat.v1.is_variable_initialized instead.\n",
            "\n",
            "WARNING:tensorflow:From /usr/local/lib/python3.6/dist-packages/keras/backend/tensorflow_backend.py:223: The name tf.variables_initializer is deprecated. Please use tf.compat.v1.variables_initializer instead.\n",
            "\n",
            "WARNING:tensorflow:From /usr/local/lib/python3.6/dist-packages/keras/backend/tensorflow_backend.py:2041: The name tf.nn.fused_batch_norm is deprecated. Please use tf.compat.v1.nn.fused_batch_norm instead.\n",
            "\n",
            "WARNING:tensorflow:From /usr/local/lib/python3.6/dist-packages/keras/backend/tensorflow_backend.py:148: The name tf.placeholder_with_default is deprecated. Please use tf.compat.v1.placeholder_with_default instead.\n",
            "\n",
            "WARNING:tensorflow:From /usr/local/lib/python3.6/dist-packages/keras/backend/tensorflow_backend.py:4267: The name tf.nn.max_pool is deprecated. Please use tf.nn.max_pool2d instead.\n",
            "\n",
            "WARNING:tensorflow:From /usr/local/lib/python3.6/dist-packages/keras/backend/tensorflow_backend.py:4271: The name tf.nn.avg_pool is deprecated. Please use tf.nn.avg_pool2d instead.\n",
            "\n",
            "Downloading data from https://github.com/rcmalli/keras-vggface/releases/download/v2.0/rcmalli_vggface_tf_notop_resnet50.h5\n",
            "94699520/94694792 [==============================] - 1s 0us/step\n"
          ],
          "name": "stdout"
        }
      ]
    },
    {
      "cell_type": "code",
      "metadata": {
        "id": "7gu1QuBlDTjo",
        "colab_type": "code",
        "outputId": "9229cde2-e1a7-44ff-c8f0-dfcb826454d7",
        "colab": {
          "base_uri": "https://localhost:8080/",
          "height": 35
        }
      },
      "source": [
        "y_train_encoder.shape"
      ],
      "execution_count": 0,
      "outputs": [
        {
          "output_type": "execute_result",
          "data": {
            "text/plain": [
              "(81, 2048)"
            ]
          },
          "metadata": {
            "tags": []
          },
          "execution_count": 28
        }
      ]
    },
    {
      "cell_type": "code",
      "metadata": {
        "id": "fUO7eAcrEMu9",
        "colab_type": "code",
        "colab": {}
      },
      "source": [
        "# Using y_train to create decoder"
      ],
      "execution_count": 0,
      "outputs": []
    },
    {
      "cell_type": "code",
      "metadata": {
        "id": "SHQeTV4EEP-H",
        "colab_type": "code",
        "colab": {}
      },
      "source": [
        "# Input is y_train and output is images from Images folder"
      ],
      "execution_count": 0,
      "outputs": []
    },
    {
      "cell_type": "code",
      "metadata": {
        "id": "vLa9Bl1REQEL",
        "colab_type": "code",
        "colab": {}
      },
      "source": [
        "# Augmenting Audio"
      ],
      "execution_count": 0,
      "outputs": []
    },
    {
      "cell_type": "code",
      "metadata": {
        "id": "1pQNrIifEQGg",
        "colab_type": "code",
        "outputId": "79b3b8a1-cb9c-4c7d-a55c-084f73d1c6c0",
        "colab": {
          "base_uri": "https://localhost:8080/",
          "height": 917
        }
      },
      "source": [
        "# shutil.rmtree('Processed_Audio')\n",
        "os.mkdir('Processed_Audio')\n",
        "temp_dict = dict_audio.copy()\n",
        "for elem in os.listdir('./Audio'):\n",
        "  sound = AudioSegment.from_mp3('./Audio/' + elem)\n",
        "  sound_new = sound\n",
        "  while temp_dict[elem[:-4]] < 6:\n",
        "    print(\"here\")\n",
        "    sound_new += sound\n",
        "    temp = temp_dict[elem[:-4]]\n",
        "    temp_dict[elem[:-4]] = 2*temp\n",
        "    sound = sound_new\n",
        "\n",
        "  extract = sound[0:6*1000]\n",
        "\n",
        "  extract.export('Processed_Audio/' + elem, format=\"mp3\")\n"
      ],
      "execution_count": 0,
      "outputs": [
        {
          "output_type": "stream",
          "text": [
            "here\n",
            "here\n",
            "here\n",
            "here\n",
            "here\n",
            "here\n",
            "here\n",
            "here\n",
            "here\n",
            "here\n",
            "here\n",
            "here\n",
            "here\n",
            "here\n",
            "here\n",
            "here\n",
            "here\n",
            "here\n",
            "here\n",
            "here\n",
            "here\n",
            "here\n",
            "here\n",
            "here\n",
            "here\n",
            "here\n",
            "here\n",
            "here\n",
            "here\n",
            "here\n",
            "here\n",
            "here\n",
            "here\n",
            "here\n",
            "here\n",
            "here\n",
            "here\n",
            "here\n",
            "here\n",
            "here\n",
            "here\n",
            "here\n",
            "here\n",
            "here\n",
            "here\n",
            "here\n",
            "here\n",
            "here\n",
            "here\n",
            "here\n"
          ],
          "name": "stdout"
        }
      ]
    },
    {
      "cell_type": "code",
      "metadata": {
        "id": "LX3SWy5I38qj",
        "colab_type": "code",
        "colab": {}
      },
      "source": [
        "# # to_remove = ['2f32XSMYlDk']\n",
        "# for elem in to_remove:\n",
        "#   os.remove('Processed_Audio/' + elem + '.mp3')"
      ],
      "execution_count": 0,
      "outputs": []
    },
    {
      "cell_type": "code",
      "metadata": {
        "id": "xIrFy2ucN3_0",
        "colab_type": "code",
        "colab": {}
      },
      "source": [
        "# Preparing x_train"
      ],
      "execution_count": 0,
      "outputs": []
    },
    {
      "cell_type": "code",
      "metadata": {
        "colab_type": "code",
        "id": "cpDGkHfd0XK3",
        "outputId": "974c4600-2d7a-432a-90ce-a3606b64964f",
        "colab": {
          "base_uri": "https://localhost:8080/",
          "height": 1000
        }
      },
      "source": [
        "# shutil.rmtree('Spectograms')\n",
        "os.mkdir('Spectograms')\n",
        "for filename in os.listdir(\"./Processed_Audio\"):\n",
        "  audio_path = './Processed_Audio/' + filename\n",
        "  x , sr = librosa.load(audio_path,sr = 15925)\n",
        "  print(audio_path)\n",
        "  print(type(x), type(sr))\n",
        "  print(x.shape, sr)\n",
        "  ipd.Audio(audio_path)\n",
        "  window_size = 25\n",
        "  window = np.hanning(window_size)\n",
        "  h1 = 160\n",
        "  print(h1)\n",
        "\n",
        "  stft  = librosa.core.spectrum.stft(x, n_fft=512, hop_length=h1,win_length=window_size, window=window)\n",
        "  out = 2 * np.abs(stft) / np.sum(window_size)\n",
        "  with open('./Spectograms/' + filename[:-4] + '.pkl','wb') as f:\n",
        "    pickle.dump(stft,f)\n",
        "  \n",
        "  # librosa.display.waveplot(x, sr=sr)\n",
        "  # mfccs = librosa.feature.mfcc(x, sr=sr)\n",
        "  # print(mfccs.shape)\n",
        "  # librosa.display.specshow(mfccs, sr=sr, x_axis='time')\n",
        "  # print()\n",
        "\n",
        "\n"
      ],
      "execution_count": 0,
      "outputs": [
        {
          "output_type": "stream",
          "text": [
            "./Processed_Audio/512K2S3De-A.mp3\n",
            "<class 'numpy.ndarray'> <class 'int'>\n",
            "(95550,) 15925\n",
            "160\n",
            "./Processed_Audio/G7xm-5aDZyg.mp3\n",
            "<class 'numpy.ndarray'> <class 'int'>\n",
            "(95550,) 15925\n",
            "160\n",
            "./Processed_Audio/YXHQsV27oO0.mp3\n",
            "<class 'numpy.ndarray'> <class 'int'>\n",
            "(95550,) 15925\n",
            "160\n",
            "./Processed_Audio/M_HcFLa0b1Q.mp3\n",
            "<class 'numpy.ndarray'> <class 'int'>\n",
            "(95550,) 15925\n",
            "160\n",
            "./Processed_Audio/8BQxktcqJjU.mp3\n",
            "<class 'numpy.ndarray'> <class 'int'>\n",
            "(95550,) 15925\n",
            "160\n",
            "./Processed_Audio/ipcZj9l2a6o.mp3\n",
            "<class 'numpy.ndarray'> <class 'int'>\n",
            "(95550,) 15925\n",
            "160\n",
            "./Processed_Audio/Wl3HSpsiIb4.mp3\n",
            "<class 'numpy.ndarray'> <class 'int'>\n",
            "(95550,) 15925\n",
            "160\n",
            "./Processed_Audio/JjduaMIoKvI.mp3\n",
            "<class 'numpy.ndarray'> <class 'int'>\n",
            "(95550,) 15925\n",
            "160\n",
            "./Processed_Audio/a2iQ7kB5b6s.mp3\n",
            "<class 'numpy.ndarray'> <class 'int'>\n",
            "(95550,) 15925\n",
            "160\n",
            "./Processed_Audio/sujFCXbYkMo.mp3\n",
            "<class 'numpy.ndarray'> <class 'int'>\n",
            "(95550,) 15925\n",
            "160\n",
            "./Processed_Audio/uxCc_3ybp1w.mp3\n",
            "<class 'numpy.ndarray'> <class 'int'>\n",
            "(95550,) 15925\n",
            "160\n",
            "./Processed_Audio/labiHToR5nk.mp3\n",
            "<class 'numpy.ndarray'> <class 'int'>\n",
            "(95550,) 15925\n",
            "160\n",
            "./Processed_Audio/LcyrfLT2tto.mp3\n",
            "<class 'numpy.ndarray'> <class 'int'>\n",
            "(95550,) 15925\n",
            "160\n",
            "./Processed_Audio/oX2WY-uO3tM.mp3\n",
            "<class 'numpy.ndarray'> <class 'int'>\n",
            "(95550,) 15925\n",
            "160\n",
            "./Processed_Audio/Y8HMIm8mdns.mp3\n",
            "<class 'numpy.ndarray'> <class 'int'>\n",
            "(95550,) 15925\n",
            "160\n",
            "./Processed_Audio/5qy9Ujv9XdM.mp3\n",
            "<class 'numpy.ndarray'> <class 'int'>\n",
            "(95550,) 15925\n",
            "160\n",
            "./Processed_Audio/tBhx3g7hXNw.mp3\n",
            "<class 'numpy.ndarray'> <class 'int'>\n",
            "(95550,) 15925\n",
            "160\n",
            "./Processed_Audio/qzM4wshoqGs.mp3\n",
            "<class 'numpy.ndarray'> <class 'int'>\n",
            "(95550,) 15925\n",
            "160\n",
            "./Processed_Audio/wBDD5wTG7P0.mp3\n",
            "<class 'numpy.ndarray'> <class 'int'>\n",
            "(95550,) 15925\n",
            "160\n",
            "./Processed_Audio/447M_WXVZz8.mp3\n",
            "<class 'numpy.ndarray'> <class 'int'>\n",
            "(95550,) 15925\n",
            "160\n",
            "./Processed_Audio/XXtkzCkzA64.mp3\n",
            "<class 'numpy.ndarray'> <class 'int'>\n",
            "(95550,) 15925\n",
            "160\n",
            "./Processed_Audio/ma1stzY-hFs.mp3\n",
            "<class 'numpy.ndarray'> <class 'int'>\n",
            "(95550,) 15925\n",
            "160\n",
            "./Processed_Audio/ksn7GP_hc34.mp3\n",
            "<class 'numpy.ndarray'> <class 'int'>\n",
            "(95550,) 15925\n",
            "160\n",
            "./Processed_Audio/QYnLgIsR3bc.mp3\n",
            "<class 'numpy.ndarray'> <class 'int'>\n",
            "(95550,) 15925\n",
            "160\n",
            "./Processed_Audio/DxpQmBfA6vM.mp3\n",
            "<class 'numpy.ndarray'> <class 'int'>\n",
            "(95550,) 15925\n",
            "160\n",
            "./Processed_Audio/BjvtZkHWExY.mp3\n",
            "<class 'numpy.ndarray'> <class 'int'>\n",
            "(95550,) 15925\n",
            "160\n",
            "./Processed_Audio/ibPOxQ7XYPk.mp3\n",
            "<class 'numpy.ndarray'> <class 'int'>\n",
            "(95550,) 15925\n",
            "160\n",
            "./Processed_Audio/UVDnhj-jZl0.mp3\n",
            "<class 'numpy.ndarray'> <class 'int'>\n",
            "(95550,) 15925\n",
            "160\n",
            "./Processed_Audio/tr4cqD_UEUc.mp3\n",
            "<class 'numpy.ndarray'> <class 'int'>\n",
            "(95550,) 15925\n",
            "160\n",
            "./Processed_Audio/alHB2f34oRI.mp3\n",
            "<class 'numpy.ndarray'> <class 'int'>\n",
            "(95550,) 15925\n",
            "160\n",
            "./Processed_Audio/gTbBA55oVtA.mp3\n",
            "<class 'numpy.ndarray'> <class 'int'>\n",
            "(95550,) 15925\n",
            "160\n",
            "./Processed_Audio/307DK9nGQhw.mp3\n",
            "<class 'numpy.ndarray'> <class 'int'>\n",
            "(95550,) 15925\n",
            "160\n",
            "./Processed_Audio/QoQF8N5ZsQA.mp3\n",
            "<class 'numpy.ndarray'> <class 'int'>\n",
            "(95550,) 15925\n",
            "160\n",
            "./Processed_Audio/_8K1hWkirLo.mp3\n",
            "<class 'numpy.ndarray'> <class 'int'>\n",
            "(95550,) 15925\n",
            "160\n",
            "./Processed_Audio/IrXrbrZWflA.mp3\n",
            "<class 'numpy.ndarray'> <class 'int'>\n",
            "(95550,) 15925\n",
            "160\n",
            "./Processed_Audio/UBL2Vowiulk.mp3\n",
            "<class 'numpy.ndarray'> <class 'int'>\n",
            "(95550,) 15925\n",
            "160\n",
            "./Processed_Audio/YOySUCOJUtQ.mp3\n",
            "<class 'numpy.ndarray'> <class 'int'>\n",
            "(95550,) 15925\n",
            "160\n",
            "./Processed_Audio/lcClO5lHEjA.mp3\n",
            "<class 'numpy.ndarray'> <class 'int'>\n",
            "(95550,) 15925\n",
            "160\n",
            "./Processed_Audio/ohd_xOV6zW4.mp3\n",
            "<class 'numpy.ndarray'> <class 'int'>\n",
            "(95550,) 15925\n",
            "160\n",
            "./Processed_Audio/8nQBG5hvjpk.mp3\n",
            "<class 'numpy.ndarray'> <class 'int'>\n",
            "(95550,) 15925\n",
            "160\n",
            "./Processed_Audio/nC3xThn3sBI.mp3\n",
            "<class 'numpy.ndarray'> <class 'int'>\n",
            "(95550,) 15925\n",
            "160\n",
            "./Processed_Audio/3AsPqH3QaQM.mp3\n",
            "<class 'numpy.ndarray'> <class 'int'>\n",
            "(95550,) 15925\n",
            "160\n",
            "./Processed_Audio/yeqK6kqoIYk.mp3\n",
            "<class 'numpy.ndarray'> <class 'int'>\n",
            "(95550,) 15925\n",
            "160\n",
            "./Processed_Audio/AOoqrXx5BNU.mp3\n",
            "<class 'numpy.ndarray'> <class 'int'>\n",
            "(95550,) 15925\n",
            "160\n",
            "./Processed_Audio/zFH0QbS-l-w.mp3\n",
            "<class 'numpy.ndarray'> <class 'int'>\n",
            "(95550,) 15925\n",
            "160\n",
            "./Processed_Audio/9W-s6g88Vhw.mp3\n",
            "<class 'numpy.ndarray'> <class 'int'>\n",
            "(95550,) 15925\n",
            "160\n",
            "./Processed_Audio/HoeRIgYg9s4.mp3\n",
            "<class 'numpy.ndarray'> <class 'int'>\n",
            "(95550,) 15925\n",
            "160\n",
            "./Processed_Audio/3gcWAZSNi2E.mp3\n",
            "<class 'numpy.ndarray'> <class 'int'>\n",
            "(95550,) 15925\n",
            "160\n",
            "./Processed_Audio/WfpZPDqNNg0.mp3\n",
            "<class 'numpy.ndarray'> <class 'int'>\n",
            "(95550,) 15925\n",
            "160\n",
            "./Processed_Audio/byZdbbWenGs.mp3\n",
            "<class 'numpy.ndarray'> <class 'int'>\n",
            "(95550,) 15925\n",
            "160\n",
            "./Processed_Audio/ymD5uLlLc0g.mp3\n",
            "<class 'numpy.ndarray'> <class 'int'>\n",
            "(95550,) 15925\n",
            "160\n",
            "./Processed_Audio/Dtn8xZ3BiGY.mp3\n",
            "<class 'numpy.ndarray'> <class 'int'>\n",
            "(95550,) 15925\n",
            "160\n",
            "./Processed_Audio/MZnQ3eZuUAE.mp3\n",
            "<class 'numpy.ndarray'> <class 'int'>\n",
            "(95550,) 15925\n",
            "160\n",
            "./Processed_Audio/aaEA__Js2u0.mp3\n",
            "<class 'numpy.ndarray'> <class 'int'>\n",
            "(95550,) 15925\n",
            "160\n",
            "./Processed_Audio/H2VCPO0isFQ.mp3\n",
            "<class 'numpy.ndarray'> <class 'int'>\n",
            "(95550,) 15925\n",
            "160\n",
            "./Processed_Audio/Uu1xVo0CF5o.mp3\n",
            "<class 'numpy.ndarray'> <class 'int'>\n",
            "(95550,) 15925\n",
            "160\n",
            "./Processed_Audio/GtM2sM6r3So.mp3\n",
            "<class 'numpy.ndarray'> <class 'int'>\n",
            "(95550,) 15925\n",
            "160\n",
            "./Processed_Audio/4dUJVqvs2Qo.mp3\n",
            "<class 'numpy.ndarray'> <class 'int'>\n",
            "(95550,) 15925\n",
            "160\n",
            "./Processed_Audio/h-fSfAFufCo.mp3\n",
            "<class 'numpy.ndarray'> <class 'int'>\n",
            "(95550,) 15925\n",
            "160\n",
            "./Processed_Audio/xwxbJkXRJHw.mp3\n",
            "<class 'numpy.ndarray'> <class 'int'>\n",
            "(95550,) 15925\n",
            "160\n",
            "./Processed_Audio/zLSKw9KHI5s.mp3\n",
            "<class 'numpy.ndarray'> <class 'int'>\n",
            "(95550,) 15925\n",
            "160\n",
            "./Processed_Audio/DuWE-CQDlEk.mp3\n",
            "<class 'numpy.ndarray'> <class 'int'>\n",
            "(95550,) 15925\n",
            "160\n",
            "./Processed_Audio/awqKt7frvJI.mp3\n",
            "<class 'numpy.ndarray'> <class 'int'>\n",
            "(95550,) 15925\n",
            "160\n",
            "./Processed_Audio/7DBdAnTuw5c.mp3\n",
            "<class 'numpy.ndarray'> <class 'int'>\n",
            "(95550,) 15925\n",
            "160\n",
            "./Processed_Audio/6LapKTptu8w.mp3\n",
            "<class 'numpy.ndarray'> <class 'int'>\n",
            "(95550,) 15925\n",
            "160\n",
            "./Processed_Audio/2f32XSMYlDk.mp3\n",
            "<class 'numpy.ndarray'> <class 'int'>\n",
            "(95550,) 15925\n",
            "160\n",
            "./Processed_Audio/sU9o6PU_EeY.mp3\n",
            "<class 'numpy.ndarray'> <class 'int'>\n",
            "(95550,) 15925\n",
            "160\n",
            "./Processed_Audio/r3N3LCHqjdI.mp3\n",
            "<class 'numpy.ndarray'> <class 'int'>\n",
            "(95550,) 15925\n",
            "160\n",
            "./Processed_Audio/BJsd0c6gi5U.mp3\n",
            "<class 'numpy.ndarray'> <class 'int'>\n",
            "(95550,) 15925\n",
            "160\n",
            "./Processed_Audio/-A9gdf3j2xo.mp3\n",
            "<class 'numpy.ndarray'> <class 'int'>\n",
            "(95550,) 15925\n",
            "160\n",
            "./Processed_Audio/vNs_u_S8pmw.mp3\n",
            "<class 'numpy.ndarray'> <class 'int'>\n",
            "(95550,) 15925\n",
            "160\n",
            "./Processed_Audio/aCHFsX2ze4A.mp3\n",
            "<class 'numpy.ndarray'> <class 'int'>\n",
            "(95550,) 15925\n",
            "160\n",
            "./Processed_Audio/Gqt1A6O6UTk.mp3\n",
            "<class 'numpy.ndarray'> <class 'int'>\n",
            "(95550,) 15925\n",
            "160\n",
            "./Processed_Audio/U_AVbzYkQ3E.mp3\n",
            "<class 'numpy.ndarray'> <class 'int'>\n",
            "(95550,) 15925\n",
            "160\n",
            "./Processed_Audio/gX8qtrFaLs4.mp3\n",
            "<class 'numpy.ndarray'> <class 'int'>\n",
            "(95550,) 15925\n",
            "160\n",
            "./Processed_Audio/WddCvVatDlo.mp3\n",
            "<class 'numpy.ndarray'> <class 'int'>\n",
            "(95550,) 15925\n",
            "160\n",
            "./Processed_Audio/AvWWVOgaMlk.mp3\n",
            "<class 'numpy.ndarray'> <class 'int'>\n",
            "(95550,) 15925\n",
            "160\n",
            "./Processed_Audio/YXcVkIEMGds.mp3\n",
            "<class 'numpy.ndarray'> <class 'int'>\n",
            "(95550,) 15925\n",
            "160\n",
            "./Processed_Audio/qpEzCs23PWE.mp3\n",
            "<class 'numpy.ndarray'> <class 'int'>\n",
            "(95550,) 15925\n",
            "160\n",
            "./Processed_Audio/akwvpAiLFk0.mp3\n",
            "<class 'numpy.ndarray'> <class 'int'>\n",
            "(95550,) 15925\n",
            "160\n",
            "./Processed_Audio/R0u9E8GsUXk.mp3\n",
            "<class 'numpy.ndarray'> <class 'int'>\n",
            "(95550,) 15925\n",
            "160\n"
          ],
          "name": "stdout"
        }
      ]
    },
    {
      "cell_type": "code",
      "metadata": {
        "id": "_4ECZI6FDsBb",
        "colab_type": "code",
        "outputId": "63aad4c2-6081-4373-920a-2607e5405bc9",
        "colab": {
          "base_uri": "https://localhost:8080/",
          "height": 35
        }
      },
      "source": [
        "stft.shape"
      ],
      "execution_count": 40,
      "outputs": [
        {
          "output_type": "execute_result",
          "data": {
            "text/plain": [
              "(257, 598)"
            ]
          },
          "metadata": {
            "tags": []
          },
          "execution_count": 40
        }
      ]
    },
    {
      "cell_type": "code",
      "metadata": {
        "id": "cz-RnOWXbtGP",
        "colab_type": "code",
        "colab": {}
      },
      "source": [
        "# for elem in stft:\n",
        "#   print(elem)"
      ],
      "execution_count": 0,
      "outputs": []
    },
    {
      "cell_type": "code",
      "metadata": {
        "id": "nW6Tl0d9q1pU",
        "colab_type": "code",
        "colab": {}
      },
      "source": [
        "# Todo: For all pickle files in spectogram "
      ],
      "execution_count": 0,
      "outputs": []
    },
    {
      "cell_type": "code",
      "metadata": {
        "id": "T77t_QknmatO",
        "colab_type": "code",
        "colab": {}
      },
      "source": [
        "def get_encoder_network_input(k):\n",
        "  shape_x = k.shape[0]\n",
        "  shape_y = k.shape[1]\n",
        "  mod = np.zeros((shape_x,shape_y))\n",
        "  for i in range(shape_x):\n",
        "    for j in range(shape_y):\n",
        "      mod[i][j] = np.abs(k[i][j])\n",
        "\n",
        "  theta_ = np.zeros((shape_x,shape_y))\n",
        "  for i in range(shape_x):\n",
        "    for j in range(shape_y):\n",
        "      theta_[i][j] = np.angle(k[i][j])\n",
        "\n",
        "  real = np.zeros((shape_x,shape_y))\n",
        "  complex_ = np.zeros((shape_x,shape_y))\n",
        "  for i in range(shape_x):\n",
        "    for j in range(shape_y):\n",
        "      temp = mod[i][j]\n",
        "      real[i][j] = temp * math.cos(complex_[i][j])\n",
        "      complex_[i][j] = temp * math.sin(complex_[i][j])\n",
        "\n",
        "  real = np.expand_dims(real,axis = 0)\n",
        "  complex_ = np.expand_dims(complex_,axis = 0)\n",
        "  combined = np.concatenate((real,complex_))\n",
        "\n",
        "  return combined"
      ],
      "execution_count": 0,
      "outputs": []
    },
    {
      "cell_type": "code",
      "metadata": {
        "id": "APg38HYXms72",
        "colab_type": "code",
        "colab": {
          "base_uri": "https://localhost:8080/",
          "height": 1000
        },
        "outputId": "22d07794-f021-4aa6-92ba-3f1a460a658f"
      },
      "source": [
        "encoder_input = []\n",
        "for elem in os.listdir('./Spectograms/'):\n",
        "  with open('./Spectograms/' + elem,'rb') as f:\n",
        "    print('./Spectograms/' + elem)\n",
        "    k = pickle.load(f)\n",
        "    print(k.shape)\n",
        "\n",
        "  encoder_input.append(np.transpose(get_encoder_network_input(k)))"
      ],
      "execution_count": 42,
      "outputs": [
        {
          "output_type": "stream",
          "text": [
            "./Spectograms/UVDnhj-jZl0.pkl\n",
            "(257, 598)\n",
            "./Spectograms/ibPOxQ7XYPk.pkl\n",
            "(257, 598)\n",
            "./Spectograms/byZdbbWenGs.pkl\n",
            "(257, 598)\n",
            "./Spectograms/QoQF8N5ZsQA.pkl\n",
            "(257, 598)\n",
            "./Spectograms/vNs_u_S8pmw.pkl\n",
            "(257, 598)\n",
            "./Spectograms/qpEzCs23PWE.pkl\n",
            "(257, 598)\n",
            "./Spectograms/5qy9Ujv9XdM.pkl\n",
            "(257, 598)\n",
            "./Spectograms/U_AVbzYkQ3E.pkl\n",
            "(257, 598)\n",
            "./Spectograms/xwxbJkXRJHw.pkl\n",
            "(257, 598)\n",
            "./Spectograms/UBL2Vowiulk.pkl\n",
            "(257, 598)\n",
            "./Spectograms/8nQBG5hvjpk.pkl\n",
            "(257, 598)\n",
            "./Spectograms/8BQxktcqJjU.pkl\n",
            "(257, 598)\n",
            "./Spectograms/oX2WY-uO3tM.pkl\n",
            "(257, 598)\n",
            "./Spectograms/AvWWVOgaMlk.pkl\n",
            "(257, 598)\n",
            "./Spectograms/qzM4wshoqGs.pkl\n",
            "(257, 598)\n",
            "./Spectograms/MZnQ3eZuUAE.pkl\n",
            "(257, 598)\n",
            "./Spectograms/GtM2sM6r3So.pkl\n",
            "(257, 598)\n",
            "./Spectograms/nC3xThn3sBI.pkl\n",
            "(257, 598)\n",
            "./Spectograms/uxCc_3ybp1w.pkl\n",
            "(257, 598)\n",
            "./Spectograms/-A9gdf3j2xo.pkl\n",
            "(257, 598)\n",
            "./Spectograms/awqKt7frvJI.pkl\n",
            "(257, 598)\n",
            "./Spectograms/JjduaMIoKvI.pkl\n",
            "(257, 598)\n",
            "./Spectograms/Y8HMIm8mdns.pkl\n",
            "(257, 598)\n",
            "./Spectograms/2f32XSMYlDk.pkl\n",
            "(257, 598)\n",
            "./Spectograms/QYnLgIsR3bc.pkl\n",
            "(257, 598)\n",
            "./Spectograms/BjvtZkHWExY.pkl\n",
            "(257, 598)\n",
            "./Spectograms/Uu1xVo0CF5o.pkl\n",
            "(257, 598)\n",
            "./Spectograms/7DBdAnTuw5c.pkl\n",
            "(257, 598)\n",
            "./Spectograms/3AsPqH3QaQM.pkl\n",
            "(257, 598)\n",
            "./Spectograms/ksn7GP_hc34.pkl\n",
            "(257, 598)\n",
            "./Spectograms/307DK9nGQhw.pkl\n",
            "(257, 598)\n",
            "./Spectograms/DuWE-CQDlEk.pkl\n",
            "(257, 598)\n",
            "./Spectograms/aaEA__Js2u0.pkl\n",
            "(257, 598)\n",
            "./Spectograms/a2iQ7kB5b6s.pkl\n",
            "(257, 598)\n",
            "./Spectograms/XXtkzCkzA64.pkl\n",
            "(257, 598)\n",
            "./Spectograms/Wl3HSpsiIb4.pkl\n",
            "(257, 598)\n",
            "./Spectograms/gTbBA55oVtA.pkl\n",
            "(257, 598)\n",
            "./Spectograms/G7xm-5aDZyg.pkl\n",
            "(257, 598)\n",
            "./Spectograms/WddCvVatDlo.pkl\n",
            "(257, 598)\n",
            "./Spectograms/sujFCXbYkMo.pkl\n",
            "(257, 598)\n",
            "./Spectograms/alHB2f34oRI.pkl\n",
            "(257, 598)\n",
            "./Spectograms/LcyrfLT2tto.pkl\n",
            "(257, 598)\n",
            "./Spectograms/_8K1hWkirLo.pkl\n",
            "(257, 598)\n",
            "./Spectograms/ma1stzY-hFs.pkl\n",
            "(257, 598)\n",
            "./Spectograms/YOySUCOJUtQ.pkl\n",
            "(257, 598)\n",
            "./Spectograms/BJsd0c6gi5U.pkl\n",
            "(257, 598)\n",
            "./Spectograms/3gcWAZSNi2E.pkl\n",
            "(257, 598)\n",
            "./Spectograms/ohd_xOV6zW4.pkl\n",
            "(257, 598)\n",
            "./Spectograms/lcClO5lHEjA.pkl\n",
            "(257, 598)\n",
            "./Spectograms/447M_WXVZz8.pkl\n",
            "(257, 598)\n",
            "./Spectograms/yeqK6kqoIYk.pkl\n",
            "(257, 598)\n",
            "./Spectograms/wBDD5wTG7P0.pkl\n",
            "(257, 598)\n",
            "./Spectograms/zLSKw9KHI5s.pkl\n",
            "(257, 598)\n",
            "./Spectograms/labiHToR5nk.pkl\n",
            "(257, 598)\n",
            "./Spectograms/tBhx3g7hXNw.pkl\n",
            "(257, 598)\n",
            "./Spectograms/h-fSfAFufCo.pkl\n",
            "(257, 598)\n",
            "./Spectograms/Dtn8xZ3BiGY.pkl\n",
            "(257, 598)\n",
            "./Spectograms/akwvpAiLFk0.pkl\n",
            "(257, 598)\n",
            "./Spectograms/HoeRIgYg9s4.pkl\n",
            "(257, 598)\n",
            "./Spectograms/6LapKTptu8w.pkl\n",
            "(257, 598)\n",
            "./Spectograms/zFH0QbS-l-w.pkl\n",
            "(257, 598)\n",
            "./Spectograms/WfpZPDqNNg0.pkl\n",
            "(257, 598)\n",
            "./Spectograms/M_HcFLa0b1Q.pkl\n",
            "(257, 598)\n",
            "./Spectograms/YXcVkIEMGds.pkl\n",
            "(257, 598)\n",
            "./Spectograms/IrXrbrZWflA.pkl\n",
            "(257, 598)\n",
            "./Spectograms/sU9o6PU_EeY.pkl\n",
            "(257, 598)\n",
            "./Spectograms/9W-s6g88Vhw.pkl\n",
            "(257, 598)\n",
            "./Spectograms/YXHQsV27oO0.pkl\n",
            "(257, 598)\n",
            "./Spectograms/512K2S3De-A.pkl\n",
            "(257, 598)\n",
            "./Spectograms/4dUJVqvs2Qo.pkl\n",
            "(257, 598)\n",
            "./Spectograms/Gqt1A6O6UTk.pkl\n",
            "(257, 598)\n",
            "./Spectograms/gX8qtrFaLs4.pkl\n",
            "(257, 598)\n",
            "./Spectograms/tr4cqD_UEUc.pkl\n",
            "(257, 598)\n",
            "./Spectograms/ipcZj9l2a6o.pkl\n",
            "(257, 598)\n",
            "./Spectograms/DxpQmBfA6vM.pkl\n",
            "(257, 598)\n",
            "./Spectograms/aCHFsX2ze4A.pkl\n",
            "(257, 598)\n",
            "./Spectograms/H2VCPO0isFQ.pkl\n",
            "(257, 598)\n",
            "./Spectograms/ymD5uLlLc0g.pkl\n",
            "(257, 598)\n",
            "./Spectograms/AOoqrXx5BNU.pkl\n",
            "(257, 598)\n",
            "./Spectograms/R0u9E8GsUXk.pkl\n",
            "(257, 598)\n",
            "./Spectograms/r3N3LCHqjdI.pkl\n",
            "(257, 598)\n"
          ],
          "name": "stdout"
        }
      ]
    },
    {
      "cell_type": "code",
      "metadata": {
        "id": "eEFnKuTcnPLP",
        "colab_type": "code",
        "colab": {
          "base_uri": "https://localhost:8080/",
          "height": 35
        },
        "outputId": "d7c21a8d-4965-4e6e-b553-c5913a9ae2c8"
      },
      "source": [
        "len(encoder_input)"
      ],
      "execution_count": 43,
      "outputs": [
        {
          "output_type": "execute_result",
          "data": {
            "text/plain": [
              "81"
            ]
          },
          "metadata": {
            "tags": []
          },
          "execution_count": 43
        }
      ]
    },
    {
      "cell_type": "code",
      "metadata": {
        "id": "Ygv6iaaD2fOV",
        "colab_type": "code",
        "colab": {}
      },
      "source": [
        "# For encoder\n",
        "\n",
        "# Input : encoder input as np array\n",
        "# Output : y_train_encoder\n",
        "\n",
        "# FOr decoder\n",
        "\n",
        "# Input : y_pred_encoder\n",
        "# Output : Images from Images folder"
      ],
      "execution_count": 0,
      "outputs": []
    },
    {
      "cell_type": "code",
      "metadata": {
        "colab_type": "code",
        "id": "bGST87ppGaqI",
        "colab": {}
      },
      "source": [
        "x_enc_train = np.asarray(encoder_input)"
      ],
      "execution_count": 0,
      "outputs": []
    },
    {
      "cell_type": "code",
      "metadata": {
        "id": "GImxxEAK3k-V",
        "colab_type": "code",
        "colab": {
          "base_uri": "https://localhost:8080/",
          "height": 35
        },
        "outputId": "4bcf47b3-a3e8-43f0-aa37-2ba1a3a03013"
      },
      "source": [
        "x_enc_train.shape"
      ],
      "execution_count": 45,
      "outputs": [
        {
          "output_type": "execute_result",
          "data": {
            "text/plain": [
              "(81, 598, 257, 2)"
            ]
          },
          "metadata": {
            "tags": []
          },
          "execution_count": 45
        }
      ]
    },
    {
      "cell_type": "code",
      "metadata": {
        "id": "JtBu-IWVfEK3",
        "colab_type": "code",
        "colab": {
          "base_uri": "https://localhost:8080/",
          "height": 35
        },
        "outputId": "a3e84221-3855-4a6e-b804-aac754d40f64"
      },
      "source": [
        "y_train_encoder.shape"
      ],
      "execution_count": 46,
      "outputs": [
        {
          "output_type": "execute_result",
          "data": {
            "text/plain": [
              "(81, 2048)"
            ]
          },
          "metadata": {
            "tags": []
          },
          "execution_count": 46
        }
      ]
    },
    {
      "cell_type": "code",
      "metadata": {
        "id": "bq5Hjq2YzfKE",
        "colab_type": "code",
        "colab": {}
      },
      "source": [
        "with open(PATH_TO_MAIN + 'Pickles/encoder_trainX_81.pkl','wb') as f:\n",
        "    pickle.dump(x_enc_train,f)"
      ],
      "execution_count": 0,
      "outputs": []
    },
    {
      "cell_type": "code",
      "metadata": {
        "id": "UuZFY0LDzn6U",
        "colab_type": "code",
        "colab": {}
      },
      "source": [
        "with open(PATH_TO_MAIN + 'Pickles/encoder_trainY_81.pkl','wb') as f:\n",
        "    pickle.dump(y_train_encoder,f)"
      ],
      "execution_count": 0,
      "outputs": []
    },
    {
      "cell_type": "code",
      "metadata": {
        "id": "-OwkZwKykJOb",
        "colab_type": "code",
        "colab": {
          "base_uri": "https://localhost:8080/",
          "height": 467
        },
        "outputId": "e2b684ac-9d65-4483-cf8d-5b97932fb6a1"
      },
      "source": [
        "from google.colab import files\n",
        "files.download(PATH_TO_MAIN + 'Pickles/encoder_trainX_81.pkl')"
      ],
      "execution_count": 53,
      "outputs": [
        {
          "output_type": "stream",
          "text": [
            "----------------------------------------\n",
            "Exception happened during processing of request from ('::ffff:127.0.0.1', 51406, 0, 0)\n",
            "Traceback (most recent call last):\n",
            "  File \"/usr/lib/python3.6/socketserver.py\", line 320, in _handle_request_noblock\n",
            "    self.process_request(request, client_address)\n",
            "  File \"/usr/lib/python3.6/socketserver.py\", line 351, in process_request\n",
            "    self.finish_request(request, client_address)\n",
            "  File \"/usr/lib/python3.6/socketserver.py\", line 364, in finish_request\n",
            "    self.RequestHandlerClass(request, client_address, self)\n",
            "  File \"/usr/lib/python3.6/socketserver.py\", line 724, in __init__\n",
            "    self.handle()\n",
            "  File \"/usr/lib/python3.6/http/server.py\", line 418, in handle\n",
            "    self.handle_one_request()\n",
            "  File \"/usr/lib/python3.6/http/server.py\", line 406, in handle_one_request\n",
            "    method()\n",
            "  File \"/usr/lib/python3.6/http/server.py\", line 639, in do_GET\n",
            "    self.copyfile(f, self.wfile)\n",
            "  File \"/usr/lib/python3.6/http/server.py\", line 800, in copyfile\n",
            "    shutil.copyfileobj(source, outputfile)\n",
            "  File \"/usr/lib/python3.6/shutil.py\", line 82, in copyfileobj\n",
            "    fdst.write(buf)\n",
            "  File \"/usr/lib/python3.6/socketserver.py\", line 803, in write\n",
            "    self._sock.sendall(b)\n",
            "ConnectionResetError: [Errno 104] Connection reset by peer\n",
            "----------------------------------------\n"
          ],
          "name": "stderr"
        }
      ]
    },
    {
      "cell_type": "code",
      "metadata": {
        "id": "BtmgZ3qAXPQ6",
        "colab_type": "code",
        "colab": {}
      },
      "source": [
        "!nvidia-smi"
      ],
      "execution_count": 0,
      "outputs": []
    },
    {
      "cell_type": "code",
      "metadata": {
        "id": "sKpl5mdFYkfK",
        "colab_type": "code",
        "colab": {}
      },
      "source": [
        ""
      ],
      "execution_count": 0,
      "outputs": []
    }
  ]
}