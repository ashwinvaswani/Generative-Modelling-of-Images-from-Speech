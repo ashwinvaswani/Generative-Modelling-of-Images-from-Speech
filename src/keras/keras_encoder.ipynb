{
  "nbformat": 4,
  "nbformat_minor": 0,
  "metadata": {
    "colab": {
      "name": "keras_encoder.ipynb",
      "provenance": [],
      "collapsed_sections": [],
      "machine_shape": "hm",
      "include_colab_link": true
    },
    "kernelspec": {
      "name": "python3",
      "display_name": "Python 3"
    },
    "accelerator": "GPU"
  },
  "cells": [
    {
      "cell_type": "markdown",
      "metadata": {
        "id": "view-in-github",
        "colab_type": "text"
      },
      "source": [
        "<a href=\"https://colab.research.google.com/github/ashwinvaswani/Generative-Modelling-of-Images-from-Speech/blob/master/src/keras/keras_encoder.ipynb\" target=\"_parent\"><img src=\"https://colab.research.google.com/assets/colab-badge.svg\" alt=\"Open In Colab\"/></a>"
      ]
    },
    {
      "cell_type": "code",
      "metadata": {
        "id": "vmUyJrpgbjFi",
        "colab_type": "code",
        "colab": {}
      },
      "source": [
        "# For more ram\n",
        "a = []\n",
        "while(True):\n",
        "  a.append('1')"
      ],
      "execution_count": 0,
      "outputs": []
    },
    {
      "cell_type": "code",
      "metadata": {
        "id": "7VsjEybTAkaV",
        "colab_type": "code",
        "colab": {
          "base_uri": "https://localhost:8080/",
          "height": 323
        },
        "outputId": "7992f0c2-a14f-48f7-832d-461d8abe15d3"
      },
      "source": [
        "!nvidia-smi"
      ],
      "execution_count": 1,
      "outputs": [
        {
          "output_type": "stream",
          "text": [
            "Mon Dec 23 15:51:54 2019       \n",
            "+-----------------------------------------------------------------------------+\n",
            "| NVIDIA-SMI 440.44       Driver Version: 418.67       CUDA Version: 10.1     |\n",
            "|-------------------------------+----------------------+----------------------+\n",
            "| GPU  Name        Persistence-M| Bus-Id        Disp.A | Volatile Uncorr. ECC |\n",
            "| Fan  Temp  Perf  Pwr:Usage/Cap|         Memory-Usage | GPU-Util  Compute M. |\n",
            "|===============================+======================+======================|\n",
            "|   0  Tesla P100-PCIE...  Off  | 00000000:00:04.0 Off |                    0 |\n",
            "| N/A   34C    P0    26W / 250W |      0MiB / 16280MiB |      0%      Default |\n",
            "+-------------------------------+----------------------+----------------------+\n",
            "                                                                               \n",
            "+-----------------------------------------------------------------------------+\n",
            "| Processes:                                                       GPU Memory |\n",
            "|  GPU       PID   Type   Process name                             Usage      |\n",
            "|=============================================================================|\n",
            "|  No running processes found                                                 |\n",
            "+-----------------------------------------------------------------------------+\n"
          ],
          "name": "stdout"
        }
      ]
    },
    {
      "cell_type": "code",
      "metadata": {
        "id": "q9p7FXFM_3Q6",
        "colab_type": "code",
        "colab": {
          "base_uri": "https://localhost:8080/",
          "height": 127
        },
        "outputId": "1d2182c7-7fbf-4a29-9808-8effbb775695"
      },
      "source": [
        "from google.colab import drive\n",
        "drive.mount('/content/drive')"
      ],
      "execution_count": 2,
      "outputs": [
        {
          "output_type": "stream",
          "text": [
            "Go to this URL in a browser: https://accounts.google.com/o/oauth2/auth?client_id=947318989803-6bn6qk8qdgf4n4g3pfee6491hc0brc4i.apps.googleusercontent.com&redirect_uri=urn%3aietf%3awg%3aoauth%3a2.0%3aoob&response_type=code&scope=email%20https%3a%2f%2fwww.googleapis.com%2fauth%2fdocs.test%20https%3a%2f%2fwww.googleapis.com%2fauth%2fdrive%20https%3a%2f%2fwww.googleapis.com%2fauth%2fdrive.photos.readonly%20https%3a%2f%2fwww.googleapis.com%2fauth%2fpeopleapi.readonly\n",
            "\n",
            "Enter your authorization code:\n",
            "··········\n",
            "Mounted at /content/drive\n"
          ],
          "name": "stdout"
        }
      ]
    },
    {
      "cell_type": "code",
      "metadata": {
        "id": "7zmkc33yAE_1",
        "colab_type": "code",
        "colab": {
          "base_uri": "https://localhost:8080/",
          "height": 82
        },
        "outputId": "cf46c7e5-621b-4167-8979-a607e293d765"
      },
      "source": [
        "# Importing libraries\n",
        "import os\n",
        "import pickle\n",
        "import numpy as np\n",
        "import pandas as pd\n",
        "\n",
        "from keras import applications\n",
        "from keras.preprocessing.image import ImageDataGenerator\n",
        "from keras import optimizers\n",
        "from keras.optimizers import Adam\n",
        "from keras.models import Sequential, Model\n",
        "from keras.layers import Dense, GlobalAveragePooling2D,AvgPool2D\n",
        "from keras.layers import Activation, Dropout, Flatten, Dense\n",
        "from keras import backend as K\n",
        "import tensorflow as tf\n",
        "from keras.layers import Conv2D,MaxPooling2D,Dropout,Flatten,Dense,BatchNormalization,LeakyReLU,MaxPool2D\n",
        "from keras.models import Sequential\n",
        "from keras.layers import Conv2DTranspose,Reshape"
      ],
      "execution_count": 3,
      "outputs": [
        {
          "output_type": "stream",
          "text": [
            "Using TensorFlow backend.\n"
          ],
          "name": "stderr"
        },
        {
          "output_type": "display_data",
          "data": {
            "text/html": [
              "<p style=\"color: red;\">\n",
              "The default version of TensorFlow in Colab will soon switch to TensorFlow 2.x.<br>\n",
              "We recommend you <a href=\"https://www.tensorflow.org/guide/migrate\" target=\"_blank\">upgrade</a> now \n",
              "or ensure your notebook will continue to use TensorFlow 1.x via the <code>%tensorflow_version 1.x</code> magic:\n",
              "<a href=\"https://colab.research.google.com/notebooks/tensorflow_version.ipynb\" target=\"_blank\">more info</a>.</p>\n"
            ],
            "text/plain": [
              "<IPython.core.display.HTML object>"
            ]
          },
          "metadata": {
            "tags": []
          }
        }
      ]
    },
    {
      "cell_type": "code",
      "metadata": {
        "id": "44Byzt2B_-7X",
        "colab_type": "code",
        "colab": {}
      },
      "source": [
        "PATH = './drive/My Drive/TIP/Dataset/'\n",
        "PATH_TO_MAIN = './drive/My Drive/TIP/'\n",
        "YT_LINK = 'www.youtube.com/watch?v='"
      ],
      "execution_count": 0,
      "outputs": []
    },
    {
      "cell_type": "code",
      "metadata": {
        "id": "J01m65kjANse",
        "colab_type": "code",
        "colab": {}
      },
      "source": [
        "with open(PATH_TO_MAIN + 'Pickles/encoder_trainX_81.pkl','rb') as f:\n",
        "    x_enc_train = pickle.load(f)"
      ],
      "execution_count": 0,
      "outputs": []
    },
    {
      "cell_type": "code",
      "metadata": {
        "id": "uB9hTjr0ADtt",
        "colab_type": "code",
        "colab": {}
      },
      "source": [
        "with open(PATH_TO_MAIN + 'Pickles/encoder_trainY_81.pkl','rb') as f:\n",
        "    y_train_encoder= pickle.load(f)"
      ],
      "execution_count": 0,
      "outputs": []
    },
    {
      "cell_type": "code",
      "metadata": {
        "id": "UFvzAyoDAS7m",
        "colab_type": "code",
        "colab": {
          "base_uri": "https://localhost:8080/",
          "height": 35
        },
        "outputId": "628eaffb-cb5b-444f-cf9d-19c8e3909461"
      },
      "source": [
        "x_enc_train.shape"
      ],
      "execution_count": 7,
      "outputs": [
        {
          "output_type": "execute_result",
          "data": {
            "text/plain": [
              "(81, 598, 257, 2)"
            ]
          },
          "metadata": {
            "tags": []
          },
          "execution_count": 7
        }
      ]
    },
    {
      "cell_type": "code",
      "metadata": {
        "id": "5YcBQUZbAXgW",
        "colab_type": "code",
        "colab": {}
      },
      "source": [
        "from sklearn.model_selection import train_test_split\n",
        "\n",
        "X_train,X_val,y_train,y_val = train_test_split(x_enc_train,y_train_encoder,test_size = 0.1)"
      ],
      "execution_count": 0,
      "outputs": []
    },
    {
      "cell_type": "code",
      "metadata": {
        "id": "1ETKWK3iAZra",
        "colab_type": "code",
        "colab": {
          "base_uri": "https://localhost:8080/",
          "height": 35
        },
        "outputId": "7c110b54-7771-4693-88b1-09b6e799c158"
      },
      "source": [
        "X_train.shape"
      ],
      "execution_count": 11,
      "outputs": [
        {
          "output_type": "execute_result",
          "data": {
            "text/plain": [
              "(72, 598, 257, 2)"
            ]
          },
          "metadata": {
            "tags": []
          },
          "execution_count": 11
        }
      ]
    },
    {
      "cell_type": "code",
      "metadata": {
        "id": "RWZC68JzGqT0",
        "colab_type": "code",
        "colab": {}
      },
      "source": [
        "# from keras import backend as K\n",
        "# def root_mean_squared_error(y_true, y_pred):\n",
        "#         return K.sqrt(K.mean(K.square(y_pred - y_true))) \n",
        "  \n",
        "# def custom_loss(y_pred, y_true):\n",
        "#   y_pred= tf.cast(y_pred, tf.float64) \n",
        "#   y_true= tf.cast(y_true, tf.float64)\n",
        "#   y_pred=tf.nn.relu(y_pred) \n",
        "#   return tf.sqrt(tf.reduce_mean(tf.squared_difference(tf.log1p(y_pred), tf.log1p(y_true))))"
      ],
      "execution_count": 0,
      "outputs": []
    },
    {
      "cell_type": "code",
      "metadata": {
        "id": "OK5HRa0lAbjp",
        "colab_type": "code",
        "colab": {
          "base_uri": "https://localhost:8080/",
          "height": 1000
        },
        "outputId": "ad86ba42-3f04-45a4-884a-edb82876334d"
      },
      "source": [
        "model_encoder = Sequential()\n",
        "model_encoder.add(Conv2D(64, kernel_size=(4,4),strides=(1,1),  input_shape=[598,257,2],use_bias=False))\n",
        "model_encoder.add(LeakyReLU(alpha=0.1))\n",
        "model_encoder.add(BatchNormalization())\n",
        "\n",
        "model_encoder.add(Conv2D(64, kernel_size=(4,4),strides=(1,1), use_bias=False))\n",
        "model_encoder.add(LeakyReLU(alpha=0.1))\n",
        "model_encoder.add(BatchNormalization())\n",
        "\n",
        "model_encoder.add(Conv2D(128, kernel_size=(4,4),strides=(1,1), use_bias=False))\n",
        "model_encoder.add(LeakyReLU(alpha=0.1))\n",
        "model_encoder.add(BatchNormalization())\n",
        "\n",
        "model_encoder.add(MaxPool2D(pool_size=(2,1)))\n",
        "\n",
        "model_encoder.add(Conv2D(128, kernel_size=(4,4),strides=(1,1), use_bias=False))\n",
        "model_encoder.add(LeakyReLU(alpha=0.1))\n",
        "model_encoder.add(BatchNormalization())\n",
        "\n",
        "model_encoder.add(MaxPool2D(pool_size=(2,1)))\n",
        "\n",
        "model_encoder.add(Conv2D(256, kernel_size=(4,4),strides=(1,1), use_bias=False))\n",
        "model_encoder.add(LeakyReLU(alpha=0.1))\n",
        "model_encoder.add(BatchNormalization())\n",
        "\n",
        "model_encoder.add(MaxPool2D(pool_size=(2,1)))\n",
        "\n",
        "model_encoder.add(Conv2D(512, kernel_size=(4,4),strides=(1,1), use_bias=False))\n",
        "model_encoder.add(LeakyReLU(alpha=0.1))\n",
        "model_encoder.add(BatchNormalization())\n",
        " \n",
        "model_encoder.add(Conv2D(512, kernel_size=(4,4),strides=(2,2), use_bias=False))\n",
        "model_encoder.add(LeakyReLU(alpha=0.1))\n",
        "model_encoder.add(BatchNormalization())\n",
        "\n",
        "model_encoder.add(Conv2D(512, kernel_size=(4,4),strides=(2,2), use_bias=False))\n",
        "\n",
        "model_encoder.add(AvgPool2D(pool_size=(15,1),strides = (1,1)))\n",
        "model_encoder.add(LeakyReLU(alpha=0.1))\n",
        "model_encoder.add(BatchNormalization())\n",
        "\n",
        "model_encoder.add(Flatten())\n",
        "model_encoder.add(Dense(4096,activation='relu'))\n",
        "model_encoder.add(Dropout(0.2))\n",
        "\n",
        "model_encoder.add(Dense(2048,activation='relu'))\n",
        "\n",
        "model_encoder.summary()\n"
      ],
      "execution_count": 12,
      "outputs": [
        {
          "output_type": "stream",
          "text": [
            "WARNING:tensorflow:From /usr/local/lib/python3.6/dist-packages/keras/backend/tensorflow_backend.py:66: The name tf.get_default_graph is deprecated. Please use tf.compat.v1.get_default_graph instead.\n",
            "\n",
            "WARNING:tensorflow:From /usr/local/lib/python3.6/dist-packages/keras/backend/tensorflow_backend.py:541: The name tf.placeholder is deprecated. Please use tf.compat.v1.placeholder instead.\n",
            "\n",
            "WARNING:tensorflow:From /usr/local/lib/python3.6/dist-packages/keras/backend/tensorflow_backend.py:4432: The name tf.random_uniform is deprecated. Please use tf.random.uniform instead.\n",
            "\n",
            "WARNING:tensorflow:From /usr/local/lib/python3.6/dist-packages/keras/backend/tensorflow_backend.py:190: The name tf.get_default_session is deprecated. Please use tf.compat.v1.get_default_session instead.\n",
            "\n",
            "WARNING:tensorflow:From /usr/local/lib/python3.6/dist-packages/keras/backend/tensorflow_backend.py:197: The name tf.ConfigProto is deprecated. Please use tf.compat.v1.ConfigProto instead.\n",
            "\n",
            "WARNING:tensorflow:From /usr/local/lib/python3.6/dist-packages/keras/backend/tensorflow_backend.py:203: The name tf.Session is deprecated. Please use tf.compat.v1.Session instead.\n",
            "\n",
            "WARNING:tensorflow:From /usr/local/lib/python3.6/dist-packages/keras/backend/tensorflow_backend.py:207: The name tf.global_variables is deprecated. Please use tf.compat.v1.global_variables instead.\n",
            "\n",
            "WARNING:tensorflow:From /usr/local/lib/python3.6/dist-packages/keras/backend/tensorflow_backend.py:216: The name tf.is_variable_initialized is deprecated. Please use tf.compat.v1.is_variable_initialized instead.\n",
            "\n",
            "WARNING:tensorflow:From /usr/local/lib/python3.6/dist-packages/keras/backend/tensorflow_backend.py:223: The name tf.variables_initializer is deprecated. Please use tf.compat.v1.variables_initializer instead.\n",
            "\n",
            "WARNING:tensorflow:From /usr/local/lib/python3.6/dist-packages/keras/backend/tensorflow_backend.py:2041: The name tf.nn.fused_batch_norm is deprecated. Please use tf.compat.v1.nn.fused_batch_norm instead.\n",
            "\n",
            "WARNING:tensorflow:From /usr/local/lib/python3.6/dist-packages/keras/backend/tensorflow_backend.py:148: The name tf.placeholder_with_default is deprecated. Please use tf.compat.v1.placeholder_with_default instead.\n",
            "\n",
            "WARNING:tensorflow:From /usr/local/lib/python3.6/dist-packages/keras/backend/tensorflow_backend.py:4267: The name tf.nn.max_pool is deprecated. Please use tf.nn.max_pool2d instead.\n",
            "\n",
            "WARNING:tensorflow:From /usr/local/lib/python3.6/dist-packages/keras/backend/tensorflow_backend.py:4271: The name tf.nn.avg_pool is deprecated. Please use tf.nn.avg_pool2d instead.\n",
            "\n",
            "WARNING:tensorflow:From /usr/local/lib/python3.6/dist-packages/keras/backend/tensorflow_backend.py:3733: calling dropout (from tensorflow.python.ops.nn_ops) with keep_prob is deprecated and will be removed in a future version.\n",
            "Instructions for updating:\n",
            "Please use `rate` instead of `keep_prob`. Rate should be set to `rate = 1 - keep_prob`.\n",
            "Model: \"sequential_1\"\n",
            "_________________________________________________________________\n",
            "Layer (type)                 Output Shape              Param #   \n",
            "=================================================================\n",
            "conv2d_1 (Conv2D)            (None, 595, 254, 64)      2048      \n",
            "_________________________________________________________________\n",
            "leaky_re_lu_1 (LeakyReLU)    (None, 595, 254, 64)      0         \n",
            "_________________________________________________________________\n",
            "batch_normalization_1 (Batch (None, 595, 254, 64)      256       \n",
            "_________________________________________________________________\n",
            "conv2d_2 (Conv2D)            (None, 592, 251, 64)      65536     \n",
            "_________________________________________________________________\n",
            "leaky_re_lu_2 (LeakyReLU)    (None, 592, 251, 64)      0         \n",
            "_________________________________________________________________\n",
            "batch_normalization_2 (Batch (None, 592, 251, 64)      256       \n",
            "_________________________________________________________________\n",
            "conv2d_3 (Conv2D)            (None, 589, 248, 128)     131072    \n",
            "_________________________________________________________________\n",
            "leaky_re_lu_3 (LeakyReLU)    (None, 589, 248, 128)     0         \n",
            "_________________________________________________________________\n",
            "batch_normalization_3 (Batch (None, 589, 248, 128)     512       \n",
            "_________________________________________________________________\n",
            "max_pooling2d_1 (MaxPooling2 (None, 294, 248, 128)     0         \n",
            "_________________________________________________________________\n",
            "conv2d_4 (Conv2D)            (None, 291, 245, 128)     262144    \n",
            "_________________________________________________________________\n",
            "leaky_re_lu_4 (LeakyReLU)    (None, 291, 245, 128)     0         \n",
            "_________________________________________________________________\n",
            "batch_normalization_4 (Batch (None, 291, 245, 128)     512       \n",
            "_________________________________________________________________\n",
            "max_pooling2d_2 (MaxPooling2 (None, 145, 245, 128)     0         \n",
            "_________________________________________________________________\n",
            "conv2d_5 (Conv2D)            (None, 142, 242, 256)     524288    \n",
            "_________________________________________________________________\n",
            "leaky_re_lu_5 (LeakyReLU)    (None, 142, 242, 256)     0         \n",
            "_________________________________________________________________\n",
            "batch_normalization_5 (Batch (None, 142, 242, 256)     1024      \n",
            "_________________________________________________________________\n",
            "max_pooling2d_3 (MaxPooling2 (None, 71, 242, 256)      0         \n",
            "_________________________________________________________________\n",
            "conv2d_6 (Conv2D)            (None, 68, 239, 512)      2097152   \n",
            "_________________________________________________________________\n",
            "leaky_re_lu_6 (LeakyReLU)    (None, 68, 239, 512)      0         \n",
            "_________________________________________________________________\n",
            "batch_normalization_6 (Batch (None, 68, 239, 512)      2048      \n",
            "_________________________________________________________________\n",
            "conv2d_7 (Conv2D)            (None, 33, 118, 512)      4194304   \n",
            "_________________________________________________________________\n",
            "leaky_re_lu_7 (LeakyReLU)    (None, 33, 118, 512)      0         \n",
            "_________________________________________________________________\n",
            "batch_normalization_7 (Batch (None, 33, 118, 512)      2048      \n",
            "_________________________________________________________________\n",
            "conv2d_8 (Conv2D)            (None, 15, 58, 512)       4194304   \n",
            "_________________________________________________________________\n",
            "average_pooling2d_1 (Average (None, 1, 58, 512)        0         \n",
            "_________________________________________________________________\n",
            "leaky_re_lu_8 (LeakyReLU)    (None, 1, 58, 512)        0         \n",
            "_________________________________________________________________\n",
            "batch_normalization_8 (Batch (None, 1, 58, 512)        2048      \n",
            "_________________________________________________________________\n",
            "flatten_1 (Flatten)          (None, 29696)             0         \n",
            "_________________________________________________________________\n",
            "dense_1 (Dense)              (None, 4096)              121638912 \n",
            "_________________________________________________________________\n",
            "dropout_1 (Dropout)          (None, 4096)              0         \n",
            "_________________________________________________________________\n",
            "dense_2 (Dense)              (None, 2048)              8390656   \n",
            "=================================================================\n",
            "Total params: 141,509,120\n",
            "Trainable params: 141,504,768\n",
            "Non-trainable params: 4,352\n",
            "_________________________________________________________________\n"
          ],
          "name": "stdout"
        }
      ]
    },
    {
      "cell_type": "code",
      "metadata": {
        "id": "N47niye7AcWp",
        "colab_type": "code",
        "colab": {}
      },
      "source": [
        "model_encoder.compile(loss='mse',optimizer=Adam(lr=1e-3),metrics=['accuracy'])"
      ],
      "execution_count": 0,
      "outputs": []
    },
    {
      "cell_type": "code",
      "metadata": {
        "id": "IL8M9J57Agup",
        "colab_type": "code",
        "colab": {
          "base_uri": "https://localhost:8080/",
          "height": 413
        },
        "outputId": "a1d1b5fd-8068-41ea-ed7c-7b64dce54261"
      },
      "source": [
        "checkpoint_path = \"./cp.ckpt\"\n",
        "checkpoint_dir = os.path.dirname(checkpoint_path)\n",
        "cp_callback = tf.keras.callbacks.ModelCheckpoint(checkpoint_path,\n",
        "                                                 save_weights_only=True,\n",
        "                                                 verbose=1)\n",
        " \n",
        "callbacks = [\n",
        "    tf.keras.callbacks.ReduceLROnPlateau(monitor='val_loss', factor=0.1, patience=5),\n",
        "    tf.keras.callbacks.EarlyStopping(patience=7, monitor='val_loss'),\n",
        "    tf.keras.callbacks.TensorBoard(log_dir='./logs'),\n",
        "    cp_callback\n",
        "]\n",
        " \n",
        " \n",
        "# model_encoder.fit(X_train, y_train, batch_size=2,validation_data=(X_val, y_val), epochs=10 ,verbose=1)\n",
        "model_encoder.fit(x_enc_train,y_train_encoder, batch_size=2,validation_data=(X_val, y_val), epochs=10 ,verbose=1)\n"
      ],
      "execution_count": 18,
      "outputs": [
        {
          "output_type": "stream",
          "text": [
            "Train on 81 samples, validate on 9 samples\n",
            "Epoch 1/10\n",
            "81/81 [==============================] - 16s 198ms/step - loss: 7.2722 - acc: 0.0000e+00 - val_loss: 393.4396 - val_acc: 0.0000e+00\n",
            "Epoch 2/10\n",
            "81/81 [==============================] - 12s 151ms/step - loss: 7.2083 - acc: 0.0000e+00 - val_loss: 7.5202 - val_acc: 0.0000e+00\n",
            "Epoch 3/10\n",
            "81/81 [==============================] - 12s 151ms/step - loss: 7.2115 - acc: 0.0000e+00 - val_loss: 6.9236 - val_acc: 0.0000e+00\n",
            "Epoch 4/10\n",
            "81/81 [==============================] - 12s 151ms/step - loss: 7.2046 - acc: 0.0000e+00 - val_loss: 6.9236 - val_acc: 0.0000e+00\n",
            "Epoch 5/10\n",
            "81/81 [==============================] - 12s 151ms/step - loss: 7.2055 - acc: 0.0000e+00 - val_loss: 6.9236 - val_acc: 0.0000e+00\n",
            "Epoch 6/10\n",
            "81/81 [==============================] - 12s 151ms/step - loss: 7.2254 - acc: 0.0000e+00 - val_loss: 6.9236 - val_acc: 0.0000e+00\n",
            "Epoch 7/10\n",
            "81/81 [==============================] - 12s 151ms/step - loss: 7.2088 - acc: 0.0000e+00 - val_loss: 6.9236 - val_acc: 0.0000e+00\n",
            "Epoch 8/10\n",
            "81/81 [==============================] - 12s 151ms/step - loss: 7.2046 - acc: 0.0000e+00 - val_loss: 6.9236 - val_acc: 0.0000e+00\n",
            "Epoch 9/10\n",
            "81/81 [==============================] - 12s 151ms/step - loss: 7.2044 - acc: 0.0000e+00 - val_loss: 15.6438 - val_acc: 0.0000e+00\n",
            "Epoch 10/10\n",
            "81/81 [==============================] - 12s 151ms/step - loss: 7.2320 - acc: 0.0000e+00 - val_loss: 6.9236 - val_acc: 0.0000e+00\n"
          ],
          "name": "stdout"
        },
        {
          "output_type": "execute_result",
          "data": {
            "text/plain": [
              "<keras.callbacks.History at 0x7f8a55965898>"
            ]
          },
          "metadata": {
            "tags": []
          },
          "execution_count": 18
        }
      ]
    },
    {
      "cell_type": "code",
      "metadata": {
        "id": "N7pOhDAbAiNE",
        "colab_type": "code",
        "colab": {}
      },
      "source": [
        "y_pred_encoder = model_encoder.predict(x_enc_train)\n",
        "with open(PATH_TO_MAIN + 'Pickles/y_pred_encoder_81.pkl','wb') as f:\n",
        "    pickle.dump(y_pred_encoder,f)"
      ],
      "execution_count": 0,
      "outputs": []
    },
    {
      "cell_type": "code",
      "metadata": {
        "id": "zNFE2mJdA5Gy",
        "colab_type": "code",
        "colab": {}
      },
      "source": [
        "model_encoder.save(PATH_TO_MAIN + 'Models/Encoder1_81.h5')"
      ],
      "execution_count": 0,
      "outputs": []
    },
    {
      "cell_type": "code",
      "metadata": {
        "id": "R0FZ2WEbfGz3",
        "colab_type": "code",
        "colab": {}
      },
      "source": [
        ""
      ],
      "execution_count": 0,
      "outputs": []
    }
  ]
}