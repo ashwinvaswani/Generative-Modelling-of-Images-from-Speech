{
  "nbformat": 4,
  "nbformat_minor": 0,
  "metadata": {
    "colab": {
      "name": "keras_encoder.ipynb",
      "provenance": [],
      "collapsed_sections": [],
      "include_colab_link": true
    },
    "kernelspec": {
      "name": "python3",
      "display_name": "Python 3"
    }
  },
  "cells": [
    {
      "cell_type": "markdown",
      "metadata": {
        "id": "view-in-github",
        "colab_type": "text"
      },
      "source": [
        "<a href=\"https://colab.research.google.com/github/ashwinvaswani/Generative-Modelling-of-Images-from-Speech/blob/master/src/keras/keras_encoder.ipynb\" target=\"_parent\"><img src=\"https://colab.research.google.com/assets/colab-badge.svg\" alt=\"Open In Colab\"/></a>"
      ]
    },
    {
      "cell_type": "code",
      "metadata": {
        "id": "7VsjEybTAkaV",
        "colab_type": "code",
        "colab": {}
      },
      "source": [
        "!nvidia-smi"
      ],
      "execution_count": 0,
      "outputs": []
    },
    {
      "cell_type": "code",
      "metadata": {
        "id": "q9p7FXFM_3Q6",
        "colab_type": "code",
        "colab": {}
      },
      "source": [
        "from google.colab import drive\n",
        "drive.mount('/content/drive')"
      ],
      "execution_count": 0,
      "outputs": []
    },
    {
      "cell_type": "code",
      "metadata": {
        "id": "7zmkc33yAE_1",
        "colab_type": "code",
        "colab": {}
      },
      "source": [
        "import os\n",
        "import pickle\n",
        "import numpy as np\n",
        "import pandas as pd\n",
        "\n",
        "from keras import applications\n",
        "from keras.preprocessing.image import ImageDataGenerator\n",
        "from keras import optimizers\n",
        "from keras.optimizers import Adam\n",
        "from keras.models import Sequential, Model\n",
        "from keras.layers import Dense, GlobalAveragePooling2D,AvgPool2D\n",
        "from keras.layers import Activation, Dropout, Flatten, Dense\n",
        "from keras import backend as K\n",
        "import tensorflow as tf\n",
        "from keras.layers import Conv2D,MaxPooling2D,Dropout,Flatten,Dense,BatchNormalization,LeakyReLU,MaxPool2D\n",
        "from keras.models import Sequential\n",
        "from keras.layers import Conv2DTranspose,Reshape"
      ],
      "execution_count": 0,
      "outputs": []
    },
    {
      "cell_type": "code",
      "metadata": {
        "id": "44Byzt2B_-7X",
        "colab_type": "code",
        "colab": {}
      },
      "source": [
        "PATH = './drive/My Drive/TIP/Dataset/'\n",
        "PATH_TO_MAIN = './drive/My Drive/TIP/'\n",
        "YT_LINK = 'www.youtube.com/watch?v='"
      ],
      "execution_count": 0,
      "outputs": []
    },
    {
      "cell_type": "code",
      "metadata": {
        "id": "J01m65kjANse",
        "colab_type": "code",
        "colab": {}
      },
      "source": [
        "with open(PATH_TO_MAIN + 'Pickles/encoder_trainX.pkl','rb') as f:\n",
        "    x_enc_train = pickle.load(f)"
      ],
      "execution_count": 0,
      "outputs": []
    },
    {
      "cell_type": "code",
      "metadata": {
        "id": "uB9hTjr0ADtt",
        "colab_type": "code",
        "colab": {}
      },
      "source": [
        "with open(PATH_TO_MAIN + 'Pickles/encoder_trainY.pkl','rb') as f:\n",
        "    y_train_encoder= pickle.load(f)"
      ],
      "execution_count": 0,
      "outputs": []
    },
    {
      "cell_type": "code",
      "metadata": {
        "id": "UFvzAyoDAS7m",
        "colab_type": "code",
        "colab": {}
      },
      "source": [
        "x_enc_train.shape"
      ],
      "execution_count": 0,
      "outputs": []
    },
    {
      "cell_type": "code",
      "metadata": {
        "id": "5YcBQUZbAXgW",
        "colab_type": "code",
        "colab": {}
      },
      "source": [
        "from sklearn.model_selection import train_test_split\n",
        "\n",
        "X_train,X_val,y_train,y_val = train_test_split(x_enc_train,y_train_encoder,test_size = 0.05)"
      ],
      "execution_count": 0,
      "outputs": []
    },
    {
      "cell_type": "code",
      "metadata": {
        "id": "1ETKWK3iAZra",
        "colab_type": "code",
        "colab": {}
      },
      "source": [
        "X_train.shape"
      ],
      "execution_count": 0,
      "outputs": []
    },
    {
      "cell_type": "code",
      "metadata": {
        "id": "OK5HRa0lAbjp",
        "colab_type": "code",
        "colab": {}
      },
      "source": [
        "model_encoder = Sequential()\n",
        "model_encoder.add(Conv2D(64, kernel_size=(4,4),strides=(1,1),  input_shape=[598,257,2],use_bias=False))\n",
        "model_encoder.add(LeakyReLU(alpha=0.1))\n",
        "model_encoder.add(BatchNormalization())\n",
        "\n",
        "model_encoder.add(Conv2D(64, kernel_size=(4,4),strides=(1,1), use_bias=False))\n",
        "model_encoder.add(LeakyReLU(alpha=0.1))\n",
        "model_encoder.add(BatchNormalization())\n",
        "\n",
        "model_encoder.add(Conv2D(128, kernel_size=(4,4),strides=(1,1), use_bias=False))\n",
        "model_encoder.add(LeakyReLU(alpha=0.1))\n",
        "model_encoder.add(BatchNormalization())\n",
        "\n",
        "model_encoder.add(MaxPool2D(pool_size=(2,1)))\n",
        "\n",
        "model_encoder.add(Conv2D(128, kernel_size=(4,4),strides=(1,1), use_bias=False))\n",
        "model_encoder.add(LeakyReLU(alpha=0.1))\n",
        "model_encoder.add(BatchNormalization())\n",
        "\n",
        "model_encoder.add(MaxPool2D(pool_size=(2,1)))\n",
        "\n",
        "model_encoder.add(Conv2D(256, kernel_size=(4,4),strides=(1,1), use_bias=False))\n",
        "model_encoder.add(LeakyReLU(alpha=0.1))\n",
        "model_encoder.add(BatchNormalization())\n",
        "\n",
        "model_encoder.add(MaxPool2D(pool_size=(2,1)))\n",
        "\n",
        "model_encoder.add(Conv2D(512, kernel_size=(4,4),strides=(1,1), use_bias=False))\n",
        "model_encoder.add(LeakyReLU(alpha=0.1))\n",
        "model_encoder.add(BatchNormalization())\n",
        " \n",
        "model_encoder.add(Conv2D(512, kernel_size=(4,4),strides=(2,2), use_bias=False))\n",
        "model_encoder.add(LeakyReLU(alpha=0.1))\n",
        "model_encoder.add(BatchNormalization())\n",
        "\n",
        "model_encoder.add(Conv2D(512, kernel_size=(4,4),strides=(2,2), use_bias=False))\n",
        "\n",
        "model_encoder.add(AvgPool2D(pool_size=(15,1),strides = (1,1)))\n",
        "model_encoder.add(LeakyReLU(alpha=0.1))\n",
        "model_encoder.add(BatchNormalization())\n",
        "\n",
        "model_encoder.add(Flatten())\n",
        "model_encoder.add(Dense(4096,activation='relu'))\n",
        "model_encoder.add(Dropout(0.2))\n",
        "\n",
        "model_encoder.add(Dense(2048,activation='relu'))\n",
        "\n",
        "model_encoder.summary()\n"
      ],
      "execution_count": 0,
      "outputs": []
    },
    {
      "cell_type": "code",
      "metadata": {
        "id": "N47niye7AcWp",
        "colab_type": "code",
        "colab": {}
      },
      "source": [
        "model_encoder.compile(loss='mse',optimizer=Adam(lr=1e-3),metrics=['accuracy'])"
      ],
      "execution_count": 0,
      "outputs": []
    },
    {
      "cell_type": "code",
      "metadata": {
        "id": "IL8M9J57Agup",
        "colab_type": "code",
        "colab": {}
      },
      "source": [
        "checkpoint_path = \"./cp.ckpt\"\n",
        "checkpoint_dir = os.path.dirname(checkpoint_path)\n",
        "cp_callback = tf.keras.callbacks.ModelCheckpoint(checkpoint_path,\n",
        "                                                 save_weights_only=True,\n",
        "                                                 verbose=1)\n",
        " \n",
        "callbacks = [\n",
        "    tf.keras.callbacks.ReduceLROnPlateau(monitor='val_loss', factor=0.1, patience=5),\n",
        "    tf.keras.callbacks.EarlyStopping(patience=7, monitor='val_loss'),\n",
        "    tf.keras.callbacks.TensorBoard(log_dir='./logs'),\n",
        "    cp_callback\n",
        "]\n",
        " \n",
        " \n",
        "model_encoder.fit(X_train, y_train, batch_size=2,validation_data=(X_val, y_val), epochs=10 ,verbose=1)"
      ],
      "execution_count": 0,
      "outputs": []
    },
    {
      "cell_type": "code",
      "metadata": {
        "id": "N7pOhDAbAiNE",
        "colab_type": "code",
        "colab": {}
      },
      "source": [
        "y_pred_encoder = model_encoder.predict(y_train_encoder)\n",
        "with open(PATH_TO_MAIN + 'Pickles/y_pred_encoder.pkl','wb') as f:\n",
        "    pickle.dump(y_pred_encoder,f)"
      ],
      "execution_count": 0,
      "outputs": []
    },
    {
      "cell_type": "code",
      "metadata": {
        "id": "zNFE2mJdA5Gy",
        "colab_type": "code",
        "colab": {}
      },
      "source": [
        "model_encoder.save(PATH_TO_MAIN + 'Models/Encoder1.h5')"
      ],
      "execution_count": 0,
      "outputs": []
    }
  ]
}