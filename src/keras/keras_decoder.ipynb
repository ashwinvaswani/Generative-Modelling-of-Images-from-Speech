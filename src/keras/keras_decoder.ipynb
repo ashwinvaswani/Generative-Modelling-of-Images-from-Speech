{
  "nbformat": 4,
  "nbformat_minor": 0,
  "metadata": {
    "colab": {
      "name": "keras_decoder.ipynb",
      "provenance": [],
      "machine_shape": "hm",
      "include_colab_link": true
    },
    "kernelspec": {
      "name": "python3",
      "display_name": "Python 3"
    },
    "accelerator": "GPU"
  },
  "cells": [
    {
      "cell_type": "markdown",
      "metadata": {
        "id": "view-in-github",
        "colab_type": "text"
      },
      "source": [
        "<a href=\"https://colab.research.google.com/github/ashwinvaswani/Generative-Modelling-of-Images-from-Speech/blob/master/src/keras/keras_decoder.ipynb\" target=\"_parent\"><img src=\"https://colab.research.google.com/assets/colab-badge.svg\" alt=\"Open In Colab\"/></a>"
      ]
    },
    {
      "cell_type": "code",
      "metadata": {
        "id": "0F8t3S9WBluS",
        "colab_type": "code",
        "colab": {
          "base_uri": "https://localhost:8080/",
          "height": 323
        },
        "outputId": "c5a96e5f-c4e1-4fb9-ea4c-08725f705baf"
      },
      "source": [
        "!nvidia-smi"
      ],
      "execution_count": 1,
      "outputs": [
        {
          "output_type": "stream",
          "text": [
            "Tue Dec 24 16:46:04 2019       \n",
            "+-----------------------------------------------------------------------------+\n",
            "| NVIDIA-SMI 440.44       Driver Version: 418.67       CUDA Version: 10.1     |\n",
            "|-------------------------------+----------------------+----------------------+\n",
            "| GPU  Name        Persistence-M| Bus-Id        Disp.A | Volatile Uncorr. ECC |\n",
            "| Fan  Temp  Perf  Pwr:Usage/Cap|         Memory-Usage | GPU-Util  Compute M. |\n",
            "|===============================+======================+======================|\n",
            "|   0  Tesla P100-PCIE...  Off  | 00000000:00:04.0 Off |                    0 |\n",
            "| N/A   41C    P0    28W / 250W |      0MiB / 16280MiB |      0%      Default |\n",
            "+-------------------------------+----------------------+----------------------+\n",
            "                                                                               \n",
            "+-----------------------------------------------------------------------------+\n",
            "| Processes:                                                       GPU Memory |\n",
            "|  GPU       PID   Type   Process name                             Usage      |\n",
            "|=============================================================================|\n",
            "|  No running processes found                                                 |\n",
            "+-----------------------------------------------------------------------------+\n"
          ],
          "name": "stdout"
        }
      ]
    },
    {
      "cell_type": "code",
      "metadata": {
        "id": "rTtbKv4hyht3",
        "colab_type": "code",
        "colab": {}
      },
      "source": [
        "# a = []\n",
        "# while(True):\n",
        "#   a.append('1')"
      ],
      "execution_count": 0,
      "outputs": []
    },
    {
      "cell_type": "code",
      "metadata": {
        "id": "bwiIPlvuBhvz",
        "colab_type": "code",
        "colab": {
          "base_uri": "https://localhost:8080/",
          "height": 127
        },
        "outputId": "34fa19b7-b044-485e-f47a-d6911f1a3518"
      },
      "source": [
        "from google.colab import drive\n",
        "drive.mount('/content/drive')"
      ],
      "execution_count": 3,
      "outputs": [
        {
          "output_type": "stream",
          "text": [
            "Go to this URL in a browser: https://accounts.google.com/o/oauth2/auth?client_id=947318989803-6bn6qk8qdgf4n4g3pfee6491hc0brc4i.apps.googleusercontent.com&redirect_uri=urn%3aietf%3awg%3aoauth%3a2.0%3aoob&response_type=code&scope=email%20https%3a%2f%2fwww.googleapis.com%2fauth%2fdocs.test%20https%3a%2f%2fwww.googleapis.com%2fauth%2fdrive%20https%3a%2f%2fwww.googleapis.com%2fauth%2fdrive.photos.readonly%20https%3a%2f%2fwww.googleapis.com%2fauth%2fpeopleapi.readonly\n",
            "\n",
            "Enter your authorization code:\n",
            "··········\n",
            "Mounted at /content/drive\n"
          ],
          "name": "stdout"
        }
      ]
    },
    {
      "cell_type": "code",
      "metadata": {
        "id": "vXMeG6-S_Ml-",
        "colab_type": "code",
        "colab": {}
      },
      "source": [
        "import os\n",
        "import pickle\n",
        "import numpy as np\n",
        "import pandas as pd\n",
        "import cv2\n",
        "\n",
        "from keras import applications\n",
        "from keras.preprocessing.image import ImageDataGenerator\n",
        "from keras import optimizers\n",
        "from keras.optimizers import Adam\n",
        "from keras.models import Sequential, Model\n",
        "from keras.layers import Dense, GlobalAveragePooling2D,AvgPool2D\n",
        "from keras.layers import Activation, Dropout, Flatten, Dense\n",
        "from keras import backend as K\n",
        "import tensorflow as tf\n",
        "from keras.layers import Conv2D,MaxPooling2D,Dropout,Flatten,Dense,BatchNormalization,LeakyReLU,MaxPool2D,Conv1D\n",
        "from keras.models import Sequential\n",
        "from keras.layers import Conv2DTranspose,Reshape"
      ],
      "execution_count": 0,
      "outputs": []
    },
    {
      "cell_type": "code",
      "metadata": {
        "id": "UWkpXY-6Bg1B",
        "colab_type": "code",
        "colab": {}
      },
      "source": [
        "PATH = './drive/My Drive/TIP/Dataset/'\n",
        "PATH_TO_MAIN = './drive/My Drive/TIP/'\n",
        "YT_LINK = 'www.youtube.com/watch?v='"
      ],
      "execution_count": 0,
      "outputs": []
    },
    {
      "cell_type": "code",
      "metadata": {
        "id": "SIcr31YQBpPj",
        "colab_type": "code",
        "colab": {}
      },
      "source": [
        "with open(PATH_TO_MAIN + 'Pickles/y_pred_encoder_81.pkl','rb') as f:\n",
        "    x_train_decoder= pickle.load(f)"
      ],
      "execution_count": 0,
      "outputs": []
    },
    {
      "cell_type": "code",
      "metadata": {
        "id": "TJ8D1pj5BSQY",
        "colab_type": "code",
        "colab": {
          "base_uri": "https://localhost:8080/",
          "height": 204
        },
        "outputId": "641f049b-cf4c-4e3c-f8fd-460eafaff60a"
      },
      "source": [
        "filenames = []\n",
        "for elem in os.listdir(PATH_TO_MAIN + './Face_Images'):\n",
        "  filenames.append(elem)\n",
        "\n",
        "decoder_train_df = pd.DataFrame(filenames,columns = ['filename'])\n",
        "decoder_train_df.head()"
      ],
      "execution_count": 9,
      "outputs": [
        {
          "output_type": "execute_result",
          "data": {
            "text/html": [
              "<div>\n",
              "<style scoped>\n",
              "    .dataframe tbody tr th:only-of-type {\n",
              "        vertical-align: middle;\n",
              "    }\n",
              "\n",
              "    .dataframe tbody tr th {\n",
              "        vertical-align: top;\n",
              "    }\n",
              "\n",
              "    .dataframe thead th {\n",
              "        text-align: right;\n",
              "    }\n",
              "</style>\n",
              "<table border=\"1\" class=\"dataframe\">\n",
              "  <thead>\n",
              "    <tr style=\"text-align: right;\">\n",
              "      <th></th>\n",
              "      <th>filename</th>\n",
              "    </tr>\n",
              "  </thead>\n",
              "  <tbody>\n",
              "    <tr>\n",
              "      <th>0</th>\n",
              "      <td>AvWWVOgaMlk.png</td>\n",
              "    </tr>\n",
              "    <tr>\n",
              "      <th>1</th>\n",
              "      <td>Y8HMIm8mdns.png</td>\n",
              "    </tr>\n",
              "    <tr>\n",
              "      <th>2</th>\n",
              "      <td>akwvpAiLFk0.png</td>\n",
              "    </tr>\n",
              "    <tr>\n",
              "      <th>3</th>\n",
              "      <td>ymD5uLlLc0g.png</td>\n",
              "    </tr>\n",
              "    <tr>\n",
              "      <th>4</th>\n",
              "      <td>DuWE-CQDlEk.png</td>\n",
              "    </tr>\n",
              "  </tbody>\n",
              "</table>\n",
              "</div>"
            ],
            "text/plain": [
              "          filename\n",
              "0  AvWWVOgaMlk.png\n",
              "1  Y8HMIm8mdns.png\n",
              "2  akwvpAiLFk0.png\n",
              "3  ymD5uLlLc0g.png\n",
              "4  DuWE-CQDlEk.png"
            ]
          },
          "metadata": {
            "tags": []
          },
          "execution_count": 9
        }
      ]
    },
    {
      "cell_type": "code",
      "metadata": {
        "id": "dwviKZP4zxDw",
        "colab_type": "code",
        "colab": {
          "base_uri": "https://localhost:8080/",
          "height": 35
        },
        "outputId": "cdf30523-1052-45f5-b25c-e23d75315da5"
      },
      "source": [
        "decoder_train_df.shape"
      ],
      "execution_count": 10,
      "outputs": [
        {
          "output_type": "execute_result",
          "data": {
            "text/plain": [
              "(81, 1)"
            ]
          },
          "metadata": {
            "tags": []
          },
          "execution_count": 10
        }
      ]
    },
    {
      "cell_type": "code",
      "metadata": {
        "id": "9SSzpoXYB-mm",
        "colab_type": "code",
        "colab": {}
      },
      "source": [
        "# TODO"
      ],
      "execution_count": 0,
      "outputs": []
    },
    {
      "cell_type": "code",
      "metadata": {
        "id": "EYyFeo_zCAWd",
        "colab_type": "code",
        "colab": {}
      },
      "source": [
        "# Load y_train_decoder from images"
      ],
      "execution_count": 0,
      "outputs": []
    },
    {
      "cell_type": "code",
      "metadata": {
        "id": "NDOVyycqz3D2",
        "colab_type": "code",
        "colab": {
          "base_uri": "https://localhost:8080/",
          "height": 35
        },
        "outputId": "16ad25ca-1fbf-4314-f412-6c5784978aac"
      },
      "source": [
        "y_train_decoder_list = []\n",
        "for elem in os.listdir(PATH_TO_MAIN + './Face_Images'):\n",
        "  img = cv2.imread(PATH_TO_MAIN + './Face_Images/'+elem)\n",
        "  y_train_decoder_list.append(img)\n",
        "\n",
        "len(y_train_decoder_list)"
      ],
      "execution_count": 13,
      "outputs": [
        {
          "output_type": "execute_result",
          "data": {
            "text/plain": [
              "81"
            ]
          },
          "metadata": {
            "tags": []
          },
          "execution_count": 13
        }
      ]
    },
    {
      "cell_type": "code",
      "metadata": {
        "id": "yNaHeKt8z3S6",
        "colab_type": "code",
        "colab": {
          "base_uri": "https://localhost:8080/",
          "height": 35
        },
        "outputId": "86ab27e4-fdbc-4e09-a3ac-b80d6026a15e"
      },
      "source": [
        "y_train_decoder = np.asarray(y_train_decoder_list)\n",
        "y_train_decoder.shape"
      ],
      "execution_count": 15,
      "outputs": [
        {
          "output_type": "execute_result",
          "data": {
            "text/plain": [
              "(81, 224, 224, 3)"
            ]
          },
          "metadata": {
            "tags": []
          },
          "execution_count": 15
        }
      ]
    },
    {
      "cell_type": "code",
      "metadata": {
        "id": "iL2xYUEvCDvI",
        "colab_type": "code",
        "colab": {}
      },
      "source": [
        "# test train split"
      ],
      "execution_count": 0,
      "outputs": []
    },
    {
      "cell_type": "code",
      "metadata": {
        "id": "TpACT37Bz3-s",
        "colab_type": "code",
        "colab": {}
      },
      "source": [
        "from sklearn.model_selection import train_test_split\n",
        "\n",
        "X_train,X_val,y_train,y_val = train_test_split(x_train_decoder,y_train_decoder,test_size = 0.1)"
      ],
      "execution_count": 0,
      "outputs": []
    },
    {
      "cell_type": "code",
      "metadata": {
        "id": "uXhdlfZpz4Aj",
        "colab_type": "code",
        "colab": {
          "base_uri": "https://localhost:8080/",
          "height": 53
        },
        "outputId": "dce4690c-4758-4a2d-e290-963299b66ec5"
      },
      "source": [
        "print(X_train.shape)\n",
        "print(y_train.shape)"
      ],
      "execution_count": 19,
      "outputs": [
        {
          "output_type": "stream",
          "text": [
            "(72, 2048)\n",
            "(72, 224, 224, 3)\n"
          ],
          "name": "stdout"
        }
      ]
    },
    {
      "cell_type": "code",
      "metadata": {
        "id": "oo8zH3QlBW2X",
        "colab_type": "code",
        "colab": {
          "base_uri": "https://localhost:8080/",
          "height": 413
        },
        "outputId": "d551a49d-a18d-4b2c-b5be-7f2fd7c8b851"
      },
      "source": [
        "model_decoder = Sequential()\n",
        "model_decoder.add(Dense(14*14*256,input_shape = [2048],activation='relu'))\n",
        "if K.image_data_format() == 'channels_first':\n",
        "      model_decoder.add(Reshape((256, 14, 14), input_shape=(256 * 14 * 14,)))\n",
        "      bn_axis = 1\n",
        "else:\n",
        "      model_decoder.add(Reshape((14, 14, 256), input_shape=(256 * 14 * 14,)))\n",
        "      bn_axis = -1\n",
        "model_decoder.add(Conv2DTranspose(128,strides=2,kernel_size=2))\n",
        "model_decoder.add(Conv2DTranspose(64,strides=2,kernel_size=2))\n",
        "model_decoder.add(Conv2DTranspose(32,strides=2,kernel_size=2))\n",
        "model_decoder.add(Conv2DTranspose(32,strides=2,kernel_size=2))\n",
        "model_decoder.add(Conv2D(3,strides=1,kernel_size=(1,1)))\n",
        "\n",
        "model_decoder.summary()"
      ],
      "execution_count": 28,
      "outputs": [
        {
          "output_type": "stream",
          "text": [
            "Model: \"sequential_6\"\n",
            "_________________________________________________________________\n",
            "Layer (type)                 Output Shape              Param #   \n",
            "=================================================================\n",
            "dense_6 (Dense)              (None, 50176)             102810624 \n",
            "_________________________________________________________________\n",
            "reshape_6 (Reshape)          (None, 14, 14, 256)       0         \n",
            "_________________________________________________________________\n",
            "conv2d_transpose_21 (Conv2DT (None, 28, 28, 128)       131200    \n",
            "_________________________________________________________________\n",
            "conv2d_transpose_22 (Conv2DT (None, 56, 56, 64)        32832     \n",
            "_________________________________________________________________\n",
            "conv2d_transpose_23 (Conv2DT (None, 112, 112, 32)      8224      \n",
            "_________________________________________________________________\n",
            "conv2d_transpose_24 (Conv2DT (None, 224, 224, 32)      4128      \n",
            "_________________________________________________________________\n",
            "conv2d_2 (Conv2D)            (None, 224, 224, 3)       99        \n",
            "=================================================================\n",
            "Total params: 102,987,107\n",
            "Trainable params: 102,987,107\n",
            "Non-trainable params: 0\n",
            "_________________________________________________________________\n"
          ],
          "name": "stdout"
        }
      ]
    },
    {
      "cell_type": "code",
      "metadata": {
        "id": "BX7H9f1uBZNH",
        "colab_type": "code",
        "colab": {}
      },
      "source": [
        "model_decoder.compile(loss='mae',optimizer=Adam(lr=1e-3),metrics=['accuracy'])"
      ],
      "execution_count": 0,
      "outputs": []
    },
    {
      "cell_type": "code",
      "metadata": {
        "id": "miv4AwKUBa70",
        "colab_type": "code",
        "colab": {
          "base_uri": "https://localhost:8080/",
          "height": 1000
        },
        "outputId": "f326203f-9050-4806-b637-8462ace2c9fe"
      },
      "source": [
        "checkpoint_path = \"./cp.ckpt\"\n",
        "checkpoint_dir = os.path.dirname(checkpoint_path)\n",
        "cp_callback = tf.keras.callbacks.ModelCheckpoint(checkpoint_path,\n",
        "                                                 save_weights_only=True,\n",
        "                                                 verbose=1)\n",
        " \n",
        "callbacks = [\n",
        "    tf.keras.callbacks.ReduceLROnPlateau(monitor='val_loss', factor=0.1, patience=5),\n",
        "    tf.keras.callbacks.EarlyStopping(patience=7, monitor='val_loss'),\n",
        "    tf.keras.callbacks.TensorBoard(log_dir='./logs'),\n",
        "    cp_callback\n",
        "]\n",
        " \n",
        " \n",
        "model_decoder.fit(X_train, y_train, batch_size=4,validation_data=(X_val, y_val), epochs=50 ,verbose=1)"
      ],
      "execution_count": 43,
      "outputs": [
        {
          "output_type": "stream",
          "text": [
            "Train on 72 samples, validate on 9 samples\n",
            "Epoch 1/50\n",
            "72/72 [==============================] - 3s 41ms/step - loss: 47.4729 - acc: 0.8839 - val_loss: 41.9826 - val_acc: 0.9515\n",
            "Epoch 2/50\n",
            "72/72 [==============================] - 1s 11ms/step - loss: 47.3827 - acc: 0.8839 - val_loss: 42.0471 - val_acc: 0.9515\n",
            "Epoch 3/50\n",
            "72/72 [==============================] - 1s 11ms/step - loss: 47.3047 - acc: 0.8839 - val_loss: 41.8564 - val_acc: 0.9515\n",
            "Epoch 4/50\n",
            "72/72 [==============================] - 1s 11ms/step - loss: 47.4520 - acc: 0.8839 - val_loss: 41.9985 - val_acc: 0.9515\n",
            "Epoch 5/50\n",
            "72/72 [==============================] - 1s 11ms/step - loss: 47.9077 - acc: 0.8839 - val_loss: 41.9269 - val_acc: 0.9515\n",
            "Epoch 6/50\n",
            "72/72 [==============================] - 1s 11ms/step - loss: 47.4990 - acc: 0.8839 - val_loss: 41.8485 - val_acc: 0.9515\n",
            "Epoch 7/50\n",
            "72/72 [==============================] - 1s 11ms/step - loss: 47.2394 - acc: 0.8839 - val_loss: 42.2706 - val_acc: 0.9515\n",
            "Epoch 8/50\n",
            "72/72 [==============================] - 1s 11ms/step - loss: 47.2702 - acc: 0.8839 - val_loss: 42.0959 - val_acc: 0.9515\n",
            "Epoch 9/50\n",
            "72/72 [==============================] - 1s 11ms/step - loss: 47.2459 - acc: 0.8839 - val_loss: 41.9060 - val_acc: 0.9515\n",
            "Epoch 10/50\n",
            "72/72 [==============================] - 1s 11ms/step - loss: 47.4335 - acc: 0.8839 - val_loss: 42.1008 - val_acc: 0.9515\n",
            "Epoch 11/50\n",
            "72/72 [==============================] - 1s 11ms/step - loss: 47.4225 - acc: 0.8839 - val_loss: 41.8517 - val_acc: 0.9515\n",
            "Epoch 12/50\n",
            "72/72 [==============================] - 1s 11ms/step - loss: 47.2929 - acc: 0.8839 - val_loss: 42.0435 - val_acc: 0.9515\n",
            "Epoch 13/50\n",
            "72/72 [==============================] - 1s 11ms/step - loss: 47.2674 - acc: 0.8839 - val_loss: 41.9257 - val_acc: 0.9515\n",
            "Epoch 14/50\n",
            "72/72 [==============================] - 1s 11ms/step - loss: 47.2286 - acc: 0.8839 - val_loss: 41.9242 - val_acc: 0.9515\n",
            "Epoch 15/50\n",
            "72/72 [==============================] - 1s 11ms/step - loss: 47.4020 - acc: 0.8839 - val_loss: 41.8591 - val_acc: 0.9515\n",
            "Epoch 16/50\n",
            "72/72 [==============================] - 1s 11ms/step - loss: 47.3550 - acc: 0.8839 - val_loss: 41.8911 - val_acc: 0.9515\n",
            "Epoch 17/50\n",
            "72/72 [==============================] - 1s 11ms/step - loss: 47.0656 - acc: 0.8839 - val_loss: 42.2015 - val_acc: 0.9515\n",
            "Epoch 18/50\n",
            "72/72 [==============================] - 1s 11ms/step - loss: 47.3545 - acc: 0.8839 - val_loss: 42.0543 - val_acc: 0.9515\n",
            "Epoch 19/50\n",
            "72/72 [==============================] - 1s 11ms/step - loss: 47.5442 - acc: 0.8839 - val_loss: 42.0431 - val_acc: 0.9515\n",
            "Epoch 20/50\n",
            "72/72 [==============================] - 1s 11ms/step - loss: 47.2998 - acc: 0.8839 - val_loss: 41.8551 - val_acc: 0.9515\n",
            "Epoch 21/50\n",
            "72/72 [==============================] - 1s 11ms/step - loss: 47.4103 - acc: 0.8839 - val_loss: 42.0283 - val_acc: 0.9515\n",
            "Epoch 22/50\n",
            "72/72 [==============================] - 1s 11ms/step - loss: 47.2343 - acc: 0.8839 - val_loss: 42.2346 - val_acc: 0.9515\n",
            "Epoch 23/50\n",
            "72/72 [==============================] - 1s 11ms/step - loss: 47.1722 - acc: 0.8839 - val_loss: 41.8410 - val_acc: 0.9515\n",
            "Epoch 24/50\n",
            "72/72 [==============================] - 1s 11ms/step - loss: 47.2044 - acc: 0.8839 - val_loss: 41.9730 - val_acc: 0.9515\n",
            "Epoch 25/50\n",
            "72/72 [==============================] - 1s 11ms/step - loss: 48.0985 - acc: 0.8839 - val_loss: 42.7792 - val_acc: 0.9515\n",
            "Epoch 26/50\n",
            "72/72 [==============================] - 1s 11ms/step - loss: 47.5779 - acc: 0.8839 - val_loss: 41.8779 - val_acc: 0.9515\n",
            "Epoch 27/50\n",
            "72/72 [==============================] - 1s 11ms/step - loss: 47.4153 - acc: 0.8839 - val_loss: 41.8606 - val_acc: 0.9515\n",
            "Epoch 28/50\n",
            "72/72 [==============================] - 1s 11ms/step - loss: 47.4276 - acc: 0.8839 - val_loss: 41.8682 - val_acc: 0.9515\n",
            "Epoch 29/50\n",
            "72/72 [==============================] - 1s 11ms/step - loss: 47.2975 - acc: 0.8839 - val_loss: 41.9085 - val_acc: 0.9515\n",
            "Epoch 30/50\n",
            "72/72 [==============================] - 1s 11ms/step - loss: 47.1577 - acc: 0.8839 - val_loss: 42.0106 - val_acc: 0.9515\n",
            "Epoch 31/50\n",
            "72/72 [==============================] - 1s 11ms/step - loss: 47.1452 - acc: 0.8839 - val_loss: 41.9530 - val_acc: 0.9515\n",
            "Epoch 32/50\n",
            "72/72 [==============================] - 1s 11ms/step - loss: 47.3057 - acc: 0.8839 - val_loss: 42.0186 - val_acc: 0.9515\n",
            "Epoch 33/50\n",
            "72/72 [==============================] - 1s 11ms/step - loss: 47.4616 - acc: 0.8839 - val_loss: 41.9037 - val_acc: 0.9515\n",
            "Epoch 34/50\n",
            "72/72 [==============================] - 1s 11ms/step - loss: 47.3944 - acc: 0.8839 - val_loss: 42.1545 - val_acc: 0.9515\n",
            "Epoch 35/50\n",
            "72/72 [==============================] - 1s 11ms/step - loss: 47.1540 - acc: 0.8839 - val_loss: 41.9249 - val_acc: 0.9515\n",
            "Epoch 36/50\n",
            "72/72 [==============================] - 1s 11ms/step - loss: 47.2703 - acc: 0.8839 - val_loss: 41.9118 - val_acc: 0.9515\n",
            "Epoch 37/50\n",
            "72/72 [==============================] - 1s 11ms/step - loss: 47.2541 - acc: 0.8839 - val_loss: 42.0650 - val_acc: 0.9515\n",
            "Epoch 38/50\n",
            "72/72 [==============================] - 1s 11ms/step - loss: 47.3922 - acc: 0.8839 - val_loss: 42.1068 - val_acc: 0.9515\n",
            "Epoch 39/50\n",
            "72/72 [==============================] - 1s 11ms/step - loss: 47.4371 - acc: 0.8839 - val_loss: 41.9403 - val_acc: 0.9515\n",
            "Epoch 40/50\n",
            "72/72 [==============================] - 1s 11ms/step - loss: 47.3584 - acc: 0.8839 - val_loss: 42.0732 - val_acc: 0.9515\n",
            "Epoch 41/50\n",
            "72/72 [==============================] - 1s 11ms/step - loss: 47.7866 - acc: 0.8839 - val_loss: 42.2674 - val_acc: 0.9515\n",
            "Epoch 42/50\n",
            "72/72 [==============================] - 1s 11ms/step - loss: 47.4694 - acc: 0.8839 - val_loss: 42.1005 - val_acc: 0.9515\n",
            "Epoch 43/50\n",
            "72/72 [==============================] - 1s 11ms/step - loss: 47.3424 - acc: 0.8839 - val_loss: 41.9994 - val_acc: 0.9515\n",
            "Epoch 44/50\n",
            "72/72 [==============================] - 1s 11ms/step - loss: 47.4982 - acc: 0.8839 - val_loss: 41.9919 - val_acc: 0.9515\n",
            "Epoch 45/50\n",
            "72/72 [==============================] - 1s 11ms/step - loss: 47.6427 - acc: 0.8839 - val_loss: 42.0541 - val_acc: 0.9515\n",
            "Epoch 46/50\n",
            "72/72 [==============================] - 1s 11ms/step - loss: 47.2835 - acc: 0.8839 - val_loss: 42.1996 - val_acc: 0.9515\n",
            "Epoch 47/50\n",
            "72/72 [==============================] - 1s 11ms/step - loss: 47.5163 - acc: 0.8839 - val_loss: 42.0715 - val_acc: 0.9515\n",
            "Epoch 48/50\n",
            "72/72 [==============================] - 1s 11ms/step - loss: 47.5278 - acc: 0.8839 - val_loss: 41.8113 - val_acc: 0.9515\n",
            "Epoch 49/50\n",
            "72/72 [==============================] - 1s 11ms/step - loss: 47.6311 - acc: 0.8839 - val_loss: 42.4609 - val_acc: 0.9515\n",
            "Epoch 50/50\n",
            "72/72 [==============================] - 1s 11ms/step - loss: 47.4360 - acc: 0.8839 - val_loss: 42.0399 - val_acc: 0.9515\n"
          ],
          "name": "stdout"
        },
        {
          "output_type": "execute_result",
          "data": {
            "text/plain": [
              "<keras.callbacks.History at 0x7f4bbcbfcc88>"
            ]
          },
          "metadata": {
            "tags": []
          },
          "execution_count": 43
        }
      ]
    },
    {
      "cell_type": "code",
      "metadata": {
        "id": "TPtJt5mECGQp",
        "colab_type": "code",
        "colab": {}
      },
      "source": [
        "decoder_y_pred = model_decoder.predict(X_val)"
      ],
      "execution_count": 0,
      "outputs": []
    },
    {
      "cell_type": "code",
      "metadata": {
        "id": "KmdT8s2F3R95",
        "colab_type": "code",
        "colab": {
          "base_uri": "https://localhost:8080/",
          "height": 465
        },
        "outputId": "8d5c8469-5416-41fc-c958-4bb2e540b708"
      },
      "source": [
        "from google.colab.patches import cv2_imshow\n",
        "cv2_imshow(y_val[0])\n",
        "cv2_imshow(decoder_y_pred[0])"
      ],
      "execution_count": 50,
      "outputs": [
        {
          "output_type": "display_data",
          "data": {
            "image/png": "[encoded data removed]",
            "text/plain": [
              "<PIL.Image.Image image mode=RGB size=224x224 at 0x7F4BBCBE3D30>"
            ]
          },
          "metadata": {
            "tags": []
          }
        },
        {
          "output_type": "display_data",
          "data": {
            "image/png": "[encoded data removed]",
            "text/plain": [
              "<PIL.Image.Image image mode=RGB size=224x224 at 0x7F4B9C23FBA8>"
            ]
          },
          "metadata": {
            "tags": []
          }
        }
      ]
    },
    {
      "cell_type": "code",
      "metadata": {
        "id": "rBZd8hxXCGbc",
        "colab_type": "code",
        "colab": {}
      },
      "source": [
        "model_decoder.save(PATH_TO_MAIN + 'Models/Decoder1_81.h5')"
      ],
      "execution_count": 0,
      "outputs": []
    }
  ]
}